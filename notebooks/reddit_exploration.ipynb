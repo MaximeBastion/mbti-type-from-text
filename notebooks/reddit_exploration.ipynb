{
 "cells": [
  {
   "cell_type": "markdown",
   "id": "conscious-failure",
   "metadata": {},
   "source": [
    "# 1. Data Preparation"
   ]
  },
  {
   "cell_type": "code",
   "execution_count": 18,
   "id": "continental-environment",
   "metadata": {},
   "outputs": [],
   "source": [
    "import os\n",
    "import sys\n",
    "sys.path.insert(0, os.path.abspath('../'))\n",
    "from mbti_type_from_text.db_utils import create_connection\n",
    "import pandas as pd\n",
    "import plotly.express as px\n",
    "import re\n",
    "import numpy as np"
   ]
  },
  {
   "cell_type": "code",
   "execution_count": 19,
   "id": "suspended-hello",
   "metadata": {},
   "outputs": [],
   "source": [
    "db_connection = create_connection(\"../data/reddit.db\")"
   ]
  },
  {
   "cell_type": "code",
   "execution_count": 20,
   "id": "assigned-norfolk",
   "metadata": {},
   "outputs": [],
   "source": [
    "comments_df = pd.read_sql(sql=\"SELECT * FROM Comments\", con=db_connection)"
   ]
  },
  {
   "cell_type": "code",
   "execution_count": 21,
   "id": "gentle-brazilian",
   "metadata": {},
   "outputs": [
    {
     "data": {
      "text/html": [
       "<div>\n",
       "<style scoped>\n",
       "    .dataframe tbody tr th:only-of-type {\n",
       "        vertical-align: middle;\n",
       "    }\n",
       "\n",
       "    .dataframe tbody tr th {\n",
       "        vertical-align: top;\n",
       "    }\n",
       "\n",
       "    .dataframe thead th {\n",
       "        text-align: right;\n",
       "    }\n",
       "</style>\n",
       "<table border=\"1\" class=\"dataframe\">\n",
       "  <thead>\n",
       "    <tr style=\"text-align: right;\">\n",
       "      <th></th>\n",
       "      <th>id</th>\n",
       "      <th>user_id</th>\n",
       "      <th>parent_comment_id</th>\n",
       "      <th>title</th>\n",
       "      <th>content</th>\n",
       "      <th>created_datetime</th>\n",
       "      <th>upvotes</th>\n",
       "      <th>subreddit</th>\n",
       "    </tr>\n",
       "  </thead>\n",
       "  <tbody>\n",
       "    <tr>\n",
       "      <th>0</th>\n",
       "      <td>ltmgwm</td>\n",
       "      <td>6i0rnp1p</td>\n",
       "      <td></td>\n",
       "      <td>Always felt different and misunderstood by family</td>\n",
       "      <td>I am an INFJ female, with no INFJ’s in my fami...</td>\n",
       "      <td>2021-02-27 12:45:56</td>\n",
       "      <td>271</td>\n",
       "      <td>infj</td>\n",
       "    </tr>\n",
       "    <tr>\n",
       "      <th>1</th>\n",
       "      <td>gozeenz</td>\n",
       "      <td>1s8dnq6p</td>\n",
       "      <td>ltmgwm</td>\n",
       "      <td></td>\n",
       "      <td>Yupppp. No one understands me in my family. I ...</td>\n",
       "      <td>2021-02-27 13:02:48</td>\n",
       "      <td>85</td>\n",
       "      <td>infj</td>\n",
       "    </tr>\n",
       "    <tr>\n",
       "      <th>2</th>\n",
       "      <td>gp0l91l</td>\n",
       "      <td>b708k</td>\n",
       "      <td>gozeenz</td>\n",
       "      <td></td>\n",
       "      <td>Same. Doing my own thing whether it's outside ...</td>\n",
       "      <td>2021-02-27 16:04:27</td>\n",
       "      <td>30</td>\n",
       "      <td>infj</td>\n",
       "    </tr>\n",
       "    <tr>\n",
       "      <th>3</th>\n",
       "      <td>gp0ffo6</td>\n",
       "      <td>mkfu3</td>\n",
       "      <td>ltmgwm</td>\n",
       "      <td></td>\n",
       "      <td>I moved across the country straight out of col...</td>\n",
       "      <td>2021-02-27 15:40:01</td>\n",
       "      <td>46</td>\n",
       "      <td>infj</td>\n",
       "    </tr>\n",
       "    <tr>\n",
       "      <th>4</th>\n",
       "      <td>gp0g9eh</td>\n",
       "      <td>vh9kmmx</td>\n",
       "      <td>gp0ffo6</td>\n",
       "      <td></td>\n",
       "      <td>Are you me?  I thought I was the only weirdo w...</td>\n",
       "      <td>2021-02-27 15:43:01</td>\n",
       "      <td>18</td>\n",
       "      <td>infj</td>\n",
       "    </tr>\n",
       "  </tbody>\n",
       "</table>\n",
       "</div>"
      ],
      "text/plain": [
       "        id   user_id parent_comment_id  \\\n",
       "0   ltmgwm  6i0rnp1p                     \n",
       "1  gozeenz  1s8dnq6p            ltmgwm   \n",
       "2  gp0l91l     b708k           gozeenz   \n",
       "3  gp0ffo6     mkfu3            ltmgwm   \n",
       "4  gp0g9eh   vh9kmmx           gp0ffo6   \n",
       "\n",
       "                                               title  \\\n",
       "0  Always felt different and misunderstood by family   \n",
       "1                                                      \n",
       "2                                                      \n",
       "3                                                      \n",
       "4                                                      \n",
       "\n",
       "                                             content     created_datetime  \\\n",
       "0  I am an INFJ female, with no INFJ’s in my fami...  2021-02-27 12:45:56   \n",
       "1  Yupppp. No one understands me in my family. I ...  2021-02-27 13:02:48   \n",
       "2  Same. Doing my own thing whether it's outside ...  2021-02-27 16:04:27   \n",
       "3  I moved across the country straight out of col...  2021-02-27 15:40:01   \n",
       "4  Are you me?  I thought I was the only weirdo w...  2021-02-27 15:43:01   \n",
       "\n",
       "   upvotes subreddit  \n",
       "0      271      infj  \n",
       "1       85      infj  \n",
       "2       30      infj  \n",
       "3       46      infj  \n",
       "4       18      infj  "
      ]
     },
     "execution_count": 21,
     "metadata": {},
     "output_type": "execute_result"
    }
   ],
   "source": [
    "comments_df.head()"
   ]
  },
  {
   "cell_type": "code",
   "execution_count": 22,
   "id": "unique-mineral",
   "metadata": {},
   "outputs": [],
   "source": [
    "users_df = pd.read_sql(sql=\"SELECT * FROM Users\", con=db_connection)"
   ]
  },
  {
   "cell_type": "code",
   "execution_count": 23,
   "id": "through-occupation",
   "metadata": {},
   "outputs": [
    {
     "data": {
      "text/html": [
       "<div>\n",
       "<style scoped>\n",
       "    .dataframe tbody tr th:only-of-type {\n",
       "        vertical-align: middle;\n",
       "    }\n",
       "\n",
       "    .dataframe tbody tr th {\n",
       "        vertical-align: top;\n",
       "    }\n",
       "\n",
       "    .dataframe thead th {\n",
       "        text-align: right;\n",
       "    }\n",
       "</style>\n",
       "<table border=\"1\" class=\"dataframe\">\n",
       "  <thead>\n",
       "    <tr style=\"text-align: right;\">\n",
       "      <th></th>\n",
       "      <th>id</th>\n",
       "      <th>name</th>\n",
       "      <th>flair_text</th>\n",
       "    </tr>\n",
       "  </thead>\n",
       "  <tbody>\n",
       "    <tr>\n",
       "      <th>0</th>\n",
       "      <td>6i0rnp1p</td>\n",
       "      <td>igid221</td>\n",
       "      <td></td>\n",
       "    </tr>\n",
       "    <tr>\n",
       "      <th>1</th>\n",
       "      <td>1s8dnq6p</td>\n",
       "      <td>Sheilaahmad</td>\n",
       "      <td></td>\n",
       "    </tr>\n",
       "    <tr>\n",
       "      <th>2</th>\n",
       "      <td>b708k</td>\n",
       "      <td>lzkbloodmage</td>\n",
       "      <td>INFJ-T 4w5 HSP HSS Empath | 26M SG</td>\n",
       "    </tr>\n",
       "    <tr>\n",
       "      <th>3</th>\n",
       "      <td>mkfu3</td>\n",
       "      <td>ShannyPantsxo</td>\n",
       "      <td></td>\n",
       "    </tr>\n",
       "    <tr>\n",
       "      <th>4</th>\n",
       "      <td>vh9kmmx</td>\n",
       "      <td>lala2love</td>\n",
       "      <td></td>\n",
       "    </tr>\n",
       "  </tbody>\n",
       "</table>\n",
       "</div>"
      ],
      "text/plain": [
       "         id           name                          flair_text\n",
       "0  6i0rnp1p        igid221                                    \n",
       "1  1s8dnq6p    Sheilaahmad                                    \n",
       "2     b708k   lzkbloodmage  INFJ-T 4w5 HSP HSS Empath | 26M SG\n",
       "3     mkfu3  ShannyPantsxo                                    \n",
       "4   vh9kmmx      lala2love                                    "
      ]
     },
     "execution_count": 23,
     "metadata": {},
     "output_type": "execute_result"
    }
   ],
   "source": [
    "users_df.head()"
   ]
  },
  {
   "cell_type": "code",
   "execution_count": 24,
   "id": "wrong-armor",
   "metadata": {},
   "outputs": [],
   "source": [
    "def unbold_text(string):\n",
    "    unbolded_string = \"\"\n",
    "    for c in string:\n",
    "        int_code = ord(c)\n",
    "        if int_code >= ord(\"𝐀\") and int_code <= ord(\"𝐙\"):\n",
    "            unbolded_string += chr(int_code - 119743)\n",
    "        else:\n",
    "            unbolded_string += c\n",
    "    return unbolded_string\n",
    "\n",
    "\n",
    "def extract_mbti_from_flair_text(df):\n",
    "    regex = r\"((I|E|X)(S|N|X)(F|T|X)(J|P|X))\"\n",
    "    return df[\"flair_text\"].str.upper().apply(unbold_text).str.extract(regex)[0]\n",
    "\n",
    "\n",
    "users_df[\"mbti_type\"] = extract_mbti_from_flair_text(df=users_df)"
   ]
  },
  {
   "cell_type": "code",
   "execution_count": 25,
   "id": "progressive-inspiration",
   "metadata": {},
   "outputs": [
    {
     "data": {
      "text/html": [
       "<div>\n",
       "<style scoped>\n",
       "    .dataframe tbody tr th:only-of-type {\n",
       "        vertical-align: middle;\n",
       "    }\n",
       "\n",
       "    .dataframe tbody tr th {\n",
       "        vertical-align: top;\n",
       "    }\n",
       "\n",
       "    .dataframe thead th {\n",
       "        text-align: right;\n",
       "    }\n",
       "</style>\n",
       "<table border=\"1\" class=\"dataframe\">\n",
       "  <thead>\n",
       "    <tr style=\"text-align: right;\">\n",
       "      <th></th>\n",
       "      <th>id</th>\n",
       "      <th>name</th>\n",
       "      <th>flair_text</th>\n",
       "      <th>mbti_type</th>\n",
       "    </tr>\n",
       "  </thead>\n",
       "  <tbody>\n",
       "    <tr>\n",
       "      <th>0</th>\n",
       "      <td>6i0rnp1p</td>\n",
       "      <td>igid221</td>\n",
       "      <td></td>\n",
       "      <td>NaN</td>\n",
       "    </tr>\n",
       "    <tr>\n",
       "      <th>1</th>\n",
       "      <td>1s8dnq6p</td>\n",
       "      <td>Sheilaahmad</td>\n",
       "      <td></td>\n",
       "      <td>NaN</td>\n",
       "    </tr>\n",
       "    <tr>\n",
       "      <th>2</th>\n",
       "      <td>b708k</td>\n",
       "      <td>lzkbloodmage</td>\n",
       "      <td>INFJ-T 4w5 HSP HSS Empath | 26M SG</td>\n",
       "      <td>INFJ</td>\n",
       "    </tr>\n",
       "    <tr>\n",
       "      <th>3</th>\n",
       "      <td>mkfu3</td>\n",
       "      <td>ShannyPantsxo</td>\n",
       "      <td></td>\n",
       "      <td>NaN</td>\n",
       "    </tr>\n",
       "    <tr>\n",
       "      <th>4</th>\n",
       "      <td>vh9kmmx</td>\n",
       "      <td>lala2love</td>\n",
       "      <td></td>\n",
       "      <td>NaN</td>\n",
       "    </tr>\n",
       "    <tr>\n",
       "      <th>...</th>\n",
       "      <td>...</td>\n",
       "      <td>...</td>\n",
       "      <td>...</td>\n",
       "      <td>...</td>\n",
       "    </tr>\n",
       "    <tr>\n",
       "      <th>4806</th>\n",
       "      <td>2k93qy2z</td>\n",
       "      <td>krystalzhhf</td>\n",
       "      <td>INFP</td>\n",
       "      <td>INFP</td>\n",
       "    </tr>\n",
       "    <tr>\n",
       "      <th>4807</th>\n",
       "      <td>pktgyjt</td>\n",
       "      <td>Squamply</td>\n",
       "      <td></td>\n",
       "      <td>NaN</td>\n",
       "    </tr>\n",
       "    <tr>\n",
       "      <th>4808</th>\n",
       "      <td>76fgxdug</td>\n",
       "      <td>LoviEnthusiast</td>\n",
       "      <td></td>\n",
       "      <td>NaN</td>\n",
       "    </tr>\n",
       "    <tr>\n",
       "      <th>4809</th>\n",
       "      <td>sh56t</td>\n",
       "      <td>sotaponi</td>\n",
       "      <td></td>\n",
       "      <td>NaN</td>\n",
       "    </tr>\n",
       "    <tr>\n",
       "      <th>4810</th>\n",
       "      <td>1jceigvp</td>\n",
       "      <td>NeedMoreKowbell</td>\n",
       "      <td></td>\n",
       "      <td>NaN</td>\n",
       "    </tr>\n",
       "  </tbody>\n",
       "</table>\n",
       "<p>4811 rows × 4 columns</p>\n",
       "</div>"
      ],
      "text/plain": [
       "            id             name                          flair_text mbti_type\n",
       "0     6i0rnp1p          igid221                                           NaN\n",
       "1     1s8dnq6p      Sheilaahmad                                           NaN\n",
       "2        b708k     lzkbloodmage  INFJ-T 4w5 HSP HSS Empath | 26M SG      INFJ\n",
       "3        mkfu3    ShannyPantsxo                                           NaN\n",
       "4      vh9kmmx        lala2love                                           NaN\n",
       "...        ...              ...                                 ...       ...\n",
       "4806  2k93qy2z      krystalzhhf                                INFP      INFP\n",
       "4807   pktgyjt         Squamply                                           NaN\n",
       "4808  76fgxdug   LoviEnthusiast                                           NaN\n",
       "4809     sh56t         sotaponi                                           NaN\n",
       "4810  1jceigvp  NeedMoreKowbell                                           NaN\n",
       "\n",
       "[4811 rows x 4 columns]"
      ]
     },
     "execution_count": 25,
     "metadata": {},
     "output_type": "execute_result"
    }
   ],
   "source": [
    "users_df"
   ]
  },
  {
   "cell_type": "code",
   "execution_count": 26,
   "id": "inclusive-complexity",
   "metadata": {},
   "outputs": [
    {
     "data": {
      "text/html": [
       "<div>\n",
       "<style scoped>\n",
       "    .dataframe tbody tr th:only-of-type {\n",
       "        vertical-align: middle;\n",
       "    }\n",
       "\n",
       "    .dataframe tbody tr th {\n",
       "        vertical-align: top;\n",
       "    }\n",
       "\n",
       "    .dataframe thead th {\n",
       "        text-align: right;\n",
       "    }\n",
       "</style>\n",
       "<table border=\"1\" class=\"dataframe\">\n",
       "  <thead>\n",
       "    <tr style=\"text-align: right;\">\n",
       "      <th></th>\n",
       "      <th>id</th>\n",
       "      <th>name</th>\n",
       "      <th>flair_text</th>\n",
       "      <th>mbti_type</th>\n",
       "    </tr>\n",
       "  </thead>\n",
       "  <tbody>\n",
       "    <tr>\n",
       "      <th>2304</th>\n",
       "      <td>mpa2p</td>\n",
       "      <td>Mortallyinsane21</td>\n",
       "      <td>INFJ masking as INTP</td>\n",
       "      <td>INFJ</td>\n",
       "    </tr>\n",
       "  </tbody>\n",
       "</table>\n",
       "</div>"
      ],
      "text/plain": [
       "         id              name            flair_text mbti_type\n",
       "2304  mpa2p  Mortallyinsane21  INFJ masking as INTP      INFJ"
      ]
     },
     "execution_count": 26,
     "metadata": {},
     "output_type": "execute_result"
    }
   ],
   "source": [
    "# Some users mark two types, by convention we keep the first one for now...\n",
    "users_df[users_df[\"id\"] == \"mpa2p\"]"
   ]
  },
  {
   "cell_type": "code",
   "execution_count": 27,
   "id": "chemical-rugby",
   "metadata": {},
   "outputs": [
    {
     "data": {
      "text/html": [
       "<div>\n",
       "<style scoped>\n",
       "    .dataframe tbody tr th:only-of-type {\n",
       "        vertical-align: middle;\n",
       "    }\n",
       "\n",
       "    .dataframe tbody tr th {\n",
       "        vertical-align: top;\n",
       "    }\n",
       "\n",
       "    .dataframe thead th {\n",
       "        text-align: right;\n",
       "    }\n",
       "</style>\n",
       "<table border=\"1\" class=\"dataframe\">\n",
       "  <thead>\n",
       "    <tr style=\"text-align: right;\">\n",
       "      <th></th>\n",
       "      <th>id</th>\n",
       "      <th>name</th>\n",
       "      <th>flair_text</th>\n",
       "      <th>mbti_type</th>\n",
       "    </tr>\n",
       "  </thead>\n",
       "  <tbody>\n",
       "    <tr>\n",
       "      <th>2533</th>\n",
       "      <td>1vtv4bck</td>\n",
       "      <td>yahgirlamberrr</td>\n",
       "      <td>𝐈𝐒𝐅𝐉</td>\n",
       "      <td>ISFJ</td>\n",
       "    </tr>\n",
       "  </tbody>\n",
       "</table>\n",
       "</div>"
      ],
      "text/plain": [
       "            id            name flair_text mbti_type\n",
       "2533  1vtv4bck  yahgirlamberrr       𝐈𝐒𝐅𝐉      ISFJ"
      ]
     },
     "execution_count": 27,
     "metadata": {},
     "output_type": "execute_result"
    }
   ],
   "source": [
    "# Bold font is supported!\n",
    "users_df[users_df[\"id\"] == \"1vtv4bck\"]"
   ]
  },
  {
   "cell_type": "code",
   "execution_count": 28,
   "id": "sustainable-junction",
   "metadata": {},
   "outputs": [
    {
     "data": {
      "application/vnd.plotly.v1+json": {
       "config": {
        "plotlyServerURL": "https://plot.ly"
       },
       "data": [
        {
         "alignmentgroup": "True",
         "hovertemplate": "variable=id<br>mbti_type=%{x}<br>value=%{y}<extra></extra>",
         "legendgroup": "id",
         "marker": {
          "color": "#636efa"
         },
         "name": "id",
         "offsetgroup": "id",
         "orientation": "v",
         "showlegend": true,
         "textposition": "auto",
         "type": "bar",
         "x": [
          "INTJ",
          "INFJ",
          "INTP",
          "ISTP",
          "ENFP",
          "ENTJ",
          "ENTP",
          "ISTJ",
          "ISFP",
          "INFP",
          "ISFJ",
          "ENFJ",
          "ESTP",
          "ESFP",
          "ESFJ",
          "ESTJ",
          "XNTP",
          "INTX",
          "IXTP",
          "INFX"
         ],
         "xaxis": "x",
         "y": [
          369,
          208,
          196,
          165,
          150,
          136,
          130,
          107,
          106,
          98,
          88,
          87,
          49,
          33,
          29,
          22,
          2,
          1,
          1,
          1
         ],
         "yaxis": "y"
        }
       ],
       "layout": {
        "barmode": "relative",
        "legend": {
         "title": {
          "text": "variable"
         },
         "tracegroupgap": 0
        },
        "margin": {
         "t": 60
        },
        "template": {
         "data": {
          "bar": [
           {
            "error_x": {
             "color": "#2a3f5f"
            },
            "error_y": {
             "color": "#2a3f5f"
            },
            "marker": {
             "line": {
              "color": "#E5ECF6",
              "width": 0.5
             }
            },
            "type": "bar"
           }
          ],
          "barpolar": [
           {
            "marker": {
             "line": {
              "color": "#E5ECF6",
              "width": 0.5
             }
            },
            "type": "barpolar"
           }
          ],
          "carpet": [
           {
            "aaxis": {
             "endlinecolor": "#2a3f5f",
             "gridcolor": "white",
             "linecolor": "white",
             "minorgridcolor": "white",
             "startlinecolor": "#2a3f5f"
            },
            "baxis": {
             "endlinecolor": "#2a3f5f",
             "gridcolor": "white",
             "linecolor": "white",
             "minorgridcolor": "white",
             "startlinecolor": "#2a3f5f"
            },
            "type": "carpet"
           }
          ],
          "choropleth": [
           {
            "colorbar": {
             "outlinewidth": 0,
             "ticks": ""
            },
            "type": "choropleth"
           }
          ],
          "contour": [
           {
            "colorbar": {
             "outlinewidth": 0,
             "ticks": ""
            },
            "colorscale": [
             [
              0,
              "#0d0887"
             ],
             [
              0.1111111111111111,
              "#46039f"
             ],
             [
              0.2222222222222222,
              "#7201a8"
             ],
             [
              0.3333333333333333,
              "#9c179e"
             ],
             [
              0.4444444444444444,
              "#bd3786"
             ],
             [
              0.5555555555555556,
              "#d8576b"
             ],
             [
              0.6666666666666666,
              "#ed7953"
             ],
             [
              0.7777777777777778,
              "#fb9f3a"
             ],
             [
              0.8888888888888888,
              "#fdca26"
             ],
             [
              1,
              "#f0f921"
             ]
            ],
            "type": "contour"
           }
          ],
          "contourcarpet": [
           {
            "colorbar": {
             "outlinewidth": 0,
             "ticks": ""
            },
            "type": "contourcarpet"
           }
          ],
          "heatmap": [
           {
            "colorbar": {
             "outlinewidth": 0,
             "ticks": ""
            },
            "colorscale": [
             [
              0,
              "#0d0887"
             ],
             [
              0.1111111111111111,
              "#46039f"
             ],
             [
              0.2222222222222222,
              "#7201a8"
             ],
             [
              0.3333333333333333,
              "#9c179e"
             ],
             [
              0.4444444444444444,
              "#bd3786"
             ],
             [
              0.5555555555555556,
              "#d8576b"
             ],
             [
              0.6666666666666666,
              "#ed7953"
             ],
             [
              0.7777777777777778,
              "#fb9f3a"
             ],
             [
              0.8888888888888888,
              "#fdca26"
             ],
             [
              1,
              "#f0f921"
             ]
            ],
            "type": "heatmap"
           }
          ],
          "heatmapgl": [
           {
            "colorbar": {
             "outlinewidth": 0,
             "ticks": ""
            },
            "colorscale": [
             [
              0,
              "#0d0887"
             ],
             [
              0.1111111111111111,
              "#46039f"
             ],
             [
              0.2222222222222222,
              "#7201a8"
             ],
             [
              0.3333333333333333,
              "#9c179e"
             ],
             [
              0.4444444444444444,
              "#bd3786"
             ],
             [
              0.5555555555555556,
              "#d8576b"
             ],
             [
              0.6666666666666666,
              "#ed7953"
             ],
             [
              0.7777777777777778,
              "#fb9f3a"
             ],
             [
              0.8888888888888888,
              "#fdca26"
             ],
             [
              1,
              "#f0f921"
             ]
            ],
            "type": "heatmapgl"
           }
          ],
          "histogram": [
           {
            "marker": {
             "colorbar": {
              "outlinewidth": 0,
              "ticks": ""
             }
            },
            "type": "histogram"
           }
          ],
          "histogram2d": [
           {
            "colorbar": {
             "outlinewidth": 0,
             "ticks": ""
            },
            "colorscale": [
             [
              0,
              "#0d0887"
             ],
             [
              0.1111111111111111,
              "#46039f"
             ],
             [
              0.2222222222222222,
              "#7201a8"
             ],
             [
              0.3333333333333333,
              "#9c179e"
             ],
             [
              0.4444444444444444,
              "#bd3786"
             ],
             [
              0.5555555555555556,
              "#d8576b"
             ],
             [
              0.6666666666666666,
              "#ed7953"
             ],
             [
              0.7777777777777778,
              "#fb9f3a"
             ],
             [
              0.8888888888888888,
              "#fdca26"
             ],
             [
              1,
              "#f0f921"
             ]
            ],
            "type": "histogram2d"
           }
          ],
          "histogram2dcontour": [
           {
            "colorbar": {
             "outlinewidth": 0,
             "ticks": ""
            },
            "colorscale": [
             [
              0,
              "#0d0887"
             ],
             [
              0.1111111111111111,
              "#46039f"
             ],
             [
              0.2222222222222222,
              "#7201a8"
             ],
             [
              0.3333333333333333,
              "#9c179e"
             ],
             [
              0.4444444444444444,
              "#bd3786"
             ],
             [
              0.5555555555555556,
              "#d8576b"
             ],
             [
              0.6666666666666666,
              "#ed7953"
             ],
             [
              0.7777777777777778,
              "#fb9f3a"
             ],
             [
              0.8888888888888888,
              "#fdca26"
             ],
             [
              1,
              "#f0f921"
             ]
            ],
            "type": "histogram2dcontour"
           }
          ],
          "mesh3d": [
           {
            "colorbar": {
             "outlinewidth": 0,
             "ticks": ""
            },
            "type": "mesh3d"
           }
          ],
          "parcoords": [
           {
            "line": {
             "colorbar": {
              "outlinewidth": 0,
              "ticks": ""
             }
            },
            "type": "parcoords"
           }
          ],
          "pie": [
           {
            "automargin": true,
            "type": "pie"
           }
          ],
          "scatter": [
           {
            "marker": {
             "colorbar": {
              "outlinewidth": 0,
              "ticks": ""
             }
            },
            "type": "scatter"
           }
          ],
          "scatter3d": [
           {
            "line": {
             "colorbar": {
              "outlinewidth": 0,
              "ticks": ""
             }
            },
            "marker": {
             "colorbar": {
              "outlinewidth": 0,
              "ticks": ""
             }
            },
            "type": "scatter3d"
           }
          ],
          "scattercarpet": [
           {
            "marker": {
             "colorbar": {
              "outlinewidth": 0,
              "ticks": ""
             }
            },
            "type": "scattercarpet"
           }
          ],
          "scattergeo": [
           {
            "marker": {
             "colorbar": {
              "outlinewidth": 0,
              "ticks": ""
             }
            },
            "type": "scattergeo"
           }
          ],
          "scattergl": [
           {
            "marker": {
             "colorbar": {
              "outlinewidth": 0,
              "ticks": ""
             }
            },
            "type": "scattergl"
           }
          ],
          "scattermapbox": [
           {
            "marker": {
             "colorbar": {
              "outlinewidth": 0,
              "ticks": ""
             }
            },
            "type": "scattermapbox"
           }
          ],
          "scatterpolar": [
           {
            "marker": {
             "colorbar": {
              "outlinewidth": 0,
              "ticks": ""
             }
            },
            "type": "scatterpolar"
           }
          ],
          "scatterpolargl": [
           {
            "marker": {
             "colorbar": {
              "outlinewidth": 0,
              "ticks": ""
             }
            },
            "type": "scatterpolargl"
           }
          ],
          "scatterternary": [
           {
            "marker": {
             "colorbar": {
              "outlinewidth": 0,
              "ticks": ""
             }
            },
            "type": "scatterternary"
           }
          ],
          "surface": [
           {
            "colorbar": {
             "outlinewidth": 0,
             "ticks": ""
            },
            "colorscale": [
             [
              0,
              "#0d0887"
             ],
             [
              0.1111111111111111,
              "#46039f"
             ],
             [
              0.2222222222222222,
              "#7201a8"
             ],
             [
              0.3333333333333333,
              "#9c179e"
             ],
             [
              0.4444444444444444,
              "#bd3786"
             ],
             [
              0.5555555555555556,
              "#d8576b"
             ],
             [
              0.6666666666666666,
              "#ed7953"
             ],
             [
              0.7777777777777778,
              "#fb9f3a"
             ],
             [
              0.8888888888888888,
              "#fdca26"
             ],
             [
              1,
              "#f0f921"
             ]
            ],
            "type": "surface"
           }
          ],
          "table": [
           {
            "cells": {
             "fill": {
              "color": "#EBF0F8"
             },
             "line": {
              "color": "white"
             }
            },
            "header": {
             "fill": {
              "color": "#C8D4E3"
             },
             "line": {
              "color": "white"
             }
            },
            "type": "table"
           }
          ]
         },
         "layout": {
          "annotationdefaults": {
           "arrowcolor": "#2a3f5f",
           "arrowhead": 0,
           "arrowwidth": 1
          },
          "autotypenumbers": "strict",
          "coloraxis": {
           "colorbar": {
            "outlinewidth": 0,
            "ticks": ""
           }
          },
          "colorscale": {
           "diverging": [
            [
             0,
             "#8e0152"
            ],
            [
             0.1,
             "#c51b7d"
            ],
            [
             0.2,
             "#de77ae"
            ],
            [
             0.3,
             "#f1b6da"
            ],
            [
             0.4,
             "#fde0ef"
            ],
            [
             0.5,
             "#f7f7f7"
            ],
            [
             0.6,
             "#e6f5d0"
            ],
            [
             0.7,
             "#b8e186"
            ],
            [
             0.8,
             "#7fbc41"
            ],
            [
             0.9,
             "#4d9221"
            ],
            [
             1,
             "#276419"
            ]
           ],
           "sequential": [
            [
             0,
             "#0d0887"
            ],
            [
             0.1111111111111111,
             "#46039f"
            ],
            [
             0.2222222222222222,
             "#7201a8"
            ],
            [
             0.3333333333333333,
             "#9c179e"
            ],
            [
             0.4444444444444444,
             "#bd3786"
            ],
            [
             0.5555555555555556,
             "#d8576b"
            ],
            [
             0.6666666666666666,
             "#ed7953"
            ],
            [
             0.7777777777777778,
             "#fb9f3a"
            ],
            [
             0.8888888888888888,
             "#fdca26"
            ],
            [
             1,
             "#f0f921"
            ]
           ],
           "sequentialminus": [
            [
             0,
             "#0d0887"
            ],
            [
             0.1111111111111111,
             "#46039f"
            ],
            [
             0.2222222222222222,
             "#7201a8"
            ],
            [
             0.3333333333333333,
             "#9c179e"
            ],
            [
             0.4444444444444444,
             "#bd3786"
            ],
            [
             0.5555555555555556,
             "#d8576b"
            ],
            [
             0.6666666666666666,
             "#ed7953"
            ],
            [
             0.7777777777777778,
             "#fb9f3a"
            ],
            [
             0.8888888888888888,
             "#fdca26"
            ],
            [
             1,
             "#f0f921"
            ]
           ]
          },
          "colorway": [
           "#636efa",
           "#EF553B",
           "#00cc96",
           "#ab63fa",
           "#FFA15A",
           "#19d3f3",
           "#FF6692",
           "#B6E880",
           "#FF97FF",
           "#FECB52"
          ],
          "font": {
           "color": "#2a3f5f"
          },
          "geo": {
           "bgcolor": "white",
           "lakecolor": "white",
           "landcolor": "#E5ECF6",
           "showlakes": true,
           "showland": true,
           "subunitcolor": "white"
          },
          "hoverlabel": {
           "align": "left"
          },
          "hovermode": "closest",
          "mapbox": {
           "style": "light"
          },
          "paper_bgcolor": "white",
          "plot_bgcolor": "#E5ECF6",
          "polar": {
           "angularaxis": {
            "gridcolor": "white",
            "linecolor": "white",
            "ticks": ""
           },
           "bgcolor": "#E5ECF6",
           "radialaxis": {
            "gridcolor": "white",
            "linecolor": "white",
            "ticks": ""
           }
          },
          "scene": {
           "xaxis": {
            "backgroundcolor": "#E5ECF6",
            "gridcolor": "white",
            "gridwidth": 2,
            "linecolor": "white",
            "showbackground": true,
            "ticks": "",
            "zerolinecolor": "white"
           },
           "yaxis": {
            "backgroundcolor": "#E5ECF6",
            "gridcolor": "white",
            "gridwidth": 2,
            "linecolor": "white",
            "showbackground": true,
            "ticks": "",
            "zerolinecolor": "white"
           },
           "zaxis": {
            "backgroundcolor": "#E5ECF6",
            "gridcolor": "white",
            "gridwidth": 2,
            "linecolor": "white",
            "showbackground": true,
            "ticks": "",
            "zerolinecolor": "white"
           }
          },
          "shapedefaults": {
           "line": {
            "color": "#2a3f5f"
           }
          },
          "ternary": {
           "aaxis": {
            "gridcolor": "white",
            "linecolor": "white",
            "ticks": ""
           },
           "baxis": {
            "gridcolor": "white",
            "linecolor": "white",
            "ticks": ""
           },
           "bgcolor": "#E5ECF6",
           "caxis": {
            "gridcolor": "white",
            "linecolor": "white",
            "ticks": ""
           }
          },
          "title": {
           "x": 0.05
          },
          "xaxis": {
           "automargin": true,
           "gridcolor": "white",
           "linecolor": "white",
           "ticks": "",
           "title": {
            "standoff": 15
           },
           "zerolinecolor": "white",
           "zerolinewidth": 2
          },
          "yaxis": {
           "automargin": true,
           "gridcolor": "white",
           "linecolor": "white",
           "ticks": "",
           "title": {
            "standoff": 15
           },
           "zerolinecolor": "white",
           "zerolinewidth": 2
          }
         }
        },
        "xaxis": {
         "anchor": "y",
         "domain": [
          0,
          1
         ],
         "title": {
          "text": "mbti_type"
         }
        },
        "yaxis": {
         "anchor": "x",
         "domain": [
          0,
          1
         ],
         "title": {
          "text": "value"
         }
        }
       }
      },
      "text/html": [
       "<div>                            <div id=\"b2d0ed26-5e67-4ea6-8a8f-65de8d07ebcd\" class=\"plotly-graph-div\" style=\"height:525px; width:100%;\"></div>            <script type=\"text/javascript\">                require([\"plotly\"], function(Plotly) {                    window.PLOTLYENV=window.PLOTLYENV || {};                                    if (document.getElementById(\"b2d0ed26-5e67-4ea6-8a8f-65de8d07ebcd\")) {                    Plotly.newPlot(                        \"b2d0ed26-5e67-4ea6-8a8f-65de8d07ebcd\",                        [{\"alignmentgroup\": \"True\", \"hovertemplate\": \"variable=id<br>mbti_type=%{x}<br>value=%{y}<extra></extra>\", \"legendgroup\": \"id\", \"marker\": {\"color\": \"#636efa\"}, \"name\": \"id\", \"offsetgroup\": \"id\", \"orientation\": \"v\", \"showlegend\": true, \"textposition\": \"auto\", \"type\": \"bar\", \"x\": [\"INTJ\", \"INFJ\", \"INTP\", \"ISTP\", \"ENFP\", \"ENTJ\", \"ENTP\", \"ISTJ\", \"ISFP\", \"INFP\", \"ISFJ\", \"ENFJ\", \"ESTP\", \"ESFP\", \"ESFJ\", \"ESTJ\", \"XNTP\", \"INTX\", \"IXTP\", \"INFX\"], \"xaxis\": \"x\", \"y\": [369, 208, 196, 165, 150, 136, 130, 107, 106, 98, 88, 87, 49, 33, 29, 22, 2, 1, 1, 1], \"yaxis\": \"y\"}],                        {\"barmode\": \"relative\", \"legend\": {\"title\": {\"text\": \"variable\"}, \"tracegroupgap\": 0}, \"margin\": {\"t\": 60}, \"template\": {\"data\": {\"bar\": [{\"error_x\": {\"color\": \"#2a3f5f\"}, \"error_y\": {\"color\": \"#2a3f5f\"}, \"marker\": {\"line\": {\"color\": \"#E5ECF6\", \"width\": 0.5}}, \"type\": \"bar\"}], \"barpolar\": [{\"marker\": {\"line\": {\"color\": \"#E5ECF6\", \"width\": 0.5}}, \"type\": \"barpolar\"}], \"carpet\": [{\"aaxis\": {\"endlinecolor\": \"#2a3f5f\", \"gridcolor\": \"white\", \"linecolor\": \"white\", \"minorgridcolor\": \"white\", \"startlinecolor\": \"#2a3f5f\"}, \"baxis\": {\"endlinecolor\": \"#2a3f5f\", \"gridcolor\": \"white\", \"linecolor\": \"white\", \"minorgridcolor\": \"white\", \"startlinecolor\": \"#2a3f5f\"}, \"type\": \"carpet\"}], \"choropleth\": [{\"colorbar\": {\"outlinewidth\": 0, \"ticks\": \"\"}, \"type\": \"choropleth\"}], \"contour\": [{\"colorbar\": {\"outlinewidth\": 0, \"ticks\": \"\"}, \"colorscale\": [[0.0, \"#0d0887\"], [0.1111111111111111, \"#46039f\"], [0.2222222222222222, \"#7201a8\"], [0.3333333333333333, \"#9c179e\"], [0.4444444444444444, \"#bd3786\"], [0.5555555555555556, \"#d8576b\"], [0.6666666666666666, \"#ed7953\"], [0.7777777777777778, \"#fb9f3a\"], [0.8888888888888888, \"#fdca26\"], [1.0, \"#f0f921\"]], \"type\": \"contour\"}], \"contourcarpet\": [{\"colorbar\": {\"outlinewidth\": 0, \"ticks\": \"\"}, \"type\": \"contourcarpet\"}], \"heatmap\": [{\"colorbar\": {\"outlinewidth\": 0, \"ticks\": \"\"}, \"colorscale\": [[0.0, \"#0d0887\"], [0.1111111111111111, \"#46039f\"], [0.2222222222222222, \"#7201a8\"], [0.3333333333333333, \"#9c179e\"], [0.4444444444444444, \"#bd3786\"], [0.5555555555555556, \"#d8576b\"], [0.6666666666666666, \"#ed7953\"], [0.7777777777777778, \"#fb9f3a\"], [0.8888888888888888, \"#fdca26\"], [1.0, \"#f0f921\"]], \"type\": \"heatmap\"}], \"heatmapgl\": [{\"colorbar\": {\"outlinewidth\": 0, \"ticks\": \"\"}, \"colorscale\": [[0.0, \"#0d0887\"], [0.1111111111111111, \"#46039f\"], [0.2222222222222222, \"#7201a8\"], [0.3333333333333333, \"#9c179e\"], [0.4444444444444444, \"#bd3786\"], [0.5555555555555556, \"#d8576b\"], [0.6666666666666666, \"#ed7953\"], [0.7777777777777778, \"#fb9f3a\"], [0.8888888888888888, \"#fdca26\"], [1.0, \"#f0f921\"]], \"type\": \"heatmapgl\"}], \"histogram\": [{\"marker\": {\"colorbar\": {\"outlinewidth\": 0, \"ticks\": \"\"}}, \"type\": \"histogram\"}], \"histogram2d\": [{\"colorbar\": {\"outlinewidth\": 0, \"ticks\": \"\"}, \"colorscale\": [[0.0, \"#0d0887\"], [0.1111111111111111, \"#46039f\"], [0.2222222222222222, \"#7201a8\"], [0.3333333333333333, \"#9c179e\"], [0.4444444444444444, \"#bd3786\"], [0.5555555555555556, \"#d8576b\"], [0.6666666666666666, \"#ed7953\"], [0.7777777777777778, \"#fb9f3a\"], [0.8888888888888888, \"#fdca26\"], [1.0, \"#f0f921\"]], \"type\": \"histogram2d\"}], \"histogram2dcontour\": [{\"colorbar\": {\"outlinewidth\": 0, \"ticks\": \"\"}, \"colorscale\": [[0.0, \"#0d0887\"], [0.1111111111111111, \"#46039f\"], [0.2222222222222222, \"#7201a8\"], [0.3333333333333333, \"#9c179e\"], [0.4444444444444444, \"#bd3786\"], [0.5555555555555556, \"#d8576b\"], [0.6666666666666666, \"#ed7953\"], [0.7777777777777778, \"#fb9f3a\"], [0.8888888888888888, \"#fdca26\"], [1.0, \"#f0f921\"]], \"type\": \"histogram2dcontour\"}], \"mesh3d\": [{\"colorbar\": {\"outlinewidth\": 0, \"ticks\": \"\"}, \"type\": \"mesh3d\"}], \"parcoords\": [{\"line\": {\"colorbar\": {\"outlinewidth\": 0, \"ticks\": \"\"}}, \"type\": \"parcoords\"}], \"pie\": [{\"automargin\": true, \"type\": \"pie\"}], \"scatter\": [{\"marker\": {\"colorbar\": {\"outlinewidth\": 0, \"ticks\": \"\"}}, \"type\": \"scatter\"}], \"scatter3d\": [{\"line\": {\"colorbar\": {\"outlinewidth\": 0, \"ticks\": \"\"}}, \"marker\": {\"colorbar\": {\"outlinewidth\": 0, \"ticks\": \"\"}}, \"type\": \"scatter3d\"}], \"scattercarpet\": [{\"marker\": {\"colorbar\": {\"outlinewidth\": 0, \"ticks\": \"\"}}, \"type\": \"scattercarpet\"}], \"scattergeo\": [{\"marker\": {\"colorbar\": {\"outlinewidth\": 0, \"ticks\": \"\"}}, \"type\": \"scattergeo\"}], \"scattergl\": [{\"marker\": {\"colorbar\": {\"outlinewidth\": 0, \"ticks\": \"\"}}, \"type\": \"scattergl\"}], \"scattermapbox\": [{\"marker\": {\"colorbar\": {\"outlinewidth\": 0, \"ticks\": \"\"}}, \"type\": \"scattermapbox\"}], \"scatterpolar\": [{\"marker\": {\"colorbar\": {\"outlinewidth\": 0, \"ticks\": \"\"}}, \"type\": \"scatterpolar\"}], \"scatterpolargl\": [{\"marker\": {\"colorbar\": {\"outlinewidth\": 0, \"ticks\": \"\"}}, \"type\": \"scatterpolargl\"}], \"scatterternary\": [{\"marker\": {\"colorbar\": {\"outlinewidth\": 0, \"ticks\": \"\"}}, \"type\": \"scatterternary\"}], \"surface\": [{\"colorbar\": {\"outlinewidth\": 0, \"ticks\": \"\"}, \"colorscale\": [[0.0, \"#0d0887\"], [0.1111111111111111, \"#46039f\"], [0.2222222222222222, \"#7201a8\"], [0.3333333333333333, \"#9c179e\"], [0.4444444444444444, \"#bd3786\"], [0.5555555555555556, \"#d8576b\"], [0.6666666666666666, \"#ed7953\"], [0.7777777777777778, \"#fb9f3a\"], [0.8888888888888888, \"#fdca26\"], [1.0, \"#f0f921\"]], \"type\": \"surface\"}], \"table\": [{\"cells\": {\"fill\": {\"color\": \"#EBF0F8\"}, \"line\": {\"color\": \"white\"}}, \"header\": {\"fill\": {\"color\": \"#C8D4E3\"}, \"line\": {\"color\": \"white\"}}, \"type\": \"table\"}]}, \"layout\": {\"annotationdefaults\": {\"arrowcolor\": \"#2a3f5f\", \"arrowhead\": 0, \"arrowwidth\": 1}, \"autotypenumbers\": \"strict\", \"coloraxis\": {\"colorbar\": {\"outlinewidth\": 0, \"ticks\": \"\"}}, \"colorscale\": {\"diverging\": [[0, \"#8e0152\"], [0.1, \"#c51b7d\"], [0.2, \"#de77ae\"], [0.3, \"#f1b6da\"], [0.4, \"#fde0ef\"], [0.5, \"#f7f7f7\"], [0.6, \"#e6f5d0\"], [0.7, \"#b8e186\"], [0.8, \"#7fbc41\"], [0.9, \"#4d9221\"], [1, \"#276419\"]], \"sequential\": [[0.0, \"#0d0887\"], [0.1111111111111111, \"#46039f\"], [0.2222222222222222, \"#7201a8\"], [0.3333333333333333, \"#9c179e\"], [0.4444444444444444, \"#bd3786\"], [0.5555555555555556, \"#d8576b\"], [0.6666666666666666, \"#ed7953\"], [0.7777777777777778, \"#fb9f3a\"], [0.8888888888888888, \"#fdca26\"], [1.0, \"#f0f921\"]], \"sequentialminus\": [[0.0, \"#0d0887\"], [0.1111111111111111, \"#46039f\"], [0.2222222222222222, \"#7201a8\"], [0.3333333333333333, \"#9c179e\"], [0.4444444444444444, \"#bd3786\"], [0.5555555555555556, \"#d8576b\"], [0.6666666666666666, \"#ed7953\"], [0.7777777777777778, \"#fb9f3a\"], [0.8888888888888888, \"#fdca26\"], [1.0, \"#f0f921\"]]}, \"colorway\": [\"#636efa\", \"#EF553B\", \"#00cc96\", \"#ab63fa\", \"#FFA15A\", \"#19d3f3\", \"#FF6692\", \"#B6E880\", \"#FF97FF\", \"#FECB52\"], \"font\": {\"color\": \"#2a3f5f\"}, \"geo\": {\"bgcolor\": \"white\", \"lakecolor\": \"white\", \"landcolor\": \"#E5ECF6\", \"showlakes\": true, \"showland\": true, \"subunitcolor\": \"white\"}, \"hoverlabel\": {\"align\": \"left\"}, \"hovermode\": \"closest\", \"mapbox\": {\"style\": \"light\"}, \"paper_bgcolor\": \"white\", \"plot_bgcolor\": \"#E5ECF6\", \"polar\": {\"angularaxis\": {\"gridcolor\": \"white\", \"linecolor\": \"white\", \"ticks\": \"\"}, \"bgcolor\": \"#E5ECF6\", \"radialaxis\": {\"gridcolor\": \"white\", \"linecolor\": \"white\", \"ticks\": \"\"}}, \"scene\": {\"xaxis\": {\"backgroundcolor\": \"#E5ECF6\", \"gridcolor\": \"white\", \"gridwidth\": 2, \"linecolor\": \"white\", \"showbackground\": true, \"ticks\": \"\", \"zerolinecolor\": \"white\"}, \"yaxis\": {\"backgroundcolor\": \"#E5ECF6\", \"gridcolor\": \"white\", \"gridwidth\": 2, \"linecolor\": \"white\", \"showbackground\": true, \"ticks\": \"\", \"zerolinecolor\": \"white\"}, \"zaxis\": {\"backgroundcolor\": \"#E5ECF6\", \"gridcolor\": \"white\", \"gridwidth\": 2, \"linecolor\": \"white\", \"showbackground\": true, \"ticks\": \"\", \"zerolinecolor\": \"white\"}}, \"shapedefaults\": {\"line\": {\"color\": \"#2a3f5f\"}}, \"ternary\": {\"aaxis\": {\"gridcolor\": \"white\", \"linecolor\": \"white\", \"ticks\": \"\"}, \"baxis\": {\"gridcolor\": \"white\", \"linecolor\": \"white\", \"ticks\": \"\"}, \"bgcolor\": \"#E5ECF6\", \"caxis\": {\"gridcolor\": \"white\", \"linecolor\": \"white\", \"ticks\": \"\"}}, \"title\": {\"x\": 0.05}, \"xaxis\": {\"automargin\": true, \"gridcolor\": \"white\", \"linecolor\": \"white\", \"ticks\": \"\", \"title\": {\"standoff\": 15}, \"zerolinecolor\": \"white\", \"zerolinewidth\": 2}, \"yaxis\": {\"automargin\": true, \"gridcolor\": \"white\", \"linecolor\": \"white\", \"ticks\": \"\", \"title\": {\"standoff\": 15}, \"zerolinecolor\": \"white\", \"zerolinewidth\": 2}}}, \"xaxis\": {\"anchor\": \"y\", \"domain\": [0.0, 1.0], \"title\": {\"text\": \"mbti_type\"}}, \"yaxis\": {\"anchor\": \"x\", \"domain\": [0.0, 1.0], \"title\": {\"text\": \"value\"}}},                        {\"responsive\": true}                    ).then(function(){\n",
       "                            \n",
       "var gd = document.getElementById('b2d0ed26-5e67-4ea6-8a8f-65de8d07ebcd');\n",
       "var x = new MutationObserver(function (mutations, observer) {{\n",
       "        var display = window.getComputedStyle(gd).display;\n",
       "        if (!display || display === 'none') {{\n",
       "            console.log([gd, 'removed!']);\n",
       "            Plotly.purge(gd);\n",
       "            observer.disconnect();\n",
       "        }}\n",
       "}});\n",
       "\n",
       "// Listen for the removal of the full notebook cells\n",
       "var notebookContainer = gd.closest('#notebook-container');\n",
       "if (notebookContainer) {{\n",
       "    x.observe(notebookContainer, {childList: true});\n",
       "}}\n",
       "\n",
       "// Listen for the clearing of the current output cell\n",
       "var outputEl = gd.closest('.output');\n",
       "if (outputEl) {{\n",
       "    x.observe(outputEl, {childList: true});\n",
       "}}\n",
       "\n",
       "                        })                };                });            </script>        </div>"
      ]
     },
     "metadata": {},
     "output_type": "display_data"
    }
   ],
   "source": [
    "count_by_mbti_df = users_df.groupby(\"mbti_type\")[\"id\"].count()\n",
    "px.bar(count_by_mbti_df.sort_values(ascending=False))"
   ]
  },
  {
   "cell_type": "code",
   "execution_count": 29,
   "id": "lesser-digit",
   "metadata": {},
   "outputs": [],
   "source": [
    "def extract_mbti_from_message(df):\n",
    "    mbti_regex = \"(I|E|X)(S|N|X)(F|T|X)(J|P|X)\"\n",
    "    regex_dict = {\n",
    "        \"i_am_mbti_regex\": {\"regex\": \"I('m| am)(?: (an|a))? ({})\".format(mbti_regex), \"group_index\": 2},\n",
    "        \"my_mbti_regex\": {\"regex\": \"(M|m)y ({}) (personality|experience)\".format(mbti_regex), \"group_index\": 1},\n",
    "        \"mbti_here_regex\": {\"regex\": \"({})(?: \\((m|f)\\))? here\".format(mbti_regex), \"group_index\": 0},\n",
    "        \"fellow_mbti_regex\": {\"regex\": \"(F|f)ellow ({})\".format(mbti_regex), \"group_index\": 1},\n",
    "        \"i_mbti_regex\": {\"regex\": \"(Me|I)(?: )?\\(({})\\)\".format(mbti_regex), \"group_index\": 1},\n",
    "        \"looking_for_regex\": {\"regex\": \"({}) looking for\".format(mbti_regex), \"group_index\": 0}\n",
    "    }\n",
    "    result_df = pd.DataFrame()\n",
    "    for regex_name, regex_item in regex_dict.items():\n",
    "        result_df[\"{}__on__title\".format(regex_name)] = df[\"title\"].str.extract(regex_item[\"regex\"])[regex_item[\"group_index\"]]\n",
    "        result_df[\"{}__on__content\".format(regex_name)] = df[\"content\"].str.extract(regex_item[\"regex\"])[regex_item[\"group_index\"]]\n",
    "    return result_df\n",
    "\n",
    "\n",
    "extract_mbti_from_message_df = extract_mbti_from_message(comments_df)"
   ]
  },
  {
   "cell_type": "code",
   "execution_count": 30,
   "id": "german-milwaukee",
   "metadata": {},
   "outputs": [
    {
     "data": {
      "text/plain": [
       "i_am_mbti_regex__on__title          6\n",
       "i_am_mbti_regex__on__content      232\n",
       "my_mbti_regex__on__title            1\n",
       "my_mbti_regex__on__content          0\n",
       "mbti_here_regex__on__title          6\n",
       "mbti_here_regex__on__content       70\n",
       "fellow_mbti_regex__on__title        3\n",
       "fellow_mbti_regex__on__content     43\n",
       "i_mbti_regex__on__title             3\n",
       "i_mbti_regex__on__content           2\n",
       "looking_for_regex__on__title        5\n",
       "looking_for_regex__on__content      1\n",
       "dtype: int64"
      ]
     },
     "execution_count": 30,
     "metadata": {},
     "output_type": "execute_result"
    }
   ],
   "source": [
    "(~extract_mbti_from_message_df.isna()).sum(axis=0)"
   ]
  },
  {
   "cell_type": "code",
   "execution_count": 31,
   "id": "pleased-clothing",
   "metadata": {},
   "outputs": [
    {
     "data": {
      "text/html": [
       "<div>\n",
       "<style scoped>\n",
       "    .dataframe tbody tr th:only-of-type {\n",
       "        vertical-align: middle;\n",
       "    }\n",
       "\n",
       "    .dataframe tbody tr th {\n",
       "        vertical-align: top;\n",
       "    }\n",
       "\n",
       "    .dataframe thead th {\n",
       "        text-align: right;\n",
       "    }\n",
       "</style>\n",
       "<table border=\"1\" class=\"dataframe\">\n",
       "  <thead>\n",
       "    <tr style=\"text-align: right;\">\n",
       "      <th></th>\n",
       "      <th>i_am_mbti_regex__on__title</th>\n",
       "      <th>i_am_mbti_regex__on__content</th>\n",
       "      <th>my_mbti_regex__on__title</th>\n",
       "      <th>my_mbti_regex__on__content</th>\n",
       "      <th>mbti_here_regex__on__title</th>\n",
       "      <th>mbti_here_regex__on__content</th>\n",
       "      <th>fellow_mbti_regex__on__title</th>\n",
       "      <th>fellow_mbti_regex__on__content</th>\n",
       "      <th>i_mbti_regex__on__title</th>\n",
       "      <th>i_mbti_regex__on__content</th>\n",
       "      <th>looking_for_regex__on__title</th>\n",
       "      <th>looking_for_regex__on__content</th>\n",
       "    </tr>\n",
       "  </thead>\n",
       "  <tbody>\n",
       "    <tr>\n",
       "      <th>52</th>\n",
       "      <td>NaN</td>\n",
       "      <td>NaN</td>\n",
       "      <td>NaN</td>\n",
       "      <td>NaN</td>\n",
       "      <td>ENTP</td>\n",
       "      <td>ENTP</td>\n",
       "      <td>NaN</td>\n",
       "      <td>NaN</td>\n",
       "      <td>NaN</td>\n",
       "      <td>NaN</td>\n",
       "      <td>NaN</td>\n",
       "      <td>NaN</td>\n",
       "    </tr>\n",
       "    <tr>\n",
       "      <th>6395</th>\n",
       "      <td>NaN</td>\n",
       "      <td>INTP</td>\n",
       "      <td>NaN</td>\n",
       "      <td>NaN</td>\n",
       "      <td>NaN</td>\n",
       "      <td>NaN</td>\n",
       "      <td>NaN</td>\n",
       "      <td>INTP</td>\n",
       "      <td>NaN</td>\n",
       "      <td>NaN</td>\n",
       "      <td>NaN</td>\n",
       "      <td>NaN</td>\n",
       "    </tr>\n",
       "    <tr>\n",
       "      <th>6710</th>\n",
       "      <td>NaN</td>\n",
       "      <td>INFP</td>\n",
       "      <td>NaN</td>\n",
       "      <td>NaN</td>\n",
       "      <td>NaN</td>\n",
       "      <td>INFP</td>\n",
       "      <td>NaN</td>\n",
       "      <td>NaN</td>\n",
       "      <td>NaN</td>\n",
       "      <td>NaN</td>\n",
       "      <td>NaN</td>\n",
       "      <td>NaN</td>\n",
       "    </tr>\n",
       "    <tr>\n",
       "      <th>9056</th>\n",
       "      <td>NaN</td>\n",
       "      <td>ENFP</td>\n",
       "      <td>NaN</td>\n",
       "      <td>NaN</td>\n",
       "      <td>NaN</td>\n",
       "      <td>NaN</td>\n",
       "      <td>NaN</td>\n",
       "      <td>NaN</td>\n",
       "      <td>NaN</td>\n",
       "      <td>NaN</td>\n",
       "      <td>ENFP</td>\n",
       "      <td>NaN</td>\n",
       "    </tr>\n",
       "    <tr>\n",
       "      <th>9563</th>\n",
       "      <td>ENTJ</td>\n",
       "      <td>ENTJ</td>\n",
       "      <td>NaN</td>\n",
       "      <td>NaN</td>\n",
       "      <td>NaN</td>\n",
       "      <td>NaN</td>\n",
       "      <td>NaN</td>\n",
       "      <td>NaN</td>\n",
       "      <td>NaN</td>\n",
       "      <td>NaN</td>\n",
       "      <td>NaN</td>\n",
       "      <td>NaN</td>\n",
       "    </tr>\n",
       "    <tr>\n",
       "      <th>10512</th>\n",
       "      <td>NaN</td>\n",
       "      <td>ENFP</td>\n",
       "      <td>NaN</td>\n",
       "      <td>NaN</td>\n",
       "      <td>NaN</td>\n",
       "      <td>ENFP</td>\n",
       "      <td>NaN</td>\n",
       "      <td>NaN</td>\n",
       "      <td>NaN</td>\n",
       "      <td>NaN</td>\n",
       "      <td>NaN</td>\n",
       "      <td>NaN</td>\n",
       "    </tr>\n",
       "    <tr>\n",
       "      <th>10977</th>\n",
       "      <td>NaN</td>\n",
       "      <td>ENFJ</td>\n",
       "      <td>NaN</td>\n",
       "      <td>NaN</td>\n",
       "      <td>NaN</td>\n",
       "      <td>NaN</td>\n",
       "      <td>NaN</td>\n",
       "      <td>ENFJ</td>\n",
       "      <td>NaN</td>\n",
       "      <td>NaN</td>\n",
       "      <td>NaN</td>\n",
       "      <td>NaN</td>\n",
       "    </tr>\n",
       "    <tr>\n",
       "      <th>14123</th>\n",
       "      <td>NaN</td>\n",
       "      <td>ENFP</td>\n",
       "      <td>NaN</td>\n",
       "      <td>NaN</td>\n",
       "      <td>NaN</td>\n",
       "      <td>NaN</td>\n",
       "      <td>NaN</td>\n",
       "      <td>NaN</td>\n",
       "      <td>NaN</td>\n",
       "      <td>NaN</td>\n",
       "      <td>ENFP</td>\n",
       "      <td>NaN</td>\n",
       "    </tr>\n",
       "    <tr>\n",
       "      <th>14225</th>\n",
       "      <td>NaN</td>\n",
       "      <td>INFP</td>\n",
       "      <td>NaN</td>\n",
       "      <td>NaN</td>\n",
       "      <td>NaN</td>\n",
       "      <td>INFP</td>\n",
       "      <td>NaN</td>\n",
       "      <td>NaN</td>\n",
       "      <td>NaN</td>\n",
       "      <td>NaN</td>\n",
       "      <td>NaN</td>\n",
       "      <td>NaN</td>\n",
       "    </tr>\n",
       "    <tr>\n",
       "      <th>14531</th>\n",
       "      <td>NaN</td>\n",
       "      <td>ENFP</td>\n",
       "      <td>NaN</td>\n",
       "      <td>NaN</td>\n",
       "      <td>NaN</td>\n",
       "      <td>NaN</td>\n",
       "      <td>NaN</td>\n",
       "      <td>NaN</td>\n",
       "      <td>NaN</td>\n",
       "      <td>NaN</td>\n",
       "      <td>ENFP</td>\n",
       "      <td>NaN</td>\n",
       "    </tr>\n",
       "  </tbody>\n",
       "</table>\n",
       "</div>"
      ],
      "text/plain": [
       "      i_am_mbti_regex__on__title i_am_mbti_regex__on__content  \\\n",
       "52                           NaN                          NaN   \n",
       "6395                         NaN                         INTP   \n",
       "6710                         NaN                         INFP   \n",
       "9056                         NaN                         ENFP   \n",
       "9563                        ENTJ                         ENTJ   \n",
       "10512                        NaN                         ENFP   \n",
       "10977                        NaN                         ENFJ   \n",
       "14123                        NaN                         ENFP   \n",
       "14225                        NaN                         INFP   \n",
       "14531                        NaN                         ENFP   \n",
       "\n",
       "      my_mbti_regex__on__title my_mbti_regex__on__content  \\\n",
       "52                         NaN                        NaN   \n",
       "6395                       NaN                        NaN   \n",
       "6710                       NaN                        NaN   \n",
       "9056                       NaN                        NaN   \n",
       "9563                       NaN                        NaN   \n",
       "10512                      NaN                        NaN   \n",
       "10977                      NaN                        NaN   \n",
       "14123                      NaN                        NaN   \n",
       "14225                      NaN                        NaN   \n",
       "14531                      NaN                        NaN   \n",
       "\n",
       "      mbti_here_regex__on__title mbti_here_regex__on__content  \\\n",
       "52                          ENTP                         ENTP   \n",
       "6395                         NaN                          NaN   \n",
       "6710                         NaN                         INFP   \n",
       "9056                         NaN                          NaN   \n",
       "9563                         NaN                          NaN   \n",
       "10512                        NaN                         ENFP   \n",
       "10977                        NaN                          NaN   \n",
       "14123                        NaN                          NaN   \n",
       "14225                        NaN                         INFP   \n",
       "14531                        NaN                          NaN   \n",
       "\n",
       "      fellow_mbti_regex__on__title fellow_mbti_regex__on__content  \\\n",
       "52                             NaN                            NaN   \n",
       "6395                           NaN                           INTP   \n",
       "6710                           NaN                            NaN   \n",
       "9056                           NaN                            NaN   \n",
       "9563                           NaN                            NaN   \n",
       "10512                          NaN                            NaN   \n",
       "10977                          NaN                           ENFJ   \n",
       "14123                          NaN                            NaN   \n",
       "14225                          NaN                            NaN   \n",
       "14531                          NaN                            NaN   \n",
       "\n",
       "      i_mbti_regex__on__title i_mbti_regex__on__content  \\\n",
       "52                        NaN                       NaN   \n",
       "6395                      NaN                       NaN   \n",
       "6710                      NaN                       NaN   \n",
       "9056                      NaN                       NaN   \n",
       "9563                      NaN                       NaN   \n",
       "10512                     NaN                       NaN   \n",
       "10977                     NaN                       NaN   \n",
       "14123                     NaN                       NaN   \n",
       "14225                     NaN                       NaN   \n",
       "14531                     NaN                       NaN   \n",
       "\n",
       "      looking_for_regex__on__title looking_for_regex__on__content  \n",
       "52                             NaN                            NaN  \n",
       "6395                           NaN                            NaN  \n",
       "6710                           NaN                            NaN  \n",
       "9056                          ENFP                            NaN  \n",
       "9563                           NaN                            NaN  \n",
       "10512                          NaN                            NaN  \n",
       "10977                          NaN                            NaN  \n",
       "14123                         ENFP                            NaN  \n",
       "14225                          NaN                            NaN  \n",
       "14531                         ENFP                            NaN  "
      ]
     },
     "execution_count": 31,
     "metadata": {},
     "output_type": "execute_result"
    }
   ],
   "source": [
    "# Several regex can match for one user, but they seem to give the same results\n",
    "extract_mbti_from_message_df[(~extract_mbti_from_message_df.isna()).sum(axis=1) == 2]"
   ]
  },
  {
   "cell_type": "code",
   "execution_count": 32,
   "id": "horizontal-satellite",
   "metadata": {},
   "outputs": [],
   "source": [
    "def get_extracted_mbti_if_exists(row):\n",
    "    if row.last_valid_index() is None:\n",
    "        return np.nan\n",
    "    else:\n",
    "        return row[row.last_valid_index()]\n",
    "\n",
    "    \n",
    "comments_df[\"extracted_mbti\"] = extract_mbti_from_message_df.apply(get_extracted_mbti_if_exists, axis=1)"
   ]
  },
  {
   "cell_type": "code",
   "execution_count": 33,
   "id": "electronic-milan",
   "metadata": {},
   "outputs": [
    {
     "data": {
      "text/html": [
       "<div>\n",
       "<style scoped>\n",
       "    .dataframe tbody tr th:only-of-type {\n",
       "        vertical-align: middle;\n",
       "    }\n",
       "\n",
       "    .dataframe tbody tr th {\n",
       "        vertical-align: top;\n",
       "    }\n",
       "\n",
       "    .dataframe thead th {\n",
       "        text-align: right;\n",
       "    }\n",
       "</style>\n",
       "<table border=\"1\" class=\"dataframe\">\n",
       "  <thead>\n",
       "    <tr style=\"text-align: right;\">\n",
       "      <th></th>\n",
       "      <th>id</th>\n",
       "      <th>user_id</th>\n",
       "      <th>parent_comment_id</th>\n",
       "      <th>title</th>\n",
       "      <th>content</th>\n",
       "      <th>created_datetime</th>\n",
       "      <th>upvotes</th>\n",
       "      <th>subreddit</th>\n",
       "      <th>extracted_mbti</th>\n",
       "    </tr>\n",
       "  </thead>\n",
       "  <tbody>\n",
       "    <tr>\n",
       "      <th>0</th>\n",
       "      <td>ltmgwm</td>\n",
       "      <td>6i0rnp1p</td>\n",
       "      <td></td>\n",
       "      <td>Always felt different and misunderstood by family</td>\n",
       "      <td>I am an INFJ female, with no INFJ’s in my fami...</td>\n",
       "      <td>2021-02-27 12:45:56</td>\n",
       "      <td>271</td>\n",
       "      <td>infj</td>\n",
       "      <td>INFJ</td>\n",
       "    </tr>\n",
       "    <tr>\n",
       "      <th>1</th>\n",
       "      <td>gozeenz</td>\n",
       "      <td>1s8dnq6p</td>\n",
       "      <td>ltmgwm</td>\n",
       "      <td></td>\n",
       "      <td>Yupppp. No one understands me in my family. I ...</td>\n",
       "      <td>2021-02-27 13:02:48</td>\n",
       "      <td>85</td>\n",
       "      <td>infj</td>\n",
       "      <td>NaN</td>\n",
       "    </tr>\n",
       "    <tr>\n",
       "      <th>2</th>\n",
       "      <td>gp0l91l</td>\n",
       "      <td>b708k</td>\n",
       "      <td>gozeenz</td>\n",
       "      <td></td>\n",
       "      <td>Same. Doing my own thing whether it's outside ...</td>\n",
       "      <td>2021-02-27 16:04:27</td>\n",
       "      <td>30</td>\n",
       "      <td>infj</td>\n",
       "      <td>NaN</td>\n",
       "    </tr>\n",
       "    <tr>\n",
       "      <th>3</th>\n",
       "      <td>gp0ffo6</td>\n",
       "      <td>mkfu3</td>\n",
       "      <td>ltmgwm</td>\n",
       "      <td></td>\n",
       "      <td>I moved across the country straight out of col...</td>\n",
       "      <td>2021-02-27 15:40:01</td>\n",
       "      <td>46</td>\n",
       "      <td>infj</td>\n",
       "      <td>NaN</td>\n",
       "    </tr>\n",
       "    <tr>\n",
       "      <th>4</th>\n",
       "      <td>gp0g9eh</td>\n",
       "      <td>vh9kmmx</td>\n",
       "      <td>gp0ffo6</td>\n",
       "      <td></td>\n",
       "      <td>Are you me?  I thought I was the only weirdo w...</td>\n",
       "      <td>2021-02-27 15:43:01</td>\n",
       "      <td>18</td>\n",
       "      <td>infj</td>\n",
       "      <td>NaN</td>\n",
       "    </tr>\n",
       "    <tr>\n",
       "      <th>...</th>\n",
       "      <td>...</td>\n",
       "      <td>...</td>\n",
       "      <td>...</td>\n",
       "      <td>...</td>\n",
       "      <td>...</td>\n",
       "      <td>...</td>\n",
       "      <td>...</td>\n",
       "      <td>...</td>\n",
       "      <td>...</td>\n",
       "    </tr>\n",
       "    <tr>\n",
       "      <th>15172</th>\n",
       "      <td>gp7jyjl</td>\n",
       "      <td>3c5ent8f</td>\n",
       "      <td>lunkpn</td>\n",
       "      <td></td>\n",
       "      <td>I do this as well. It is definitely not becaus...</td>\n",
       "      <td>2021-02-28 20:11:41</td>\n",
       "      <td>10</td>\n",
       "      <td>mbti</td>\n",
       "      <td>NaN</td>\n",
       "    </tr>\n",
       "    <tr>\n",
       "      <th>15173</th>\n",
       "      <td>gp7n1dp</td>\n",
       "      <td>681obxgg</td>\n",
       "      <td>lunkpn</td>\n",
       "      <td></td>\n",
       "      <td>I do this too. I think it's just an Fi thing t...</td>\n",
       "      <td>2021-02-28 20:27:52</td>\n",
       "      <td>6</td>\n",
       "      <td>mbti</td>\n",
       "      <td>NaN</td>\n",
       "    </tr>\n",
       "    <tr>\n",
       "      <th>15174</th>\n",
       "      <td>gp7tp8p</td>\n",
       "      <td>sh56t</td>\n",
       "      <td>lunkpn</td>\n",
       "      <td></td>\n",
       "      <td>Sometimes? Not sure how simply using yourself ...</td>\n",
       "      <td>2021-02-28 21:02:51</td>\n",
       "      <td>2</td>\n",
       "      <td>mbti</td>\n",
       "      <td>NaN</td>\n",
       "    </tr>\n",
       "    <tr>\n",
       "      <th>15175</th>\n",
       "      <td>gp8q0wi</td>\n",
       "      <td>1jceigvp</td>\n",
       "      <td>lunkpn</td>\n",
       "      <td></td>\n",
       "      <td>It can appear selfish since it might look like...</td>\n",
       "      <td>2021-03-01 00:24:43</td>\n",
       "      <td>1</td>\n",
       "      <td>mbti</td>\n",
       "      <td>NaN</td>\n",
       "    </tr>\n",
       "    <tr>\n",
       "      <th>15176</th>\n",
       "      <td>gpcgyvp</td>\n",
       "      <td>3osyt13q</td>\n",
       "      <td>gpc3r4q</td>\n",
       "      <td></td>\n",
       "      <td>Yeah, as someone with ADHD, gaming all day wit...</td>\n",
       "      <td>2021-03-01 22:45:02</td>\n",
       "      <td>1</td>\n",
       "      <td>mbti</td>\n",
       "      <td>NaN</td>\n",
       "    </tr>\n",
       "  </tbody>\n",
       "</table>\n",
       "<p>15177 rows × 9 columns</p>\n",
       "</div>"
      ],
      "text/plain": [
       "            id   user_id parent_comment_id  \\\n",
       "0       ltmgwm  6i0rnp1p                     \n",
       "1      gozeenz  1s8dnq6p            ltmgwm   \n",
       "2      gp0l91l     b708k           gozeenz   \n",
       "3      gp0ffo6     mkfu3            ltmgwm   \n",
       "4      gp0g9eh   vh9kmmx           gp0ffo6   \n",
       "...        ...       ...               ...   \n",
       "15172  gp7jyjl  3c5ent8f            lunkpn   \n",
       "15173  gp7n1dp  681obxgg            lunkpn   \n",
       "15174  gp7tp8p     sh56t            lunkpn   \n",
       "15175  gp8q0wi  1jceigvp            lunkpn   \n",
       "15176  gpcgyvp  3osyt13q           gpc3r4q   \n",
       "\n",
       "                                                   title  \\\n",
       "0      Always felt different and misunderstood by family   \n",
       "1                                                          \n",
       "2                                                          \n",
       "3                                                          \n",
       "4                                                          \n",
       "...                                                  ...   \n",
       "15172                                                      \n",
       "15173                                                      \n",
       "15174                                                      \n",
       "15175                                                      \n",
       "15176                                                      \n",
       "\n",
       "                                                 content     created_datetime  \\\n",
       "0      I am an INFJ female, with no INFJ’s in my fami...  2021-02-27 12:45:56   \n",
       "1      Yupppp. No one understands me in my family. I ...  2021-02-27 13:02:48   \n",
       "2      Same. Doing my own thing whether it's outside ...  2021-02-27 16:04:27   \n",
       "3      I moved across the country straight out of col...  2021-02-27 15:40:01   \n",
       "4      Are you me?  I thought I was the only weirdo w...  2021-02-27 15:43:01   \n",
       "...                                                  ...                  ...   \n",
       "15172  I do this as well. It is definitely not becaus...  2021-02-28 20:11:41   \n",
       "15173  I do this too. I think it's just an Fi thing t...  2021-02-28 20:27:52   \n",
       "15174  Sometimes? Not sure how simply using yourself ...  2021-02-28 21:02:51   \n",
       "15175  It can appear selfish since it might look like...  2021-03-01 00:24:43   \n",
       "15176  Yeah, as someone with ADHD, gaming all day wit...  2021-03-01 22:45:02   \n",
       "\n",
       "       upvotes subreddit extracted_mbti  \n",
       "0          271      infj           INFJ  \n",
       "1           85      infj            NaN  \n",
       "2           30      infj            NaN  \n",
       "3           46      infj            NaN  \n",
       "4           18      infj            NaN  \n",
       "...        ...       ...            ...  \n",
       "15172       10      mbti            NaN  \n",
       "15173        6      mbti            NaN  \n",
       "15174        2      mbti            NaN  \n",
       "15175        1      mbti            NaN  \n",
       "15176        1      mbti            NaN  \n",
       "\n",
       "[15177 rows x 9 columns]"
      ]
     },
     "execution_count": 33,
     "metadata": {},
     "output_type": "execute_result"
    }
   ],
   "source": [
    "comments_df"
   ]
  },
  {
   "cell_type": "code",
   "execution_count": 34,
   "id": "hundred-amount",
   "metadata": {},
   "outputs": [
    {
     "data": {
      "text/html": [
       "<div>\n",
       "<style scoped>\n",
       "    .dataframe tbody tr th:only-of-type {\n",
       "        vertical-align: middle;\n",
       "    }\n",
       "\n",
       "    .dataframe tbody tr th {\n",
       "        vertical-align: top;\n",
       "    }\n",
       "\n",
       "    .dataframe thead th {\n",
       "        text-align: right;\n",
       "    }\n",
       "</style>\n",
       "<table border=\"1\" class=\"dataframe\">\n",
       "  <thead>\n",
       "    <tr style=\"text-align: right;\">\n",
       "      <th></th>\n",
       "      <th>id</th>\n",
       "      <th>name</th>\n",
       "      <th>flair_text</th>\n",
       "      <th>mbti_type</th>\n",
       "    </tr>\n",
       "  </thead>\n",
       "  <tbody>\n",
       "    <tr>\n",
       "      <th>0</th>\n",
       "      <td>6i0rnp1p</td>\n",
       "      <td>igid221</td>\n",
       "      <td></td>\n",
       "      <td>NaN</td>\n",
       "    </tr>\n",
       "    <tr>\n",
       "      <th>1</th>\n",
       "      <td>1s8dnq6p</td>\n",
       "      <td>Sheilaahmad</td>\n",
       "      <td></td>\n",
       "      <td>NaN</td>\n",
       "    </tr>\n",
       "    <tr>\n",
       "      <th>2</th>\n",
       "      <td>b708k</td>\n",
       "      <td>lzkbloodmage</td>\n",
       "      <td>INFJ-T 4w5 HSP HSS Empath | 26M SG</td>\n",
       "      <td>INFJ</td>\n",
       "    </tr>\n",
       "    <tr>\n",
       "      <th>3</th>\n",
       "      <td>mkfu3</td>\n",
       "      <td>ShannyPantsxo</td>\n",
       "      <td></td>\n",
       "      <td>NaN</td>\n",
       "    </tr>\n",
       "    <tr>\n",
       "      <th>4</th>\n",
       "      <td>vh9kmmx</td>\n",
       "      <td>lala2love</td>\n",
       "      <td></td>\n",
       "      <td>NaN</td>\n",
       "    </tr>\n",
       "    <tr>\n",
       "      <th>...</th>\n",
       "      <td>...</td>\n",
       "      <td>...</td>\n",
       "      <td>...</td>\n",
       "      <td>...</td>\n",
       "    </tr>\n",
       "    <tr>\n",
       "      <th>4806</th>\n",
       "      <td>2k93qy2z</td>\n",
       "      <td>krystalzhhf</td>\n",
       "      <td>INFP</td>\n",
       "      <td>INFP</td>\n",
       "    </tr>\n",
       "    <tr>\n",
       "      <th>4807</th>\n",
       "      <td>pktgyjt</td>\n",
       "      <td>Squamply</td>\n",
       "      <td></td>\n",
       "      <td>NaN</td>\n",
       "    </tr>\n",
       "    <tr>\n",
       "      <th>4808</th>\n",
       "      <td>76fgxdug</td>\n",
       "      <td>LoviEnthusiast</td>\n",
       "      <td></td>\n",
       "      <td>NaN</td>\n",
       "    </tr>\n",
       "    <tr>\n",
       "      <th>4809</th>\n",
       "      <td>sh56t</td>\n",
       "      <td>sotaponi</td>\n",
       "      <td></td>\n",
       "      <td>NaN</td>\n",
       "    </tr>\n",
       "    <tr>\n",
       "      <th>4810</th>\n",
       "      <td>1jceigvp</td>\n",
       "      <td>NeedMoreKowbell</td>\n",
       "      <td></td>\n",
       "      <td>NaN</td>\n",
       "    </tr>\n",
       "  </tbody>\n",
       "</table>\n",
       "<p>4811 rows × 4 columns</p>\n",
       "</div>"
      ],
      "text/plain": [
       "            id             name                          flair_text mbti_type\n",
       "0     6i0rnp1p          igid221                                           NaN\n",
       "1     1s8dnq6p      Sheilaahmad                                           NaN\n",
       "2        b708k     lzkbloodmage  INFJ-T 4w5 HSP HSS Empath | 26M SG      INFJ\n",
       "3        mkfu3    ShannyPantsxo                                           NaN\n",
       "4      vh9kmmx        lala2love                                           NaN\n",
       "...        ...              ...                                 ...       ...\n",
       "4806  2k93qy2z      krystalzhhf                                INFP      INFP\n",
       "4807   pktgyjt         Squamply                                           NaN\n",
       "4808  76fgxdug   LoviEnthusiast                                           NaN\n",
       "4809     sh56t         sotaponi                                           NaN\n",
       "4810  1jceigvp  NeedMoreKowbell                                           NaN\n",
       "\n",
       "[4811 rows x 4 columns]"
      ]
     },
     "execution_count": 34,
     "metadata": {},
     "output_type": "execute_result"
    }
   ],
   "source": [
    "users_df"
   ]
  },
  {
   "cell_type": "code",
   "execution_count": 35,
   "id": "working-thirty",
   "metadata": {},
   "outputs": [],
   "source": [
    "# Merge users and comments because we want to inject the extracted type from comments into the users table\n",
    "merged_comment_df = comments_df.merge(users_df[[\"id\", \"mbti_type\"]], left_on=\"user_id\", right_on=\"id\")"
   ]
  },
  {
   "cell_type": "code",
   "execution_count": 36,
   "id": "premium-aruba",
   "metadata": {},
   "outputs": [],
   "source": [
    "extracted_mbti_by_user_df = comments_df[~comments_df[\"extracted_mbti\"].isna()][[\"user_id\", \"extracted_mbti\"]].groupby(\"user_id\")[\"extracted_mbti\"].unique()"
   ]
  },
  {
   "cell_type": "code",
   "execution_count": 37,
   "id": "portuguese-commonwealth",
   "metadata": {},
   "outputs": [
    {
     "data": {
      "text/plain": [
       "user_id\n",
       "101tuq      [INTJ]\n",
       "115zer      [ENTP]\n",
       "11bj6s      [INFP]\n",
       "11nzmg      [INTJ]\n",
       "123994is    [ESTJ]\n",
       "             ...  \n",
       "x6twfh2     [ENTP]\n",
       "xrxhv       [INFJ]\n",
       "yelqs       [ENFJ]\n",
       "zf59s       [ESTJ]\n",
       "zfqgy       [INFJ]\n",
       "Name: extracted_mbti, Length: 317, dtype: object"
      ]
     },
     "execution_count": 37,
     "metadata": {},
     "output_type": "execute_result"
    }
   ],
   "source": [
    "extracted_mbti_by_user_df"
   ]
  },
  {
   "cell_type": "code",
   "execution_count": 38,
   "id": "competitive-marketplace",
   "metadata": {},
   "outputs": [
    {
     "data": {
      "text/plain": [
       "user_id\n",
       "64ga0       [ENFJ, ENTP]\n",
       "6ddnv9ui    [ENFJ, ESTP]\n",
       "870mk3j8    [ENFJ, INFP]\n",
       "9p9p2axq    [INTP, ESTP]\n",
       "9piy9onx    [ISTP, ESTP]\n",
       "Name: extracted_mbti, dtype: object"
      ]
     },
     "execution_count": 38,
     "metadata": {},
     "output_type": "execute_result"
    }
   ],
   "source": [
    "extracted_mbti_by_user_df[extracted_mbti_by_user_df.str.len() > 1]"
   ]
  },
  {
   "cell_type": "code",
   "execution_count": 39,
   "id": "serial-strap",
   "metadata": {},
   "outputs": [
    {
     "data": {
      "text/html": [
       "<div>\n",
       "<style scoped>\n",
       "    .dataframe tbody tr th:only-of-type {\n",
       "        vertical-align: middle;\n",
       "    }\n",
       "\n",
       "    .dataframe tbody tr th {\n",
       "        vertical-align: top;\n",
       "    }\n",
       "\n",
       "    .dataframe thead th {\n",
       "        text-align: right;\n",
       "    }\n",
       "</style>\n",
       "<table border=\"1\" class=\"dataframe\">\n",
       "  <thead>\n",
       "    <tr style=\"text-align: right;\">\n",
       "      <th></th>\n",
       "      <th>user_id</th>\n",
       "      <th>extracted_mbti</th>\n",
       "    </tr>\n",
       "  </thead>\n",
       "  <tbody>\n",
       "    <tr>\n",
       "      <th>0</th>\n",
       "      <td>101tuq</td>\n",
       "      <td>INTJ</td>\n",
       "    </tr>\n",
       "    <tr>\n",
       "      <th>1</th>\n",
       "      <td>115zer</td>\n",
       "      <td>ENTP</td>\n",
       "    </tr>\n",
       "    <tr>\n",
       "      <th>2</th>\n",
       "      <td>11bj6s</td>\n",
       "      <td>INFP</td>\n",
       "    </tr>\n",
       "    <tr>\n",
       "      <th>3</th>\n",
       "      <td>11nzmg</td>\n",
       "      <td>INTJ</td>\n",
       "    </tr>\n",
       "    <tr>\n",
       "      <th>4</th>\n",
       "      <td>123994is</td>\n",
       "      <td>ESTJ</td>\n",
       "    </tr>\n",
       "    <tr>\n",
       "      <th>...</th>\n",
       "      <td>...</td>\n",
       "      <td>...</td>\n",
       "    </tr>\n",
       "    <tr>\n",
       "      <th>307</th>\n",
       "      <td>x6twfh2</td>\n",
       "      <td>ENTP</td>\n",
       "    </tr>\n",
       "    <tr>\n",
       "      <th>308</th>\n",
       "      <td>xrxhv</td>\n",
       "      <td>INFJ</td>\n",
       "    </tr>\n",
       "    <tr>\n",
       "      <th>309</th>\n",
       "      <td>yelqs</td>\n",
       "      <td>ENFJ</td>\n",
       "    </tr>\n",
       "    <tr>\n",
       "      <th>310</th>\n",
       "      <td>zf59s</td>\n",
       "      <td>ESTJ</td>\n",
       "    </tr>\n",
       "    <tr>\n",
       "      <th>311</th>\n",
       "      <td>zfqgy</td>\n",
       "      <td>INFJ</td>\n",
       "    </tr>\n",
       "  </tbody>\n",
       "</table>\n",
       "<p>312 rows × 2 columns</p>\n",
       "</div>"
      ],
      "text/plain": [
       "      user_id extracted_mbti\n",
       "0      101tuq           INTJ\n",
       "1      115zer           ENTP\n",
       "2      11bj6s           INFP\n",
       "3      11nzmg           INTJ\n",
       "4    123994is           ESTJ\n",
       "..        ...            ...\n",
       "307   x6twfh2           ENTP\n",
       "308     xrxhv           INFJ\n",
       "309     yelqs           ENFJ\n",
       "310     zf59s           ESTJ\n",
       "311     zfqgy           INFJ\n",
       "\n",
       "[312 rows x 2 columns]"
      ]
     },
     "execution_count": 39,
     "metadata": {},
     "output_type": "execute_result"
    }
   ],
   "source": [
    "# It is better to remove these users with ambiguous types\n",
    "extracted_mbti_by_user_df = extracted_mbti_by_user_df[extracted_mbti_by_user_df.str.len() == 1].str[0].reset_index()\n",
    "extracted_mbti_by_user_df"
   ]
  },
  {
   "cell_type": "code",
   "execution_count": 40,
   "id": "identical-butter",
   "metadata": {},
   "outputs": [],
   "source": [
    "users_df = users_df.merge(extracted_mbti_by_user_df, left_on=\"id\", right_on=\"user_id\", how=\"left\")"
   ]
  },
  {
   "cell_type": "code",
   "execution_count": 41,
   "id": "sensitive-preview",
   "metadata": {},
   "outputs": [],
   "source": [
    "users_df = users_df.rename(columns={\"mbti_type\": \"mbti_type_from_flair_text\", \"extracted_mbti\": \"mbti_type_from_comments\"})"
   ]
  },
  {
   "cell_type": "code",
   "execution_count": 42,
   "id": "sized-merit",
   "metadata": {},
   "outputs": [
    {
     "data": {
      "text/html": [
       "<div>\n",
       "<style scoped>\n",
       "    .dataframe tbody tr th:only-of-type {\n",
       "        vertical-align: middle;\n",
       "    }\n",
       "\n",
       "    .dataframe tbody tr th {\n",
       "        vertical-align: top;\n",
       "    }\n",
       "\n",
       "    .dataframe thead th {\n",
       "        text-align: right;\n",
       "    }\n",
       "</style>\n",
       "<table border=\"1\" class=\"dataframe\">\n",
       "  <thead>\n",
       "    <tr style=\"text-align: right;\">\n",
       "      <th></th>\n",
       "      <th>id</th>\n",
       "      <th>name</th>\n",
       "      <th>flair_text</th>\n",
       "      <th>mbti_type_from_flair_text</th>\n",
       "      <th>user_id</th>\n",
       "      <th>mbti_type_from_comments</th>\n",
       "    </tr>\n",
       "  </thead>\n",
       "  <tbody>\n",
       "    <tr>\n",
       "      <th>0</th>\n",
       "      <td>6i0rnp1p</td>\n",
       "      <td>igid221</td>\n",
       "      <td></td>\n",
       "      <td>NaN</td>\n",
       "      <td>6i0rnp1p</td>\n",
       "      <td>INFJ</td>\n",
       "    </tr>\n",
       "    <tr>\n",
       "      <th>1</th>\n",
       "      <td>1s8dnq6p</td>\n",
       "      <td>Sheilaahmad</td>\n",
       "      <td></td>\n",
       "      <td>NaN</td>\n",
       "      <td>NaN</td>\n",
       "      <td>NaN</td>\n",
       "    </tr>\n",
       "    <tr>\n",
       "      <th>2</th>\n",
       "      <td>b708k</td>\n",
       "      <td>lzkbloodmage</td>\n",
       "      <td>INFJ-T 4w5 HSP HSS Empath | 26M SG</td>\n",
       "      <td>INFJ</td>\n",
       "      <td>NaN</td>\n",
       "      <td>NaN</td>\n",
       "    </tr>\n",
       "    <tr>\n",
       "      <th>3</th>\n",
       "      <td>mkfu3</td>\n",
       "      <td>ShannyPantsxo</td>\n",
       "      <td></td>\n",
       "      <td>NaN</td>\n",
       "      <td>NaN</td>\n",
       "      <td>NaN</td>\n",
       "    </tr>\n",
       "    <tr>\n",
       "      <th>4</th>\n",
       "      <td>vh9kmmx</td>\n",
       "      <td>lala2love</td>\n",
       "      <td></td>\n",
       "      <td>NaN</td>\n",
       "      <td>NaN</td>\n",
       "      <td>NaN</td>\n",
       "    </tr>\n",
       "    <tr>\n",
       "      <th>...</th>\n",
       "      <td>...</td>\n",
       "      <td>...</td>\n",
       "      <td>...</td>\n",
       "      <td>...</td>\n",
       "      <td>...</td>\n",
       "      <td>...</td>\n",
       "    </tr>\n",
       "    <tr>\n",
       "      <th>4806</th>\n",
       "      <td>2k93qy2z</td>\n",
       "      <td>krystalzhhf</td>\n",
       "      <td>INFP</td>\n",
       "      <td>INFP</td>\n",
       "      <td>NaN</td>\n",
       "      <td>NaN</td>\n",
       "    </tr>\n",
       "    <tr>\n",
       "      <th>4807</th>\n",
       "      <td>pktgyjt</td>\n",
       "      <td>Squamply</td>\n",
       "      <td></td>\n",
       "      <td>NaN</td>\n",
       "      <td>NaN</td>\n",
       "      <td>NaN</td>\n",
       "    </tr>\n",
       "    <tr>\n",
       "      <th>4808</th>\n",
       "      <td>76fgxdug</td>\n",
       "      <td>LoviEnthusiast</td>\n",
       "      <td></td>\n",
       "      <td>NaN</td>\n",
       "      <td>76fgxdug</td>\n",
       "      <td>ENFP</td>\n",
       "    </tr>\n",
       "    <tr>\n",
       "      <th>4809</th>\n",
       "      <td>sh56t</td>\n",
       "      <td>sotaponi</td>\n",
       "      <td></td>\n",
       "      <td>NaN</td>\n",
       "      <td>NaN</td>\n",
       "      <td>NaN</td>\n",
       "    </tr>\n",
       "    <tr>\n",
       "      <th>4810</th>\n",
       "      <td>1jceigvp</td>\n",
       "      <td>NeedMoreKowbell</td>\n",
       "      <td></td>\n",
       "      <td>NaN</td>\n",
       "      <td>NaN</td>\n",
       "      <td>NaN</td>\n",
       "    </tr>\n",
       "  </tbody>\n",
       "</table>\n",
       "<p>4811 rows × 6 columns</p>\n",
       "</div>"
      ],
      "text/plain": [
       "            id             name                          flair_text  \\\n",
       "0     6i0rnp1p          igid221                                       \n",
       "1     1s8dnq6p      Sheilaahmad                                       \n",
       "2        b708k     lzkbloodmage  INFJ-T 4w5 HSP HSS Empath | 26M SG   \n",
       "3        mkfu3    ShannyPantsxo                                       \n",
       "4      vh9kmmx        lala2love                                       \n",
       "...        ...              ...                                 ...   \n",
       "4806  2k93qy2z      krystalzhhf                                INFP   \n",
       "4807   pktgyjt         Squamply                                       \n",
       "4808  76fgxdug   LoviEnthusiast                                       \n",
       "4809     sh56t         sotaponi                                       \n",
       "4810  1jceigvp  NeedMoreKowbell                                       \n",
       "\n",
       "     mbti_type_from_flair_text   user_id mbti_type_from_comments  \n",
       "0                          NaN  6i0rnp1p                    INFJ  \n",
       "1                          NaN       NaN                     NaN  \n",
       "2                         INFJ       NaN                     NaN  \n",
       "3                          NaN       NaN                     NaN  \n",
       "4                          NaN       NaN                     NaN  \n",
       "...                        ...       ...                     ...  \n",
       "4806                      INFP       NaN                     NaN  \n",
       "4807                       NaN       NaN                     NaN  \n",
       "4808                       NaN  76fgxdug                    ENFP  \n",
       "4809                       NaN       NaN                     NaN  \n",
       "4810                       NaN       NaN                     NaN  \n",
       "\n",
       "[4811 rows x 6 columns]"
      ]
     },
     "execution_count": 42,
     "metadata": {},
     "output_type": "execute_result"
    }
   ],
   "source": [
    "# Now we have two mbti types: mbti_type_from_flair_text and mbti_type_from_comments\n",
    "users_df"
   ]
  },
  {
   "cell_type": "code",
   "execution_count": 43,
   "id": "universal-transparency",
   "metadata": {},
   "outputs": [],
   "source": [
    "# Let's take mbti_type_from_flair_text as a default value for the MBTI type of a user\n",
    "users_df[\"mbti_type\"] = users_df[\"mbti_type_from_flair_text\"]"
   ]
  },
  {
   "cell_type": "code",
   "execution_count": 44,
   "id": "adolescent-calculator",
   "metadata": {},
   "outputs": [],
   "source": [
    "# However, if mbti_type_from_flair_text is not set, we use mbti_type_from_comments\n",
    "no_mbti_type_from_flair_text = users_df[\"mbti_type_from_flair_text\"].isna()\n",
    "users_df.loc[no_mbti_type_from_flair_text, \"mbti_type\"] = users_df[no_mbti_type_from_flair_text][\"mbti_type_from_comments\"]"
   ]
  },
  {
   "cell_type": "code",
   "execution_count": 45,
   "id": "contained-arthritis",
   "metadata": {},
   "outputs": [
    {
     "data": {
      "text/html": [
       "<div>\n",
       "<style scoped>\n",
       "    .dataframe tbody tr th:only-of-type {\n",
       "        vertical-align: middle;\n",
       "    }\n",
       "\n",
       "    .dataframe tbody tr th {\n",
       "        vertical-align: top;\n",
       "    }\n",
       "\n",
       "    .dataframe thead th {\n",
       "        text-align: right;\n",
       "    }\n",
       "</style>\n",
       "<table border=\"1\" class=\"dataframe\">\n",
       "  <thead>\n",
       "    <tr style=\"text-align: right;\">\n",
       "      <th></th>\n",
       "      <th>id</th>\n",
       "      <th>name</th>\n",
       "      <th>mbti_type</th>\n",
       "    </tr>\n",
       "  </thead>\n",
       "  <tbody>\n",
       "    <tr>\n",
       "      <th>0</th>\n",
       "      <td>6i0rnp1p</td>\n",
       "      <td>igid221</td>\n",
       "      <td>INFJ</td>\n",
       "    </tr>\n",
       "    <tr>\n",
       "      <th>1</th>\n",
       "      <td>1s8dnq6p</td>\n",
       "      <td>Sheilaahmad</td>\n",
       "      <td>NaN</td>\n",
       "    </tr>\n",
       "    <tr>\n",
       "      <th>2</th>\n",
       "      <td>b708k</td>\n",
       "      <td>lzkbloodmage</td>\n",
       "      <td>INFJ</td>\n",
       "    </tr>\n",
       "    <tr>\n",
       "      <th>3</th>\n",
       "      <td>mkfu3</td>\n",
       "      <td>ShannyPantsxo</td>\n",
       "      <td>NaN</td>\n",
       "    </tr>\n",
       "    <tr>\n",
       "      <th>4</th>\n",
       "      <td>vh9kmmx</td>\n",
       "      <td>lala2love</td>\n",
       "      <td>NaN</td>\n",
       "    </tr>\n",
       "    <tr>\n",
       "      <th>...</th>\n",
       "      <td>...</td>\n",
       "      <td>...</td>\n",
       "      <td>...</td>\n",
       "    </tr>\n",
       "    <tr>\n",
       "      <th>4806</th>\n",
       "      <td>2k93qy2z</td>\n",
       "      <td>krystalzhhf</td>\n",
       "      <td>INFP</td>\n",
       "    </tr>\n",
       "    <tr>\n",
       "      <th>4807</th>\n",
       "      <td>pktgyjt</td>\n",
       "      <td>Squamply</td>\n",
       "      <td>NaN</td>\n",
       "    </tr>\n",
       "    <tr>\n",
       "      <th>4808</th>\n",
       "      <td>76fgxdug</td>\n",
       "      <td>LoviEnthusiast</td>\n",
       "      <td>ENFP</td>\n",
       "    </tr>\n",
       "    <tr>\n",
       "      <th>4809</th>\n",
       "      <td>sh56t</td>\n",
       "      <td>sotaponi</td>\n",
       "      <td>NaN</td>\n",
       "    </tr>\n",
       "    <tr>\n",
       "      <th>4810</th>\n",
       "      <td>1jceigvp</td>\n",
       "      <td>NeedMoreKowbell</td>\n",
       "      <td>NaN</td>\n",
       "    </tr>\n",
       "  </tbody>\n",
       "</table>\n",
       "<p>4811 rows × 3 columns</p>\n",
       "</div>"
      ],
      "text/plain": [
       "            id             name mbti_type\n",
       "0     6i0rnp1p          igid221      INFJ\n",
       "1     1s8dnq6p      Sheilaahmad       NaN\n",
       "2        b708k     lzkbloodmage      INFJ\n",
       "3        mkfu3    ShannyPantsxo       NaN\n",
       "4      vh9kmmx        lala2love       NaN\n",
       "...        ...              ...       ...\n",
       "4806  2k93qy2z      krystalzhhf      INFP\n",
       "4807   pktgyjt         Squamply       NaN\n",
       "4808  76fgxdug   LoviEnthusiast      ENFP\n",
       "4809     sh56t         sotaponi       NaN\n",
       "4810  1jceigvp  NeedMoreKowbell       NaN\n",
       "\n",
       "[4811 rows x 3 columns]"
      ]
     },
     "execution_count": 45,
     "metadata": {},
     "output_type": "execute_result"
    }
   ],
   "source": [
    "users_df[[\"id\", \"name\", \"mbti_type\"]]"
   ]
  },
  {
   "cell_type": "code",
   "execution_count": 46,
   "id": "fluid-light",
   "metadata": {},
   "outputs": [
    {
     "data": {
      "text/html": [
       "<div>\n",
       "<style scoped>\n",
       "    .dataframe tbody tr th:only-of-type {\n",
       "        vertical-align: middle;\n",
       "    }\n",
       "\n",
       "    .dataframe tbody tr th {\n",
       "        vertical-align: top;\n",
       "    }\n",
       "\n",
       "    .dataframe thead th {\n",
       "        text-align: right;\n",
       "    }\n",
       "</style>\n",
       "<table border=\"1\" class=\"dataframe\">\n",
       "  <thead>\n",
       "    <tr style=\"text-align: right;\">\n",
       "      <th></th>\n",
       "      <th>id</th>\n",
       "      <th>user_id</th>\n",
       "      <th>parent_comment_id</th>\n",
       "      <th>subreddit</th>\n",
       "      <th>title</th>\n",
       "      <th>content</th>\n",
       "    </tr>\n",
       "  </thead>\n",
       "  <tbody>\n",
       "    <tr>\n",
       "      <th>0</th>\n",
       "      <td>ltmgwm</td>\n",
       "      <td>6i0rnp1p</td>\n",
       "      <td></td>\n",
       "      <td>infj</td>\n",
       "      <td>Always felt different and misunderstood by family</td>\n",
       "      <td>I am an INFJ female, with no INFJ’s in my fami...</td>\n",
       "    </tr>\n",
       "    <tr>\n",
       "      <th>1</th>\n",
       "      <td>gozeenz</td>\n",
       "      <td>1s8dnq6p</td>\n",
       "      <td>ltmgwm</td>\n",
       "      <td>infj</td>\n",
       "      <td></td>\n",
       "      <td>Yupppp. No one understands me in my family. I ...</td>\n",
       "    </tr>\n",
       "    <tr>\n",
       "      <th>2</th>\n",
       "      <td>gp0l91l</td>\n",
       "      <td>b708k</td>\n",
       "      <td>gozeenz</td>\n",
       "      <td>infj</td>\n",
       "      <td></td>\n",
       "      <td>Same. Doing my own thing whether it's outside ...</td>\n",
       "    </tr>\n",
       "    <tr>\n",
       "      <th>3</th>\n",
       "      <td>gp0ffo6</td>\n",
       "      <td>mkfu3</td>\n",
       "      <td>ltmgwm</td>\n",
       "      <td>infj</td>\n",
       "      <td></td>\n",
       "      <td>I moved across the country straight out of col...</td>\n",
       "    </tr>\n",
       "    <tr>\n",
       "      <th>4</th>\n",
       "      <td>gp0g9eh</td>\n",
       "      <td>vh9kmmx</td>\n",
       "      <td>gp0ffo6</td>\n",
       "      <td>infj</td>\n",
       "      <td></td>\n",
       "      <td>Are you me?  I thought I was the only weirdo w...</td>\n",
       "    </tr>\n",
       "    <tr>\n",
       "      <th>...</th>\n",
       "      <td>...</td>\n",
       "      <td>...</td>\n",
       "      <td>...</td>\n",
       "      <td>...</td>\n",
       "      <td>...</td>\n",
       "      <td>...</td>\n",
       "    </tr>\n",
       "    <tr>\n",
       "      <th>15172</th>\n",
       "      <td>gp7jyjl</td>\n",
       "      <td>3c5ent8f</td>\n",
       "      <td>lunkpn</td>\n",
       "      <td>mbti</td>\n",
       "      <td></td>\n",
       "      <td>I do this as well. It is definitely not becaus...</td>\n",
       "    </tr>\n",
       "    <tr>\n",
       "      <th>15173</th>\n",
       "      <td>gp7n1dp</td>\n",
       "      <td>681obxgg</td>\n",
       "      <td>lunkpn</td>\n",
       "      <td>mbti</td>\n",
       "      <td></td>\n",
       "      <td>I do this too. I think it's just an Fi thing t...</td>\n",
       "    </tr>\n",
       "    <tr>\n",
       "      <th>15174</th>\n",
       "      <td>gp7tp8p</td>\n",
       "      <td>sh56t</td>\n",
       "      <td>lunkpn</td>\n",
       "      <td>mbti</td>\n",
       "      <td></td>\n",
       "      <td>Sometimes? Not sure how simply using yourself ...</td>\n",
       "    </tr>\n",
       "    <tr>\n",
       "      <th>15175</th>\n",
       "      <td>gp8q0wi</td>\n",
       "      <td>1jceigvp</td>\n",
       "      <td>lunkpn</td>\n",
       "      <td>mbti</td>\n",
       "      <td></td>\n",
       "      <td>It can appear selfish since it might look like...</td>\n",
       "    </tr>\n",
       "    <tr>\n",
       "      <th>15176</th>\n",
       "      <td>gpcgyvp</td>\n",
       "      <td>3osyt13q</td>\n",
       "      <td>gpc3r4q</td>\n",
       "      <td>mbti</td>\n",
       "      <td></td>\n",
       "      <td>Yeah, as someone with ADHD, gaming all day wit...</td>\n",
       "    </tr>\n",
       "  </tbody>\n",
       "</table>\n",
       "<p>15177 rows × 6 columns</p>\n",
       "</div>"
      ],
      "text/plain": [
       "            id   user_id parent_comment_id subreddit  \\\n",
       "0       ltmgwm  6i0rnp1p                        infj   \n",
       "1      gozeenz  1s8dnq6p            ltmgwm      infj   \n",
       "2      gp0l91l     b708k           gozeenz      infj   \n",
       "3      gp0ffo6     mkfu3            ltmgwm      infj   \n",
       "4      gp0g9eh   vh9kmmx           gp0ffo6      infj   \n",
       "...        ...       ...               ...       ...   \n",
       "15172  gp7jyjl  3c5ent8f            lunkpn      mbti   \n",
       "15173  gp7n1dp  681obxgg            lunkpn      mbti   \n",
       "15174  gp7tp8p     sh56t            lunkpn      mbti   \n",
       "15175  gp8q0wi  1jceigvp            lunkpn      mbti   \n",
       "15176  gpcgyvp  3osyt13q           gpc3r4q      mbti   \n",
       "\n",
       "                                                   title  \\\n",
       "0      Always felt different and misunderstood by family   \n",
       "1                                                          \n",
       "2                                                          \n",
       "3                                                          \n",
       "4                                                          \n",
       "...                                                  ...   \n",
       "15172                                                      \n",
       "15173                                                      \n",
       "15174                                                      \n",
       "15175                                                      \n",
       "15176                                                      \n",
       "\n",
       "                                                 content  \n",
       "0      I am an INFJ female, with no INFJ’s in my fami...  \n",
       "1      Yupppp. No one understands me in my family. I ...  \n",
       "2      Same. Doing my own thing whether it's outside ...  \n",
       "3      I moved across the country straight out of col...  \n",
       "4      Are you me?  I thought I was the only weirdo w...  \n",
       "...                                                  ...  \n",
       "15172  I do this as well. It is definitely not becaus...  \n",
       "15173  I do this too. I think it's just an Fi thing t...  \n",
       "15174  Sometimes? Not sure how simply using yourself ...  \n",
       "15175  It can appear selfish since it might look like...  \n",
       "15176  Yeah, as someone with ADHD, gaming all day wit...  \n",
       "\n",
       "[15177 rows x 6 columns]"
      ]
     },
     "execution_count": 46,
     "metadata": {},
     "output_type": "execute_result"
    }
   ],
   "source": [
    "comments_df[[\"id\", \"user_id\", \"parent_comment_id\", \"subreddit\", \"title\", \"content\"]]"
   ]
  },
  {
   "cell_type": "code",
   "execution_count": 55,
   "id": "informed-copying",
   "metadata": {},
   "outputs": [],
   "source": [
    "# saving the users_df with mbti_types as a feather file\n",
    "users_df[[\"id\", \"name\", \"mbti_type\"]].to_feather(\"../data/users_df_with_mbti_type.feather\")"
   ]
  },
  {
   "cell_type": "markdown",
   "id": "fatal-glucose",
   "metadata": {},
   "source": [
    "# 2. Vectorize texts"
   ]
  },
  {
   "cell_type": "code",
   "execution_count": 30,
   "id": "aggregate-space",
   "metadata": {},
   "outputs": [],
   "source": [
    "import tensorflow_hub as hub\n",
    "import numpy as np\n",
    "import tensorflow_text"
   ]
  },
  {
   "cell_type": "code",
   "execution_count": 31,
   "id": "transparent-disclaimer",
   "metadata": {},
   "outputs": [],
   "source": [
    "muse_model = hub.load(\"https://tfhub.dev/google/universal-sentence-encoder-multilingual/3\")"
   ]
  },
  {
   "cell_type": "code",
   "execution_count": 43,
   "id": "fifteen-scientist",
   "metadata": {},
   "outputs": [
    {
     "name": "stdout",
     "output_type": "stream",
     "text": [
      "Prepare batch 1/152\n",
      "Prepare batch 2/152\n",
      "Prepare batch 3/152\n",
      "Prepare batch 4/152\n",
      "Prepare batch 5/152\n",
      "Prepare batch 6/152\n",
      "Prepare batch 7/152\n",
      "Prepare batch 8/152\n",
      "Prepare batch 9/152\n",
      "Prepare batch 10/152\n",
      "Prepare batch 11/152\n",
      "Prepare batch 12/152\n",
      "Prepare batch 13/152\n",
      "Prepare batch 14/152\n",
      "Prepare batch 15/152\n",
      "Prepare batch 16/152\n",
      "Prepare batch 17/152\n",
      "Prepare batch 18/152\n",
      "Prepare batch 19/152\n",
      "Prepare batch 20/152\n",
      "Prepare batch 21/152\n",
      "Prepare batch 22/152\n",
      "Prepare batch 23/152\n",
      "Prepare batch 24/152\n",
      "Prepare batch 25/152\n",
      "Prepare batch 26/152\n",
      "Prepare batch 27/152\n",
      "Prepare batch 28/152\n",
      "Prepare batch 29/152\n",
      "Prepare batch 30/152\n",
      "Prepare batch 31/152\n",
      "Prepare batch 32/152\n",
      "Prepare batch 33/152\n",
      "Prepare batch 34/152\n",
      "Prepare batch 35/152\n",
      "Prepare batch 36/152\n",
      "Prepare batch 37/152\n",
      "Prepare batch 38/152\n",
      "Prepare batch 39/152\n",
      "Prepare batch 40/152\n",
      "Prepare batch 41/152\n",
      "Prepare batch 42/152\n",
      "Prepare batch 43/152\n",
      "Prepare batch 44/152\n",
      "Prepare batch 45/152\n",
      "Prepare batch 46/152\n",
      "Prepare batch 47/152\n",
      "Prepare batch 48/152\n",
      "Prepare batch 49/152\n",
      "Prepare batch 50/152\n",
      "Prepare batch 51/152\n",
      "Prepare batch 52/152\n",
      "Prepare batch 53/152\n",
      "Prepare batch 54/152\n",
      "Prepare batch 55/152\n",
      "Prepare batch 56/152\n",
      "Prepare batch 57/152\n",
      "Prepare batch 58/152\n",
      "Prepare batch 59/152\n",
      "Prepare batch 60/152\n",
      "Prepare batch 61/152\n",
      "Prepare batch 62/152\n",
      "Prepare batch 63/152\n",
      "Prepare batch 64/152\n",
      "Prepare batch 65/152\n",
      "Prepare batch 66/152\n",
      "Prepare batch 67/152\n",
      "Prepare batch 68/152\n",
      "Prepare batch 69/152\n",
      "Prepare batch 70/152\n",
      "Prepare batch 71/152\n",
      "Prepare batch 72/152\n",
      "Prepare batch 73/152\n",
      "Prepare batch 74/152\n",
      "Prepare batch 75/152\n",
      "Prepare batch 76/152\n",
      "Prepare batch 77/152\n",
      "Prepare batch 78/152\n",
      "Prepare batch 79/152\n",
      "Prepare batch 80/152\n",
      "Prepare batch 81/152\n",
      "Prepare batch 82/152\n",
      "Prepare batch 83/152\n",
      "Prepare batch 84/152\n",
      "Prepare batch 85/152\n",
      "Prepare batch 86/152\n",
      "Prepare batch 87/152\n",
      "Prepare batch 88/152\n",
      "Prepare batch 89/152\n",
      "Prepare batch 90/152\n",
      "Prepare batch 91/152\n",
      "Prepare batch 92/152\n",
      "Prepare batch 93/152\n",
      "Prepare batch 94/152\n",
      "Prepare batch 95/152\n",
      "Prepare batch 96/152\n",
      "Prepare batch 97/152\n",
      "Prepare batch 98/152\n",
      "Prepare batch 99/152\n",
      "Prepare batch 100/152\n",
      "Prepare batch 101/152\n",
      "Prepare batch 102/152\n",
      "Prepare batch 103/152\n",
      "Prepare batch 104/152\n",
      "Prepare batch 105/152\n",
      "Prepare batch 106/152\n",
      "Prepare batch 107/152\n",
      "Prepare batch 108/152\n",
      "Prepare batch 109/152\n",
      "Prepare batch 110/152\n",
      "Prepare batch 111/152\n",
      "Prepare batch 112/152\n",
      "Prepare batch 113/152\n",
      "Prepare batch 114/152\n",
      "Prepare batch 115/152\n",
      "Prepare batch 116/152\n",
      "Prepare batch 117/152\n",
      "Prepare batch 118/152\n",
      "Prepare batch 119/152\n",
      "Prepare batch 120/152\n",
      "Prepare batch 121/152\n",
      "Prepare batch 122/152\n",
      "Prepare batch 123/152\n",
      "Prepare batch 124/152\n",
      "Prepare batch 125/152\n",
      "Prepare batch 126/152\n",
      "Prepare batch 127/152\n",
      "Prepare batch 128/152\n",
      "Prepare batch 129/152\n",
      "Prepare batch 130/152\n",
      "Prepare batch 131/152\n",
      "Prepare batch 132/152\n",
      "Prepare batch 133/152\n",
      "Prepare batch 134/152\n",
      "Prepare batch 135/152\n",
      "Prepare batch 136/152\n",
      "Prepare batch 137/152\n",
      "Prepare batch 138/152\n",
      "Prepare batch 139/152\n",
      "Prepare batch 140/152\n",
      "Prepare batch 141/152\n",
      "Prepare batch 142/152\n",
      "Prepare batch 143/152\n",
      "Prepare batch 144/152\n",
      "Prepare batch 145/152\n",
      "Prepare batch 146/152\n",
      "Prepare batch 147/152\n",
      "Prepare batch 148/152\n",
      "Prepare batch 149/152\n",
      "Prepare batch 150/152\n",
      "Prepare batch 151/152\n",
      "Prepare batch 152/152\n"
     ]
    }
   ],
   "source": [
    "batch_size = 100\n",
    "n_batches = len(comments_df[\"content\"]) // batch_size\n",
    "if len(comments_df[\"content\"]) % batch_size > 0:\n",
    "    n_batches += 1\n",
    "\n",
    "vectors = []\n",
    "for i in range(n_batches):\n",
    "    print(\"Prepare batch {}/{}\".format(i + 1, n_batches))\n",
    "    batch_start_index = i * batch_size\n",
    "    batch_end_index = min(batch_start_index + batch_size, len(comments_df))\n",
    "    sentences = comments_df.iloc[batch_start_index:batch_end_index][\"content\"].tolist()\n",
    "    vectors.append(muse_model(sentences))\n",
    "vectors = np.concatenate(vectors)"
   ]
  },
  {
   "cell_type": "code",
   "execution_count": 44,
   "id": "revolutionary-qatar",
   "metadata": {},
   "outputs": [
    {
     "data": {
      "text/plain": [
       "(15177, 512)"
      ]
     },
     "execution_count": 44,
     "metadata": {},
     "output_type": "execute_result"
    }
   ],
   "source": [
    "vectors.shape"
   ]
  },
  {
   "cell_type": "code",
   "execution_count": 48,
   "id": "sticky-migration",
   "metadata": {},
   "outputs": [],
   "source": [
    "distance_matrix = np.inner(vectors, vectors)"
   ]
  },
  {
   "cell_type": "code",
   "execution_count": 55,
   "id": "conditional-royalty",
   "metadata": {},
   "outputs": [
    {
     "data": {
      "text/plain": [
       "(15177, 15177)"
      ]
     },
     "execution_count": 55,
     "metadata": {},
     "output_type": "execute_result"
    }
   ],
   "source": [
    "distance_matrix.shape"
   ]
  },
  {
   "cell_type": "code",
   "execution_count": 52,
   "id": "integrated-storm",
   "metadata": {},
   "outputs": [],
   "source": [
    "labels = comments_df[[\"user_id\"]].merge(users_df[[\"id\", \"mbti_type\"]], left_on=\"user_id\", right_on=\"id\")[\"mbti_type\"].values"
   ]
  },
  {
   "cell_type": "code",
   "execution_count": 53,
   "id": "collaborative-merchandise",
   "metadata": {},
   "outputs": [
    {
     "data": {
      "text/plain": [
       "(15177,)"
      ]
     },
     "execution_count": 53,
     "metadata": {},
     "output_type": "execute_result"
    }
   ],
   "source": [
    "labels.shape"
   ]
  },
  {
   "cell_type": "code",
   "execution_count": 54,
   "id": "stylish-intent",
   "metadata": {},
   "outputs": [
    {
     "data": {
      "text/plain": [
       "array(['INFJ', nan, nan, ..., 'ENFP', nan, nan], dtype=object)"
      ]
     },
     "execution_count": 54,
     "metadata": {},
     "output_type": "execute_result"
    }
   ],
   "source": [
    "labels"
   ]
  },
  {
   "cell_type": "markdown",
   "id": "continued-airfare",
   "metadata": {},
   "source": [
    "# 3. Plot vectors"
   ]
  },
  {
   "cell_type": "code",
   "execution_count": 58,
   "id": "usual-friendship",
   "metadata": {},
   "outputs": [],
   "source": [
    "from umap import UMAP"
   ]
  },
  {
   "cell_type": "code",
   "execution_count": 59,
   "id": "alien-being",
   "metadata": {},
   "outputs": [
    {
     "name": "stdout",
     "output_type": "stream",
     "text": [
      "UMAP(angular_rp_forest=True, dens_frac=0.0, dens_lambda=0.0, metric='cosine',\n",
      "     verbose=True)\n",
      "Construct fuzzy simplicial set\n",
      "Wed Mar  3 23:07:39 2021 Finding Nearest Neighbors\n",
      "Wed Mar  3 23:07:39 2021 Building RP forest with 11 trees\n",
      "Wed Mar  3 23:07:43 2021 NN descent for 14 iterations\n",
      "\t 1  /  14\n",
      "\t 2  /  14\n",
      "\t 3  /  14\n",
      "\t 4  /  14\n",
      "\t 5  /  14\n",
      "\t 6  /  14\n",
      "\t 7  /  14\n",
      "\tStopping threshold met -- exiting after 7 iterations\n",
      "Wed Mar  3 23:08:01 2021 Finished Nearest Neighbor Search\n",
      "Wed Mar  3 23:08:04 2021 Construct embedding\n",
      "\tcompleted  0  /  200 epochs\n",
      "\tcompleted  20  /  200 epochs\n",
      "\tcompleted  40  /  200 epochs\n",
      "\tcompleted  60  /  200 epochs\n",
      "\tcompleted  80  /  200 epochs\n",
      "\tcompleted  100  /  200 epochs\n",
      "\tcompleted  120  /  200 epochs\n",
      "\tcompleted  140  /  200 epochs\n",
      "\tcompleted  160  /  200 epochs\n",
      "\tcompleted  180  /  200 epochs\n",
      "Wed Mar  3 23:08:14 2021 Finished embedding\n"
     ]
    }
   ],
   "source": [
    "reducer = UMAP(n_components=2, metric=\"cosine\", verbose=True)\n",
    "vectors_2d = reducer.fit_transform(vectors)"
   ]
  },
  {
   "cell_type": "code",
   "execution_count": 60,
   "id": "legitimate-neutral",
   "metadata": {},
   "outputs": [
    {
     "data": {
      "text/plain": [
       "(15177, 2)"
      ]
     },
     "execution_count": 60,
     "metadata": {},
     "output_type": "execute_result"
    }
   ],
   "source": [
    "vectors_2d.shape"
   ]
  },
  {
   "cell_type": "code",
   "execution_count": 71,
   "id": "remarkable-holly",
   "metadata": {},
   "outputs": [],
   "source": [
    "plot_df = pd.DataFrame({\n",
    "    \"x_1\": vectors_2d[:, 0],\n",
    "    \"x_2\": vectors_2d[:, 1],\n",
    "    \"content\": comments_df[\"content\"],\n",
    "    \"label\": labels\n",
    "})"
   ]
  },
  {
   "cell_type": "code",
   "execution_count": 72,
   "id": "floppy-buffer",
   "metadata": {},
   "outputs": [],
   "source": [
    "plot_df[\"label\"] = plot_df[\"label\"].fillna(\"NA\")"
   ]
  },
  {
   "cell_type": "code",
   "execution_count": 73,
   "id": "thermal-video",
   "metadata": {},
   "outputs": [
    {
     "data": {
      "text/html": [
       "<div>\n",
       "<style scoped>\n",
       "    .dataframe tbody tr th:only-of-type {\n",
       "        vertical-align: middle;\n",
       "    }\n",
       "\n",
       "    .dataframe tbody tr th {\n",
       "        vertical-align: top;\n",
       "    }\n",
       "\n",
       "    .dataframe thead th {\n",
       "        text-align: right;\n",
       "    }\n",
       "</style>\n",
       "<table border=\"1\" class=\"dataframe\">\n",
       "  <thead>\n",
       "    <tr style=\"text-align: right;\">\n",
       "      <th></th>\n",
       "      <th>x_1</th>\n",
       "      <th>x_2</th>\n",
       "      <th>content</th>\n",
       "      <th>label</th>\n",
       "    </tr>\n",
       "  </thead>\n",
       "  <tbody>\n",
       "    <tr>\n",
       "      <th>0</th>\n",
       "      <td>4.481791</td>\n",
       "      <td>7.138180</td>\n",
       "      <td>I am an INFJ female, with no INFJ’s in my fami...</td>\n",
       "      <td>INFJ</td>\n",
       "    </tr>\n",
       "    <tr>\n",
       "      <th>1</th>\n",
       "      <td>6.696858</td>\n",
       "      <td>9.541062</td>\n",
       "      <td>Yupppp. No one understands me in my family. I ...</td>\n",
       "      <td>NA</td>\n",
       "    </tr>\n",
       "    <tr>\n",
       "      <th>2</th>\n",
       "      <td>7.421050</td>\n",
       "      <td>9.256389</td>\n",
       "      <td>Same. Doing my own thing whether it's outside ...</td>\n",
       "      <td>NA</td>\n",
       "    </tr>\n",
       "    <tr>\n",
       "      <th>3</th>\n",
       "      <td>6.996467</td>\n",
       "      <td>8.909230</td>\n",
       "      <td>I moved across the country straight out of col...</td>\n",
       "      <td>INFJ</td>\n",
       "    </tr>\n",
       "    <tr>\n",
       "      <th>4</th>\n",
       "      <td>5.969614</td>\n",
       "      <td>8.778481</td>\n",
       "      <td>Are you me?  I thought I was the only weirdo w...</td>\n",
       "      <td>INFJ</td>\n",
       "    </tr>\n",
       "    <tr>\n",
       "      <th>...</th>\n",
       "      <td>...</td>\n",
       "      <td>...</td>\n",
       "      <td>...</td>\n",
       "      <td>...</td>\n",
       "    </tr>\n",
       "    <tr>\n",
       "      <th>15172</th>\n",
       "      <td>6.707380</td>\n",
       "      <td>8.991220</td>\n",
       "      <td>I do this as well. It is definitely not becaus...</td>\n",
       "      <td>NA</td>\n",
       "    </tr>\n",
       "    <tr>\n",
       "      <th>15173</th>\n",
       "      <td>6.702337</td>\n",
       "      <td>9.051413</td>\n",
       "      <td>I do this too. I think it's just an Fi thing t...</td>\n",
       "      <td>NA</td>\n",
       "    </tr>\n",
       "    <tr>\n",
       "      <th>15174</th>\n",
       "      <td>7.318375</td>\n",
       "      <td>6.146318</td>\n",
       "      <td>Sometimes? Not sure how simply using yourself ...</td>\n",
       "      <td>ENFP</td>\n",
       "    </tr>\n",
       "    <tr>\n",
       "      <th>15175</th>\n",
       "      <td>6.456370</td>\n",
       "      <td>9.005738</td>\n",
       "      <td>It can appear selfish since it might look like...</td>\n",
       "      <td>NA</td>\n",
       "    </tr>\n",
       "    <tr>\n",
       "      <th>15176</th>\n",
       "      <td>7.612803</td>\n",
       "      <td>6.958360</td>\n",
       "      <td>Yeah, as someone with ADHD, gaming all day wit...</td>\n",
       "      <td>NA</td>\n",
       "    </tr>\n",
       "  </tbody>\n",
       "</table>\n",
       "<p>15177 rows × 4 columns</p>\n",
       "</div>"
      ],
      "text/plain": [
       "            x_1       x_2                                            content  \\\n",
       "0      4.481791  7.138180  I am an INFJ female, with no INFJ’s in my fami...   \n",
       "1      6.696858  9.541062  Yupppp. No one understands me in my family. I ...   \n",
       "2      7.421050  9.256389  Same. Doing my own thing whether it's outside ...   \n",
       "3      6.996467  8.909230  I moved across the country straight out of col...   \n",
       "4      5.969614  8.778481  Are you me?  I thought I was the only weirdo w...   \n",
       "...         ...       ...                                                ...   \n",
       "15172  6.707380  8.991220  I do this as well. It is definitely not becaus...   \n",
       "15173  6.702337  9.051413  I do this too. I think it's just an Fi thing t...   \n",
       "15174  7.318375  6.146318  Sometimes? Not sure how simply using yourself ...   \n",
       "15175  6.456370  9.005738  It can appear selfish since it might look like...   \n",
       "15176  7.612803  6.958360  Yeah, as someone with ADHD, gaming all day wit...   \n",
       "\n",
       "      label  \n",
       "0      INFJ  \n",
       "1        NA  \n",
       "2        NA  \n",
       "3      INFJ  \n",
       "4      INFJ  \n",
       "...     ...  \n",
       "15172    NA  \n",
       "15173    NA  \n",
       "15174  ENFP  \n",
       "15175    NA  \n",
       "15176    NA  \n",
       "\n",
       "[15177 rows x 4 columns]"
      ]
     },
     "execution_count": 73,
     "metadata": {},
     "output_type": "execute_result"
    }
   ],
   "source": [
    "plot_df"
   ]
  },
  {
   "cell_type": "code",
   "execution_count": 75,
   "id": "failing-spanking",
   "metadata": {},
   "outputs": [],
   "source": [
    "fig = px.scatter(plot_df, x=\"x_1\", y=\"x_2\", color=\"label\", hover_data=[\"content\"])"
   ]
  },
  {
   "cell_type": "code",
   "execution_count": 76,
   "id": "renewable-structure",
   "metadata": {},
   "outputs": [],
   "source": [
    "fig.write_html(\"projected_muse.html\")"
   ]
  },
  {
   "cell_type": "code",
   "execution_count": null,
   "id": "surprising-track",
   "metadata": {},
   "outputs": [],
   "source": [
    "# Suggestions of things to fix in comments:\n",
    "# - Remove when people quote someone\n",
    "# - Remove [View Poll]\n",
    "# - Replace abbreviations like 'bc' -> 'because'\n",
    "# - Remove URLs"
   ]
  }
 ],
 "metadata": {
  "kernelspec": {
   "display_name": "Python 3",
   "language": "python",
   "name": "python3"
  },
  "language_info": {
   "codemirror_mode": {
    "name": "ipython",
    "version": 3
   },
   "file_extension": ".py",
   "mimetype": "text/x-python",
   "name": "python",
   "nbconvert_exporter": "python",
   "pygments_lexer": "ipython3",
   "version": "3.8.8"
  }
 },
 "nbformat": 4,
 "nbformat_minor": 5
}
