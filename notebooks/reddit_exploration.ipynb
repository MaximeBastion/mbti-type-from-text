{
 "cells": [
  {
   "cell_type": "code",
   "execution_count": 6,
   "id": "continental-environment",
   "metadata": {},
   "outputs": [],
   "source": [
    "import os\n",
    "import sys\n",
    "sys.path.insert(0, os.path.abspath('../'))"
   ]
  },
  {
   "cell_type": "code",
   "execution_count": 7,
   "id": "sapphire-circus",
   "metadata": {},
   "outputs": [],
   "source": [
    "from mbti_type_from_text.db_utils import create_connection"
   ]
  },
  {
   "cell_type": "code",
   "execution_count": 8,
   "id": "suspended-hello",
   "metadata": {},
   "outputs": [],
   "source": [
    "db_connection = create_connection(\"../data/reddit.db\")"
   ]
  },
  {
   "cell_type": "code",
   "execution_count": 9,
   "id": "assigned-norfolk",
   "metadata": {},
   "outputs": [],
   "source": [
    "import pandas as pd\n",
    "\n",
    "comments_df = pd.read_sql(sql=\"SELECT * FROM Comments\", con=db_connection)"
   ]
  },
  {
   "cell_type": "code",
   "execution_count": 10,
   "id": "gentle-brazilian",
   "metadata": {},
   "outputs": [
    {
     "data": {
      "text/html": [
       "<div>\n",
       "<style scoped>\n",
       "    .dataframe tbody tr th:only-of-type {\n",
       "        vertical-align: middle;\n",
       "    }\n",
       "\n",
       "    .dataframe tbody tr th {\n",
       "        vertical-align: top;\n",
       "    }\n",
       "\n",
       "    .dataframe thead th {\n",
       "        text-align: right;\n",
       "    }\n",
       "</style>\n",
       "<table border=\"1\" class=\"dataframe\">\n",
       "  <thead>\n",
       "    <tr style=\"text-align: right;\">\n",
       "      <th></th>\n",
       "      <th>id</th>\n",
       "      <th>user_id</th>\n",
       "      <th>parent_comment_id</th>\n",
       "      <th>title</th>\n",
       "      <th>content</th>\n",
       "      <th>created_datetime</th>\n",
       "      <th>upvotes</th>\n",
       "      <th>subreddit</th>\n",
       "    </tr>\n",
       "  </thead>\n",
       "  <tbody>\n",
       "    <tr>\n",
       "      <th>0</th>\n",
       "      <td>ltmgwm</td>\n",
       "      <td>6i0rnp1p</td>\n",
       "      <td></td>\n",
       "      <td>Always felt different and misunderstood by family</td>\n",
       "      <td>I am an INFJ female, with no INFJ’s in my fami...</td>\n",
       "      <td>2021-02-27 12:45:56</td>\n",
       "      <td>271</td>\n",
       "      <td>infj</td>\n",
       "    </tr>\n",
       "    <tr>\n",
       "      <th>1</th>\n",
       "      <td>gozeenz</td>\n",
       "      <td>1s8dnq6p</td>\n",
       "      <td>ltmgwm</td>\n",
       "      <td></td>\n",
       "      <td>Yupppp. No one understands me in my family. I ...</td>\n",
       "      <td>2021-02-27 13:02:48</td>\n",
       "      <td>85</td>\n",
       "      <td>infj</td>\n",
       "    </tr>\n",
       "    <tr>\n",
       "      <th>2</th>\n",
       "      <td>gp0l91l</td>\n",
       "      <td>b708k</td>\n",
       "      <td>gozeenz</td>\n",
       "      <td></td>\n",
       "      <td>Same. Doing my own thing whether it's outside ...</td>\n",
       "      <td>2021-02-27 16:04:27</td>\n",
       "      <td>30</td>\n",
       "      <td>infj</td>\n",
       "    </tr>\n",
       "    <tr>\n",
       "      <th>3</th>\n",
       "      <td>gp0ffo6</td>\n",
       "      <td>mkfu3</td>\n",
       "      <td>ltmgwm</td>\n",
       "      <td></td>\n",
       "      <td>I moved across the country straight out of col...</td>\n",
       "      <td>2021-02-27 15:40:01</td>\n",
       "      <td>46</td>\n",
       "      <td>infj</td>\n",
       "    </tr>\n",
       "    <tr>\n",
       "      <th>4</th>\n",
       "      <td>gp0g9eh</td>\n",
       "      <td>vh9kmmx</td>\n",
       "      <td>gp0ffo6</td>\n",
       "      <td></td>\n",
       "      <td>Are you me?  I thought I was the only weirdo w...</td>\n",
       "      <td>2021-02-27 15:43:01</td>\n",
       "      <td>18</td>\n",
       "      <td>infj</td>\n",
       "    </tr>\n",
       "  </tbody>\n",
       "</table>\n",
       "</div>"
      ],
      "text/plain": [
       "        id   user_id parent_comment_id  \\\n",
       "0   ltmgwm  6i0rnp1p                     \n",
       "1  gozeenz  1s8dnq6p            ltmgwm   \n",
       "2  gp0l91l     b708k           gozeenz   \n",
       "3  gp0ffo6     mkfu3            ltmgwm   \n",
       "4  gp0g9eh   vh9kmmx           gp0ffo6   \n",
       "\n",
       "                                               title  \\\n",
       "0  Always felt different and misunderstood by family   \n",
       "1                                                      \n",
       "2                                                      \n",
       "3                                                      \n",
       "4                                                      \n",
       "\n",
       "                                             content     created_datetime  \\\n",
       "0  I am an INFJ female, with no INFJ’s in my fami...  2021-02-27 12:45:56   \n",
       "1  Yupppp. No one understands me in my family. I ...  2021-02-27 13:02:48   \n",
       "2  Same. Doing my own thing whether it's outside ...  2021-02-27 16:04:27   \n",
       "3  I moved across the country straight out of col...  2021-02-27 15:40:01   \n",
       "4  Are you me?  I thought I was the only weirdo w...  2021-02-27 15:43:01   \n",
       "\n",
       "   upvotes subreddit  \n",
       "0      271      infj  \n",
       "1       85      infj  \n",
       "2       30      infj  \n",
       "3       46      infj  \n",
       "4       18      infj  "
      ]
     },
     "execution_count": 10,
     "metadata": {},
     "output_type": "execute_result"
    }
   ],
   "source": [
    "comments_df.head()"
   ]
  },
  {
   "cell_type": "code",
   "execution_count": 11,
   "id": "unique-mineral",
   "metadata": {},
   "outputs": [],
   "source": [
    "users_df = pd.read_sql(sql=\"SELECT * FROM Users\", con=db_connection)"
   ]
  },
  {
   "cell_type": "code",
   "execution_count": 12,
   "id": "through-occupation",
   "metadata": {},
   "outputs": [
    {
     "data": {
      "text/html": [
       "<div>\n",
       "<style scoped>\n",
       "    .dataframe tbody tr th:only-of-type {\n",
       "        vertical-align: middle;\n",
       "    }\n",
       "\n",
       "    .dataframe tbody tr th {\n",
       "        vertical-align: top;\n",
       "    }\n",
       "\n",
       "    .dataframe thead th {\n",
       "        text-align: right;\n",
       "    }\n",
       "</style>\n",
       "<table border=\"1\" class=\"dataframe\">\n",
       "  <thead>\n",
       "    <tr style=\"text-align: right;\">\n",
       "      <th></th>\n",
       "      <th>id</th>\n",
       "      <th>name</th>\n",
       "      <th>flair_text</th>\n",
       "    </tr>\n",
       "  </thead>\n",
       "  <tbody>\n",
       "    <tr>\n",
       "      <th>0</th>\n",
       "      <td>6i0rnp1p</td>\n",
       "      <td>igid221</td>\n",
       "      <td></td>\n",
       "    </tr>\n",
       "    <tr>\n",
       "      <th>1</th>\n",
       "      <td>1s8dnq6p</td>\n",
       "      <td>Sheilaahmad</td>\n",
       "      <td></td>\n",
       "    </tr>\n",
       "    <tr>\n",
       "      <th>2</th>\n",
       "      <td>b708k</td>\n",
       "      <td>lzkbloodmage</td>\n",
       "      <td>INFJ-T 4w5 HSP HSS Empath | 26M SG</td>\n",
       "    </tr>\n",
       "    <tr>\n",
       "      <th>3</th>\n",
       "      <td>mkfu3</td>\n",
       "      <td>ShannyPantsxo</td>\n",
       "      <td></td>\n",
       "    </tr>\n",
       "    <tr>\n",
       "      <th>4</th>\n",
       "      <td>vh9kmmx</td>\n",
       "      <td>lala2love</td>\n",
       "      <td></td>\n",
       "    </tr>\n",
       "  </tbody>\n",
       "</table>\n",
       "</div>"
      ],
      "text/plain": [
       "         id           name                          flair_text\n",
       "0  6i0rnp1p        igid221                                    \n",
       "1  1s8dnq6p    Sheilaahmad                                    \n",
       "2     b708k   lzkbloodmage  INFJ-T 4w5 HSP HSS Empath | 26M SG\n",
       "3     mkfu3  ShannyPantsxo                                    \n",
       "4   vh9kmmx      lala2love                                    "
      ]
     },
     "execution_count": 12,
     "metadata": {},
     "output_type": "execute_result"
    }
   ],
   "source": [
    "users_df.head()"
   ]
  },
  {
   "cell_type": "code",
   "execution_count": 70,
   "id": "median-corpus",
   "metadata": {},
   "outputs": [
    {
     "data": {
      "text/plain": [
       "4811"
      ]
     },
     "execution_count": 70,
     "metadata": {},
     "output_type": "execute_result"
    }
   ],
   "source": [
    "len(users_df)"
   ]
  },
  {
   "cell_type": "code",
   "execution_count": 52,
   "id": "wrong-armor",
   "metadata": {},
   "outputs": [],
   "source": [
    "def unbold_text(string):\n",
    "    unbolded_string = \"\"\n",
    "    for c in string:\n",
    "        int_code = ord(c)\n",
    "        if int_code >= ord(\"𝐀\") and int_code <= ord(\"𝐙\"):\n",
    "            unbolded_string += chr(int_code - 119743)\n",
    "        else:\n",
    "            unbolded_string += c\n",
    "    return unbolded_string"
   ]
  },
  {
   "cell_type": "code",
   "execution_count": 53,
   "id": "governmental-drawing",
   "metadata": {},
   "outputs": [],
   "source": [
    "def extract_mbti_from_flair_text(df):\n",
    "    regex = r\"((I|E|X)(S|N|X)(F|T|X)(J|P|X))\"\n",
    "    return df[\"flair_text\"].str.upper().apply(unbold_text).str.extract(regex)[0]\n",
    "\n",
    "users_df[\"mbti_type\"] = extract_mbti_from_flair_text(df=users_df)"
   ]
  },
  {
   "cell_type": "code",
   "execution_count": 54,
   "id": "progressive-inspiration",
   "metadata": {},
   "outputs": [
    {
     "data": {
      "text/html": [
       "<div>\n",
       "<style scoped>\n",
       "    .dataframe tbody tr th:only-of-type {\n",
       "        vertical-align: middle;\n",
       "    }\n",
       "\n",
       "    .dataframe tbody tr th {\n",
       "        vertical-align: top;\n",
       "    }\n",
       "\n",
       "    .dataframe thead th {\n",
       "        text-align: right;\n",
       "    }\n",
       "</style>\n",
       "<table border=\"1\" class=\"dataframe\">\n",
       "  <thead>\n",
       "    <tr style=\"text-align: right;\">\n",
       "      <th></th>\n",
       "      <th>id</th>\n",
       "      <th>name</th>\n",
       "      <th>flair_text</th>\n",
       "      <th>mbti_type</th>\n",
       "      <th>unbolded_flair_text</th>\n",
       "    </tr>\n",
       "  </thead>\n",
       "  <tbody>\n",
       "    <tr>\n",
       "      <th>0</th>\n",
       "      <td>6i0rnp1p</td>\n",
       "      <td>igid221</td>\n",
       "      <td></td>\n",
       "      <td>NaN</td>\n",
       "      <td></td>\n",
       "    </tr>\n",
       "    <tr>\n",
       "      <th>1</th>\n",
       "      <td>1s8dnq6p</td>\n",
       "      <td>Sheilaahmad</td>\n",
       "      <td></td>\n",
       "      <td>NaN</td>\n",
       "      <td></td>\n",
       "    </tr>\n",
       "    <tr>\n",
       "      <th>2</th>\n",
       "      <td>b708k</td>\n",
       "      <td>lzkbloodmage</td>\n",
       "      <td>INFJ-T 4w5 HSP HSS Empath | 26M SG</td>\n",
       "      <td>INFJ</td>\n",
       "      <td>INFJ-T 4w5 HSP HSS Empath | 26M SG</td>\n",
       "    </tr>\n",
       "    <tr>\n",
       "      <th>3</th>\n",
       "      <td>mkfu3</td>\n",
       "      <td>ShannyPantsxo</td>\n",
       "      <td></td>\n",
       "      <td>NaN</td>\n",
       "      <td></td>\n",
       "    </tr>\n",
       "    <tr>\n",
       "      <th>4</th>\n",
       "      <td>vh9kmmx</td>\n",
       "      <td>lala2love</td>\n",
       "      <td></td>\n",
       "      <td>NaN</td>\n",
       "      <td></td>\n",
       "    </tr>\n",
       "    <tr>\n",
       "      <th>...</th>\n",
       "      <td>...</td>\n",
       "      <td>...</td>\n",
       "      <td>...</td>\n",
       "      <td>...</td>\n",
       "      <td>...</td>\n",
       "    </tr>\n",
       "    <tr>\n",
       "      <th>4806</th>\n",
       "      <td>2k93qy2z</td>\n",
       "      <td>krystalzhhf</td>\n",
       "      <td>INFP</td>\n",
       "      <td>INFP</td>\n",
       "      <td>INFP</td>\n",
       "    </tr>\n",
       "    <tr>\n",
       "      <th>4807</th>\n",
       "      <td>pktgyjt</td>\n",
       "      <td>Squamply</td>\n",
       "      <td></td>\n",
       "      <td>NaN</td>\n",
       "      <td></td>\n",
       "    </tr>\n",
       "    <tr>\n",
       "      <th>4808</th>\n",
       "      <td>76fgxdug</td>\n",
       "      <td>LoviEnthusiast</td>\n",
       "      <td></td>\n",
       "      <td>NaN</td>\n",
       "      <td></td>\n",
       "    </tr>\n",
       "    <tr>\n",
       "      <th>4809</th>\n",
       "      <td>sh56t</td>\n",
       "      <td>sotaponi</td>\n",
       "      <td></td>\n",
       "      <td>NaN</td>\n",
       "      <td></td>\n",
       "    </tr>\n",
       "    <tr>\n",
       "      <th>4810</th>\n",
       "      <td>1jceigvp</td>\n",
       "      <td>NeedMoreKowbell</td>\n",
       "      <td></td>\n",
       "      <td>NaN</td>\n",
       "      <td></td>\n",
       "    </tr>\n",
       "  </tbody>\n",
       "</table>\n",
       "<p>4811 rows × 5 columns</p>\n",
       "</div>"
      ],
      "text/plain": [
       "            id             name                          flair_text mbti_type  \\\n",
       "0     6i0rnp1p          igid221                                           NaN   \n",
       "1     1s8dnq6p      Sheilaahmad                                           NaN   \n",
       "2        b708k     lzkbloodmage  INFJ-T 4w5 HSP HSS Empath | 26M SG      INFJ   \n",
       "3        mkfu3    ShannyPantsxo                                           NaN   \n",
       "4      vh9kmmx        lala2love                                           NaN   \n",
       "...        ...              ...                                 ...       ...   \n",
       "4806  2k93qy2z      krystalzhhf                                INFP      INFP   \n",
       "4807   pktgyjt         Squamply                                           NaN   \n",
       "4808  76fgxdug   LoviEnthusiast                                           NaN   \n",
       "4809     sh56t         sotaponi                                           NaN   \n",
       "4810  1jceigvp  NeedMoreKowbell                                           NaN   \n",
       "\n",
       "                     unbolded_flair_text  \n",
       "0                                         \n",
       "1                                         \n",
       "2     INFJ-T 4w5 HSP HSS Empath | 26M SG  \n",
       "3                                         \n",
       "4                                         \n",
       "...                                  ...  \n",
       "4806                                INFP  \n",
       "4807                                      \n",
       "4808                                      \n",
       "4809                                      \n",
       "4810                                      \n",
       "\n",
       "[4811 rows x 5 columns]"
      ]
     },
     "execution_count": 54,
     "metadata": {},
     "output_type": "execute_result"
    }
   ],
   "source": [
    "users_df"
   ]
  },
  {
   "cell_type": "code",
   "execution_count": 55,
   "id": "inclusive-complexity",
   "metadata": {},
   "outputs": [
    {
     "data": {
      "text/html": [
       "<div>\n",
       "<style scoped>\n",
       "    .dataframe tbody tr th:only-of-type {\n",
       "        vertical-align: middle;\n",
       "    }\n",
       "\n",
       "    .dataframe tbody tr th {\n",
       "        vertical-align: top;\n",
       "    }\n",
       "\n",
       "    .dataframe thead th {\n",
       "        text-align: right;\n",
       "    }\n",
       "</style>\n",
       "<table border=\"1\" class=\"dataframe\">\n",
       "  <thead>\n",
       "    <tr style=\"text-align: right;\">\n",
       "      <th></th>\n",
       "      <th>id</th>\n",
       "      <th>name</th>\n",
       "      <th>flair_text</th>\n",
       "      <th>mbti_type</th>\n",
       "      <th>unbolded_flair_text</th>\n",
       "    </tr>\n",
       "  </thead>\n",
       "  <tbody>\n",
       "    <tr>\n",
       "      <th>2304</th>\n",
       "      <td>mpa2p</td>\n",
       "      <td>Mortallyinsane21</td>\n",
       "      <td>INFJ masking as INTP</td>\n",
       "      <td>INFJ</td>\n",
       "      <td>INFJ masking as INTP</td>\n",
       "    </tr>\n",
       "  </tbody>\n",
       "</table>\n",
       "</div>"
      ],
      "text/plain": [
       "         id              name            flair_text mbti_type  \\\n",
       "2304  mpa2p  Mortallyinsane21  INFJ masking as INTP      INFJ   \n",
       "\n",
       "       unbolded_flair_text  \n",
       "2304  INFJ masking as INTP  "
      ]
     },
     "execution_count": 55,
     "metadata": {},
     "output_type": "execute_result"
    }
   ],
   "source": [
    "# Some users mark two types, by convention we keep the first one for now...\n",
    "users_df[users_df[\"id\"] == \"mpa2p\"]"
   ]
  },
  {
   "cell_type": "code",
   "execution_count": 57,
   "id": "chemical-rugby",
   "metadata": {},
   "outputs": [
    {
     "data": {
      "text/html": [
       "<div>\n",
       "<style scoped>\n",
       "    .dataframe tbody tr th:only-of-type {\n",
       "        vertical-align: middle;\n",
       "    }\n",
       "\n",
       "    .dataframe tbody tr th {\n",
       "        vertical-align: top;\n",
       "    }\n",
       "\n",
       "    .dataframe thead th {\n",
       "        text-align: right;\n",
       "    }\n",
       "</style>\n",
       "<table border=\"1\" class=\"dataframe\">\n",
       "  <thead>\n",
       "    <tr style=\"text-align: right;\">\n",
       "      <th></th>\n",
       "      <th>id</th>\n",
       "      <th>name</th>\n",
       "      <th>flair_text</th>\n",
       "      <th>mbti_type</th>\n",
       "      <th>unbolded_flair_text</th>\n",
       "    </tr>\n",
       "  </thead>\n",
       "  <tbody>\n",
       "    <tr>\n",
       "      <th>2533</th>\n",
       "      <td>1vtv4bck</td>\n",
       "      <td>yahgirlamberrr</td>\n",
       "      <td>𝐈𝐒𝐅𝐉</td>\n",
       "      <td>ISFJ</td>\n",
       "      <td>ISFJ</td>\n",
       "    </tr>\n",
       "  </tbody>\n",
       "</table>\n",
       "</div>"
      ],
      "text/plain": [
       "            id            name flair_text mbti_type unbolded_flair_text\n",
       "2533  1vtv4bck  yahgirlamberrr       𝐈𝐒𝐅𝐉      ISFJ                ISFJ"
      ]
     },
     "execution_count": 57,
     "metadata": {},
     "output_type": "execute_result"
    }
   ],
   "source": [
    "# Bold font is supported!\n",
    "users_df[users_df[\"id\"] == \"1vtv4bck\"]"
   ]
  },
  {
   "cell_type": "code",
   "execution_count": 58,
   "id": "wired-paris",
   "metadata": {},
   "outputs": [
    {
     "data": {
      "text/plain": [
       "array([nan, 'INFJ', 'ENFP', 'ENTP', 'ENTJ', 'INTJ', 'ESTP', 'INTP',\n",
       "       'INFX', 'INFP', 'ISFP', 'ENFJ', 'ISTJ', 'ISTP', 'ESFP', 'ISFJ',\n",
       "       'ESTJ', 'INTX', 'XNTP', 'IXTP', 'ESFJ'], dtype=object)"
      ]
     },
     "execution_count": 58,
     "metadata": {},
     "output_type": "execute_result"
    }
   ],
   "source": [
    "users_df[\"mbti_type\"].unique()"
   ]
  },
  {
   "cell_type": "code",
   "execution_count": 59,
   "id": "lucky-retail",
   "metadata": {},
   "outputs": [
    {
     "data": {
      "text/plain": [
       "20"
      ]
     },
     "execution_count": 59,
     "metadata": {},
     "output_type": "execute_result"
    }
   ],
   "source": [
    "users_df[\"mbti_type\"].nunique()"
   ]
  },
  {
   "cell_type": "code",
   "execution_count": 63,
   "id": "foster-montreal",
   "metadata": {},
   "outputs": [],
   "source": [
    "import plotly.express as px"
   ]
  },
  {
   "cell_type": "code",
   "execution_count": 66,
   "id": "sustainable-junction",
   "metadata": {},
   "outputs": [],
   "source": [
    "count_by_mbti_df = users_df.groupby(\"mbti_type\")[\"id\"].count()"
   ]
  },
  {
   "cell_type": "code",
   "execution_count": 69,
   "id": "russian-astronomy",
   "metadata": {},
   "outputs": [
    {
     "data": {
      "application/vnd.plotly.v1+json": {
       "config": {
        "plotlyServerURL": "https://plot.ly"
       },
       "data": [
        {
         "alignmentgroup": "True",
         "hovertemplate": "variable=id<br>mbti_type=%{x}<br>value=%{y}<extra></extra>",
         "legendgroup": "id",
         "marker": {
          "color": "#636efa"
         },
         "name": "id",
         "offsetgroup": "id",
         "orientation": "v",
         "showlegend": true,
         "textposition": "auto",
         "type": "bar",
         "x": [
          "INTJ",
          "INFJ",
          "INTP",
          "ISTP",
          "ENFP",
          "ENTJ",
          "ENTP",
          "ISTJ",
          "ISFP",
          "INFP",
          "ISFJ",
          "ENFJ",
          "ESTP",
          "ESFP",
          "ESFJ",
          "ESTJ",
          "XNTP",
          "INTX",
          "IXTP",
          "INFX"
         ],
         "xaxis": "x",
         "y": [
          369,
          208,
          196,
          165,
          150,
          136,
          130,
          107,
          106,
          98,
          88,
          87,
          49,
          33,
          29,
          22,
          2,
          1,
          1,
          1
         ],
         "yaxis": "y"
        }
       ],
       "layout": {
        "barmode": "relative",
        "legend": {
         "title": {
          "text": "variable"
         },
         "tracegroupgap": 0
        },
        "margin": {
         "t": 60
        },
        "template": {
         "data": {
          "bar": [
           {
            "error_x": {
             "color": "#2a3f5f"
            },
            "error_y": {
             "color": "#2a3f5f"
            },
            "marker": {
             "line": {
              "color": "#E5ECF6",
              "width": 0.5
             }
            },
            "type": "bar"
           }
          ],
          "barpolar": [
           {
            "marker": {
             "line": {
              "color": "#E5ECF6",
              "width": 0.5
             }
            },
            "type": "barpolar"
           }
          ],
          "carpet": [
           {
            "aaxis": {
             "endlinecolor": "#2a3f5f",
             "gridcolor": "white",
             "linecolor": "white",
             "minorgridcolor": "white",
             "startlinecolor": "#2a3f5f"
            },
            "baxis": {
             "endlinecolor": "#2a3f5f",
             "gridcolor": "white",
             "linecolor": "white",
             "minorgridcolor": "white",
             "startlinecolor": "#2a3f5f"
            },
            "type": "carpet"
           }
          ],
          "choropleth": [
           {
            "colorbar": {
             "outlinewidth": 0,
             "ticks": ""
            },
            "type": "choropleth"
           }
          ],
          "contour": [
           {
            "colorbar": {
             "outlinewidth": 0,
             "ticks": ""
            },
            "colorscale": [
             [
              0,
              "#0d0887"
             ],
             [
              0.1111111111111111,
              "#46039f"
             ],
             [
              0.2222222222222222,
              "#7201a8"
             ],
             [
              0.3333333333333333,
              "#9c179e"
             ],
             [
              0.4444444444444444,
              "#bd3786"
             ],
             [
              0.5555555555555556,
              "#d8576b"
             ],
             [
              0.6666666666666666,
              "#ed7953"
             ],
             [
              0.7777777777777778,
              "#fb9f3a"
             ],
             [
              0.8888888888888888,
              "#fdca26"
             ],
             [
              1,
              "#f0f921"
             ]
            ],
            "type": "contour"
           }
          ],
          "contourcarpet": [
           {
            "colorbar": {
             "outlinewidth": 0,
             "ticks": ""
            },
            "type": "contourcarpet"
           }
          ],
          "heatmap": [
           {
            "colorbar": {
             "outlinewidth": 0,
             "ticks": ""
            },
            "colorscale": [
             [
              0,
              "#0d0887"
             ],
             [
              0.1111111111111111,
              "#46039f"
             ],
             [
              0.2222222222222222,
              "#7201a8"
             ],
             [
              0.3333333333333333,
              "#9c179e"
             ],
             [
              0.4444444444444444,
              "#bd3786"
             ],
             [
              0.5555555555555556,
              "#d8576b"
             ],
             [
              0.6666666666666666,
              "#ed7953"
             ],
             [
              0.7777777777777778,
              "#fb9f3a"
             ],
             [
              0.8888888888888888,
              "#fdca26"
             ],
             [
              1,
              "#f0f921"
             ]
            ],
            "type": "heatmap"
           }
          ],
          "heatmapgl": [
           {
            "colorbar": {
             "outlinewidth": 0,
             "ticks": ""
            },
            "colorscale": [
             [
              0,
              "#0d0887"
             ],
             [
              0.1111111111111111,
              "#46039f"
             ],
             [
              0.2222222222222222,
              "#7201a8"
             ],
             [
              0.3333333333333333,
              "#9c179e"
             ],
             [
              0.4444444444444444,
              "#bd3786"
             ],
             [
              0.5555555555555556,
              "#d8576b"
             ],
             [
              0.6666666666666666,
              "#ed7953"
             ],
             [
              0.7777777777777778,
              "#fb9f3a"
             ],
             [
              0.8888888888888888,
              "#fdca26"
             ],
             [
              1,
              "#f0f921"
             ]
            ],
            "type": "heatmapgl"
           }
          ],
          "histogram": [
           {
            "marker": {
             "colorbar": {
              "outlinewidth": 0,
              "ticks": ""
             }
            },
            "type": "histogram"
           }
          ],
          "histogram2d": [
           {
            "colorbar": {
             "outlinewidth": 0,
             "ticks": ""
            },
            "colorscale": [
             [
              0,
              "#0d0887"
             ],
             [
              0.1111111111111111,
              "#46039f"
             ],
             [
              0.2222222222222222,
              "#7201a8"
             ],
             [
              0.3333333333333333,
              "#9c179e"
             ],
             [
              0.4444444444444444,
              "#bd3786"
             ],
             [
              0.5555555555555556,
              "#d8576b"
             ],
             [
              0.6666666666666666,
              "#ed7953"
             ],
             [
              0.7777777777777778,
              "#fb9f3a"
             ],
             [
              0.8888888888888888,
              "#fdca26"
             ],
             [
              1,
              "#f0f921"
             ]
            ],
            "type": "histogram2d"
           }
          ],
          "histogram2dcontour": [
           {
            "colorbar": {
             "outlinewidth": 0,
             "ticks": ""
            },
            "colorscale": [
             [
              0,
              "#0d0887"
             ],
             [
              0.1111111111111111,
              "#46039f"
             ],
             [
              0.2222222222222222,
              "#7201a8"
             ],
             [
              0.3333333333333333,
              "#9c179e"
             ],
             [
              0.4444444444444444,
              "#bd3786"
             ],
             [
              0.5555555555555556,
              "#d8576b"
             ],
             [
              0.6666666666666666,
              "#ed7953"
             ],
             [
              0.7777777777777778,
              "#fb9f3a"
             ],
             [
              0.8888888888888888,
              "#fdca26"
             ],
             [
              1,
              "#f0f921"
             ]
            ],
            "type": "histogram2dcontour"
           }
          ],
          "mesh3d": [
           {
            "colorbar": {
             "outlinewidth": 0,
             "ticks": ""
            },
            "type": "mesh3d"
           }
          ],
          "parcoords": [
           {
            "line": {
             "colorbar": {
              "outlinewidth": 0,
              "ticks": ""
             }
            },
            "type": "parcoords"
           }
          ],
          "pie": [
           {
            "automargin": true,
            "type": "pie"
           }
          ],
          "scatter": [
           {
            "marker": {
             "colorbar": {
              "outlinewidth": 0,
              "ticks": ""
             }
            },
            "type": "scatter"
           }
          ],
          "scatter3d": [
           {
            "line": {
             "colorbar": {
              "outlinewidth": 0,
              "ticks": ""
             }
            },
            "marker": {
             "colorbar": {
              "outlinewidth": 0,
              "ticks": ""
             }
            },
            "type": "scatter3d"
           }
          ],
          "scattercarpet": [
           {
            "marker": {
             "colorbar": {
              "outlinewidth": 0,
              "ticks": ""
             }
            },
            "type": "scattercarpet"
           }
          ],
          "scattergeo": [
           {
            "marker": {
             "colorbar": {
              "outlinewidth": 0,
              "ticks": ""
             }
            },
            "type": "scattergeo"
           }
          ],
          "scattergl": [
           {
            "marker": {
             "colorbar": {
              "outlinewidth": 0,
              "ticks": ""
             }
            },
            "type": "scattergl"
           }
          ],
          "scattermapbox": [
           {
            "marker": {
             "colorbar": {
              "outlinewidth": 0,
              "ticks": ""
             }
            },
            "type": "scattermapbox"
           }
          ],
          "scatterpolar": [
           {
            "marker": {
             "colorbar": {
              "outlinewidth": 0,
              "ticks": ""
             }
            },
            "type": "scatterpolar"
           }
          ],
          "scatterpolargl": [
           {
            "marker": {
             "colorbar": {
              "outlinewidth": 0,
              "ticks": ""
             }
            },
            "type": "scatterpolargl"
           }
          ],
          "scatterternary": [
           {
            "marker": {
             "colorbar": {
              "outlinewidth": 0,
              "ticks": ""
             }
            },
            "type": "scatterternary"
           }
          ],
          "surface": [
           {
            "colorbar": {
             "outlinewidth": 0,
             "ticks": ""
            },
            "colorscale": [
             [
              0,
              "#0d0887"
             ],
             [
              0.1111111111111111,
              "#46039f"
             ],
             [
              0.2222222222222222,
              "#7201a8"
             ],
             [
              0.3333333333333333,
              "#9c179e"
             ],
             [
              0.4444444444444444,
              "#bd3786"
             ],
             [
              0.5555555555555556,
              "#d8576b"
             ],
             [
              0.6666666666666666,
              "#ed7953"
             ],
             [
              0.7777777777777778,
              "#fb9f3a"
             ],
             [
              0.8888888888888888,
              "#fdca26"
             ],
             [
              1,
              "#f0f921"
             ]
            ],
            "type": "surface"
           }
          ],
          "table": [
           {
            "cells": {
             "fill": {
              "color": "#EBF0F8"
             },
             "line": {
              "color": "white"
             }
            },
            "header": {
             "fill": {
              "color": "#C8D4E3"
             },
             "line": {
              "color": "white"
             }
            },
            "type": "table"
           }
          ]
         },
         "layout": {
          "annotationdefaults": {
           "arrowcolor": "#2a3f5f",
           "arrowhead": 0,
           "arrowwidth": 1
          },
          "autotypenumbers": "strict",
          "coloraxis": {
           "colorbar": {
            "outlinewidth": 0,
            "ticks": ""
           }
          },
          "colorscale": {
           "diverging": [
            [
             0,
             "#8e0152"
            ],
            [
             0.1,
             "#c51b7d"
            ],
            [
             0.2,
             "#de77ae"
            ],
            [
             0.3,
             "#f1b6da"
            ],
            [
             0.4,
             "#fde0ef"
            ],
            [
             0.5,
             "#f7f7f7"
            ],
            [
             0.6,
             "#e6f5d0"
            ],
            [
             0.7,
             "#b8e186"
            ],
            [
             0.8,
             "#7fbc41"
            ],
            [
             0.9,
             "#4d9221"
            ],
            [
             1,
             "#276419"
            ]
           ],
           "sequential": [
            [
             0,
             "#0d0887"
            ],
            [
             0.1111111111111111,
             "#46039f"
            ],
            [
             0.2222222222222222,
             "#7201a8"
            ],
            [
             0.3333333333333333,
             "#9c179e"
            ],
            [
             0.4444444444444444,
             "#bd3786"
            ],
            [
             0.5555555555555556,
             "#d8576b"
            ],
            [
             0.6666666666666666,
             "#ed7953"
            ],
            [
             0.7777777777777778,
             "#fb9f3a"
            ],
            [
             0.8888888888888888,
             "#fdca26"
            ],
            [
             1,
             "#f0f921"
            ]
           ],
           "sequentialminus": [
            [
             0,
             "#0d0887"
            ],
            [
             0.1111111111111111,
             "#46039f"
            ],
            [
             0.2222222222222222,
             "#7201a8"
            ],
            [
             0.3333333333333333,
             "#9c179e"
            ],
            [
             0.4444444444444444,
             "#bd3786"
            ],
            [
             0.5555555555555556,
             "#d8576b"
            ],
            [
             0.6666666666666666,
             "#ed7953"
            ],
            [
             0.7777777777777778,
             "#fb9f3a"
            ],
            [
             0.8888888888888888,
             "#fdca26"
            ],
            [
             1,
             "#f0f921"
            ]
           ]
          },
          "colorway": [
           "#636efa",
           "#EF553B",
           "#00cc96",
           "#ab63fa",
           "#FFA15A",
           "#19d3f3",
           "#FF6692",
           "#B6E880",
           "#FF97FF",
           "#FECB52"
          ],
          "font": {
           "color": "#2a3f5f"
          },
          "geo": {
           "bgcolor": "white",
           "lakecolor": "white",
           "landcolor": "#E5ECF6",
           "showlakes": true,
           "showland": true,
           "subunitcolor": "white"
          },
          "hoverlabel": {
           "align": "left"
          },
          "hovermode": "closest",
          "mapbox": {
           "style": "light"
          },
          "paper_bgcolor": "white",
          "plot_bgcolor": "#E5ECF6",
          "polar": {
           "angularaxis": {
            "gridcolor": "white",
            "linecolor": "white",
            "ticks": ""
           },
           "bgcolor": "#E5ECF6",
           "radialaxis": {
            "gridcolor": "white",
            "linecolor": "white",
            "ticks": ""
           }
          },
          "scene": {
           "xaxis": {
            "backgroundcolor": "#E5ECF6",
            "gridcolor": "white",
            "gridwidth": 2,
            "linecolor": "white",
            "showbackground": true,
            "ticks": "",
            "zerolinecolor": "white"
           },
           "yaxis": {
            "backgroundcolor": "#E5ECF6",
            "gridcolor": "white",
            "gridwidth": 2,
            "linecolor": "white",
            "showbackground": true,
            "ticks": "",
            "zerolinecolor": "white"
           },
           "zaxis": {
            "backgroundcolor": "#E5ECF6",
            "gridcolor": "white",
            "gridwidth": 2,
            "linecolor": "white",
            "showbackground": true,
            "ticks": "",
            "zerolinecolor": "white"
           }
          },
          "shapedefaults": {
           "line": {
            "color": "#2a3f5f"
           }
          },
          "ternary": {
           "aaxis": {
            "gridcolor": "white",
            "linecolor": "white",
            "ticks": ""
           },
           "baxis": {
            "gridcolor": "white",
            "linecolor": "white",
            "ticks": ""
           },
           "bgcolor": "#E5ECF6",
           "caxis": {
            "gridcolor": "white",
            "linecolor": "white",
            "ticks": ""
           }
          },
          "title": {
           "x": 0.05
          },
          "xaxis": {
           "automargin": true,
           "gridcolor": "white",
           "linecolor": "white",
           "ticks": "",
           "title": {
            "standoff": 15
           },
           "zerolinecolor": "white",
           "zerolinewidth": 2
          },
          "yaxis": {
           "automargin": true,
           "gridcolor": "white",
           "linecolor": "white",
           "ticks": "",
           "title": {
            "standoff": 15
           },
           "zerolinecolor": "white",
           "zerolinewidth": 2
          }
         }
        },
        "xaxis": {
         "anchor": "y",
         "domain": [
          0,
          1
         ],
         "title": {
          "text": "mbti_type"
         }
        },
        "yaxis": {
         "anchor": "x",
         "domain": [
          0,
          1
         ],
         "title": {
          "text": "value"
         }
        }
       }
      },
      "text/html": [
       "<div>                            <div id=\"1a05d4cd-4cf1-4c92-99b3-115e32f5211f\" class=\"plotly-graph-div\" style=\"height:525px; width:100%;\"></div>            <script type=\"text/javascript\">                require([\"plotly\"], function(Plotly) {                    window.PLOTLYENV=window.PLOTLYENV || {};                                    if (document.getElementById(\"1a05d4cd-4cf1-4c92-99b3-115e32f5211f\")) {                    Plotly.newPlot(                        \"1a05d4cd-4cf1-4c92-99b3-115e32f5211f\",                        [{\"alignmentgroup\": \"True\", \"hovertemplate\": \"variable=id<br>mbti_type=%{x}<br>value=%{y}<extra></extra>\", \"legendgroup\": \"id\", \"marker\": {\"color\": \"#636efa\"}, \"name\": \"id\", \"offsetgroup\": \"id\", \"orientation\": \"v\", \"showlegend\": true, \"textposition\": \"auto\", \"type\": \"bar\", \"x\": [\"INTJ\", \"INFJ\", \"INTP\", \"ISTP\", \"ENFP\", \"ENTJ\", \"ENTP\", \"ISTJ\", \"ISFP\", \"INFP\", \"ISFJ\", \"ENFJ\", \"ESTP\", \"ESFP\", \"ESFJ\", \"ESTJ\", \"XNTP\", \"INTX\", \"IXTP\", \"INFX\"], \"xaxis\": \"x\", \"y\": [369, 208, 196, 165, 150, 136, 130, 107, 106, 98, 88, 87, 49, 33, 29, 22, 2, 1, 1, 1], \"yaxis\": \"y\"}],                        {\"barmode\": \"relative\", \"legend\": {\"title\": {\"text\": \"variable\"}, \"tracegroupgap\": 0}, \"margin\": {\"t\": 60}, \"template\": {\"data\": {\"bar\": [{\"error_x\": {\"color\": \"#2a3f5f\"}, \"error_y\": {\"color\": \"#2a3f5f\"}, \"marker\": {\"line\": {\"color\": \"#E5ECF6\", \"width\": 0.5}}, \"type\": \"bar\"}], \"barpolar\": [{\"marker\": {\"line\": {\"color\": \"#E5ECF6\", \"width\": 0.5}}, \"type\": \"barpolar\"}], \"carpet\": [{\"aaxis\": {\"endlinecolor\": \"#2a3f5f\", \"gridcolor\": \"white\", \"linecolor\": \"white\", \"minorgridcolor\": \"white\", \"startlinecolor\": \"#2a3f5f\"}, \"baxis\": {\"endlinecolor\": \"#2a3f5f\", \"gridcolor\": \"white\", \"linecolor\": \"white\", \"minorgridcolor\": \"white\", \"startlinecolor\": \"#2a3f5f\"}, \"type\": \"carpet\"}], \"choropleth\": [{\"colorbar\": {\"outlinewidth\": 0, \"ticks\": \"\"}, \"type\": \"choropleth\"}], \"contour\": [{\"colorbar\": {\"outlinewidth\": 0, \"ticks\": \"\"}, \"colorscale\": [[0.0, \"#0d0887\"], [0.1111111111111111, \"#46039f\"], [0.2222222222222222, \"#7201a8\"], [0.3333333333333333, \"#9c179e\"], [0.4444444444444444, \"#bd3786\"], [0.5555555555555556, \"#d8576b\"], [0.6666666666666666, \"#ed7953\"], [0.7777777777777778, \"#fb9f3a\"], [0.8888888888888888, \"#fdca26\"], [1.0, \"#f0f921\"]], \"type\": \"contour\"}], \"contourcarpet\": [{\"colorbar\": {\"outlinewidth\": 0, \"ticks\": \"\"}, \"type\": \"contourcarpet\"}], \"heatmap\": [{\"colorbar\": {\"outlinewidth\": 0, \"ticks\": \"\"}, \"colorscale\": [[0.0, \"#0d0887\"], [0.1111111111111111, \"#46039f\"], [0.2222222222222222, \"#7201a8\"], [0.3333333333333333, \"#9c179e\"], [0.4444444444444444, \"#bd3786\"], [0.5555555555555556, \"#d8576b\"], [0.6666666666666666, \"#ed7953\"], [0.7777777777777778, \"#fb9f3a\"], [0.8888888888888888, \"#fdca26\"], [1.0, \"#f0f921\"]], \"type\": \"heatmap\"}], \"heatmapgl\": [{\"colorbar\": {\"outlinewidth\": 0, \"ticks\": \"\"}, \"colorscale\": [[0.0, \"#0d0887\"], [0.1111111111111111, \"#46039f\"], [0.2222222222222222, \"#7201a8\"], [0.3333333333333333, \"#9c179e\"], [0.4444444444444444, \"#bd3786\"], [0.5555555555555556, \"#d8576b\"], [0.6666666666666666, \"#ed7953\"], [0.7777777777777778, \"#fb9f3a\"], [0.8888888888888888, \"#fdca26\"], [1.0, \"#f0f921\"]], \"type\": \"heatmapgl\"}], \"histogram\": [{\"marker\": {\"colorbar\": {\"outlinewidth\": 0, \"ticks\": \"\"}}, \"type\": \"histogram\"}], \"histogram2d\": [{\"colorbar\": {\"outlinewidth\": 0, \"ticks\": \"\"}, \"colorscale\": [[0.0, \"#0d0887\"], [0.1111111111111111, \"#46039f\"], [0.2222222222222222, \"#7201a8\"], [0.3333333333333333, \"#9c179e\"], [0.4444444444444444, \"#bd3786\"], [0.5555555555555556, \"#d8576b\"], [0.6666666666666666, \"#ed7953\"], [0.7777777777777778, \"#fb9f3a\"], [0.8888888888888888, \"#fdca26\"], [1.0, \"#f0f921\"]], \"type\": \"histogram2d\"}], \"histogram2dcontour\": [{\"colorbar\": {\"outlinewidth\": 0, \"ticks\": \"\"}, \"colorscale\": [[0.0, \"#0d0887\"], [0.1111111111111111, \"#46039f\"], [0.2222222222222222, \"#7201a8\"], [0.3333333333333333, \"#9c179e\"], [0.4444444444444444, \"#bd3786\"], [0.5555555555555556, \"#d8576b\"], [0.6666666666666666, \"#ed7953\"], [0.7777777777777778, \"#fb9f3a\"], [0.8888888888888888, \"#fdca26\"], [1.0, \"#f0f921\"]], \"type\": \"histogram2dcontour\"}], \"mesh3d\": [{\"colorbar\": {\"outlinewidth\": 0, \"ticks\": \"\"}, \"type\": \"mesh3d\"}], \"parcoords\": [{\"line\": {\"colorbar\": {\"outlinewidth\": 0, \"ticks\": \"\"}}, \"type\": \"parcoords\"}], \"pie\": [{\"automargin\": true, \"type\": \"pie\"}], \"scatter\": [{\"marker\": {\"colorbar\": {\"outlinewidth\": 0, \"ticks\": \"\"}}, \"type\": \"scatter\"}], \"scatter3d\": [{\"line\": {\"colorbar\": {\"outlinewidth\": 0, \"ticks\": \"\"}}, \"marker\": {\"colorbar\": {\"outlinewidth\": 0, \"ticks\": \"\"}}, \"type\": \"scatter3d\"}], \"scattercarpet\": [{\"marker\": {\"colorbar\": {\"outlinewidth\": 0, \"ticks\": \"\"}}, \"type\": \"scattercarpet\"}], \"scattergeo\": [{\"marker\": {\"colorbar\": {\"outlinewidth\": 0, \"ticks\": \"\"}}, \"type\": \"scattergeo\"}], \"scattergl\": [{\"marker\": {\"colorbar\": {\"outlinewidth\": 0, \"ticks\": \"\"}}, \"type\": \"scattergl\"}], \"scattermapbox\": [{\"marker\": {\"colorbar\": {\"outlinewidth\": 0, \"ticks\": \"\"}}, \"type\": \"scattermapbox\"}], \"scatterpolar\": [{\"marker\": {\"colorbar\": {\"outlinewidth\": 0, \"ticks\": \"\"}}, \"type\": \"scatterpolar\"}], \"scatterpolargl\": [{\"marker\": {\"colorbar\": {\"outlinewidth\": 0, \"ticks\": \"\"}}, \"type\": \"scatterpolargl\"}], \"scatterternary\": [{\"marker\": {\"colorbar\": {\"outlinewidth\": 0, \"ticks\": \"\"}}, \"type\": \"scatterternary\"}], \"surface\": [{\"colorbar\": {\"outlinewidth\": 0, \"ticks\": \"\"}, \"colorscale\": [[0.0, \"#0d0887\"], [0.1111111111111111, \"#46039f\"], [0.2222222222222222, \"#7201a8\"], [0.3333333333333333, \"#9c179e\"], [0.4444444444444444, \"#bd3786\"], [0.5555555555555556, \"#d8576b\"], [0.6666666666666666, \"#ed7953\"], [0.7777777777777778, \"#fb9f3a\"], [0.8888888888888888, \"#fdca26\"], [1.0, \"#f0f921\"]], \"type\": \"surface\"}], \"table\": [{\"cells\": {\"fill\": {\"color\": \"#EBF0F8\"}, \"line\": {\"color\": \"white\"}}, \"header\": {\"fill\": {\"color\": \"#C8D4E3\"}, \"line\": {\"color\": \"white\"}}, \"type\": \"table\"}]}, \"layout\": {\"annotationdefaults\": {\"arrowcolor\": \"#2a3f5f\", \"arrowhead\": 0, \"arrowwidth\": 1}, \"autotypenumbers\": \"strict\", \"coloraxis\": {\"colorbar\": {\"outlinewidth\": 0, \"ticks\": \"\"}}, \"colorscale\": {\"diverging\": [[0, \"#8e0152\"], [0.1, \"#c51b7d\"], [0.2, \"#de77ae\"], [0.3, \"#f1b6da\"], [0.4, \"#fde0ef\"], [0.5, \"#f7f7f7\"], [0.6, \"#e6f5d0\"], [0.7, \"#b8e186\"], [0.8, \"#7fbc41\"], [0.9, \"#4d9221\"], [1, \"#276419\"]], \"sequential\": [[0.0, \"#0d0887\"], [0.1111111111111111, \"#46039f\"], [0.2222222222222222, \"#7201a8\"], [0.3333333333333333, \"#9c179e\"], [0.4444444444444444, \"#bd3786\"], [0.5555555555555556, \"#d8576b\"], [0.6666666666666666, \"#ed7953\"], [0.7777777777777778, \"#fb9f3a\"], [0.8888888888888888, \"#fdca26\"], [1.0, \"#f0f921\"]], \"sequentialminus\": [[0.0, \"#0d0887\"], [0.1111111111111111, \"#46039f\"], [0.2222222222222222, \"#7201a8\"], [0.3333333333333333, \"#9c179e\"], [0.4444444444444444, \"#bd3786\"], [0.5555555555555556, \"#d8576b\"], [0.6666666666666666, \"#ed7953\"], [0.7777777777777778, \"#fb9f3a\"], [0.8888888888888888, \"#fdca26\"], [1.0, \"#f0f921\"]]}, \"colorway\": [\"#636efa\", \"#EF553B\", \"#00cc96\", \"#ab63fa\", \"#FFA15A\", \"#19d3f3\", \"#FF6692\", \"#B6E880\", \"#FF97FF\", \"#FECB52\"], \"font\": {\"color\": \"#2a3f5f\"}, \"geo\": {\"bgcolor\": \"white\", \"lakecolor\": \"white\", \"landcolor\": \"#E5ECF6\", \"showlakes\": true, \"showland\": true, \"subunitcolor\": \"white\"}, \"hoverlabel\": {\"align\": \"left\"}, \"hovermode\": \"closest\", \"mapbox\": {\"style\": \"light\"}, \"paper_bgcolor\": \"white\", \"plot_bgcolor\": \"#E5ECF6\", \"polar\": {\"angularaxis\": {\"gridcolor\": \"white\", \"linecolor\": \"white\", \"ticks\": \"\"}, \"bgcolor\": \"#E5ECF6\", \"radialaxis\": {\"gridcolor\": \"white\", \"linecolor\": \"white\", \"ticks\": \"\"}}, \"scene\": {\"xaxis\": {\"backgroundcolor\": \"#E5ECF6\", \"gridcolor\": \"white\", \"gridwidth\": 2, \"linecolor\": \"white\", \"showbackground\": true, \"ticks\": \"\", \"zerolinecolor\": \"white\"}, \"yaxis\": {\"backgroundcolor\": \"#E5ECF6\", \"gridcolor\": \"white\", \"gridwidth\": 2, \"linecolor\": \"white\", \"showbackground\": true, \"ticks\": \"\", \"zerolinecolor\": \"white\"}, \"zaxis\": {\"backgroundcolor\": \"#E5ECF6\", \"gridcolor\": \"white\", \"gridwidth\": 2, \"linecolor\": \"white\", \"showbackground\": true, \"ticks\": \"\", \"zerolinecolor\": \"white\"}}, \"shapedefaults\": {\"line\": {\"color\": \"#2a3f5f\"}}, \"ternary\": {\"aaxis\": {\"gridcolor\": \"white\", \"linecolor\": \"white\", \"ticks\": \"\"}, \"baxis\": {\"gridcolor\": \"white\", \"linecolor\": \"white\", \"ticks\": \"\"}, \"bgcolor\": \"#E5ECF6\", \"caxis\": {\"gridcolor\": \"white\", \"linecolor\": \"white\", \"ticks\": \"\"}}, \"title\": {\"x\": 0.05}, \"xaxis\": {\"automargin\": true, \"gridcolor\": \"white\", \"linecolor\": \"white\", \"ticks\": \"\", \"title\": {\"standoff\": 15}, \"zerolinecolor\": \"white\", \"zerolinewidth\": 2}, \"yaxis\": {\"automargin\": true, \"gridcolor\": \"white\", \"linecolor\": \"white\", \"ticks\": \"\", \"title\": {\"standoff\": 15}, \"zerolinecolor\": \"white\", \"zerolinewidth\": 2}}}, \"xaxis\": {\"anchor\": \"y\", \"domain\": [0.0, 1.0], \"title\": {\"text\": \"mbti_type\"}}, \"yaxis\": {\"anchor\": \"x\", \"domain\": [0.0, 1.0], \"title\": {\"text\": \"value\"}}},                        {\"responsive\": true}                    ).then(function(){\n",
       "                            \n",
       "var gd = document.getElementById('1a05d4cd-4cf1-4c92-99b3-115e32f5211f');\n",
       "var x = new MutationObserver(function (mutations, observer) {{\n",
       "        var display = window.getComputedStyle(gd).display;\n",
       "        if (!display || display === 'none') {{\n",
       "            console.log([gd, 'removed!']);\n",
       "            Plotly.purge(gd);\n",
       "            observer.disconnect();\n",
       "        }}\n",
       "}});\n",
       "\n",
       "// Listen for the removal of the full notebook cells\n",
       "var notebookContainer = gd.closest('#notebook-container');\n",
       "if (notebookContainer) {{\n",
       "    x.observe(notebookContainer, {childList: true});\n",
       "}}\n",
       "\n",
       "// Listen for the clearing of the current output cell\n",
       "var outputEl = gd.closest('.output');\n",
       "if (outputEl) {{\n",
       "    x.observe(outputEl, {childList: true});\n",
       "}}\n",
       "\n",
       "                        })                };                });            </script>        </div>"
      ]
     },
     "metadata": {},
     "output_type": "display_data"
    }
   ],
   "source": [
    "px.bar(count_by_mbti_df.sort_values(ascending=False))"
   ]
  },
  {
   "cell_type": "code",
   "execution_count": 128,
   "id": "fossil-declaration",
   "metadata": {},
   "outputs": [
    {
     "name": "stdout",
     "output_type": "stream",
     "text": [
      "I\n"
     ]
    }
   ],
   "source": [
    "import re\n",
    "\n",
    "mbti_regex = \"(I|E|X)(S|N|X)(F|T|X)(J|P|X)\"\n",
    "i_am_regex = \"I('m| am)(?: (an|a))? ({})\".format(mbti_regex)\n",
    "my_mbti_regex = \"(M|m)y ({}) (personality|experience)\".format(mbti_regex)\n",
    "mbti_here_regex = \"({})(?: \\((m|f)\\))? here\".format(mbti_regex)\n",
    "fellow_mbti_regex = \"(F|f)ellow ({})\".format(mbti_regex)\n",
    "i_mbti_regex = \"(Me|I)(?: )?\\(({})\\)\".format(mbti_regex)\n",
    "looking_for_regex = \"({}) looking for\".format(mbti_regex)\n",
    "\n",
    "match = re.search(i_am_regex, \"I am an INFJ female, with no INFJ’s in my family. I’ve always felt like they never understood me and that they think I am \\\"too much\\\" and really weird when I share parts of \\\"my world\\\" and inner thoughts with them. It’s made me feel disconnected from them. \\n\\nIs this common for INFJ’s?\")\n",
    "if match:\n",
    "    print(match.group(4))"
   ]
  },
  {
   "cell_type": "code",
   "execution_count": 135,
   "id": "lesser-digit",
   "metadata": {},
   "outputs": [],
   "source": [
    "def extract_mbti_from_message(df):\n",
    "    mbti_regex = \"(I|E|X)(S|N|X)(F|T|X)(J|P|X)\"\n",
    "    regex_dict = {\n",
    "        \"i_am_mbti_regex\": {\"regex\": \"I('m| am)(?: (an|a))? ({})\".format(mbti_regex), \"group_index\": 2},\n",
    "        \"my_mbti_regex\": {\"regex\": \"(M|m)y ({}) (personality|experience)\".format(mbti_regex), \"group_index\": 1},\n",
    "        \"mbti_here_regex\": {\"regex\": \"({})(?: \\((m|f)\\))? here\".format(mbti_regex), \"group_index\": 0},\n",
    "        \"fellow_mbti_regex\": {\"regex\": \"(F|f)ellow ({})\".format(mbti_regex), \"group_index\": 1},\n",
    "        \"i_mbti_regex\": {\"regex\": \"(Me|I)(?: )?\\(({})\\)\".format(mbti_regex), \"group_index\": 1},\n",
    "        \"looking_for_regex\": {\"regex\": \"({}) looking for\".format(mbti_regex), \"group_index\": 0}\n",
    "    }\n",
    "    result_df = pd.DataFrame()\n",
    "    for regex_name, regex_item in regex_dict.items():\n",
    "        result_df[\"{}__on__title\".format(regex_name)] = df[\"title\"].str.extract(regex_item[\"regex\"])[regex_item[\"group_index\"]]\n",
    "        result_df[\"{}__on__content\".format(regex_name)] = df[\"content\"].str.extract(regex_item[\"regex\"])[regex_item[\"group_index\"]]\n",
    "    return result_df\n",
    "\n",
    "\n",
    "extract_mbti_from_message_df = extract_mbti_from_message(comments_df)"
   ]
  },
  {
   "cell_type": "code",
   "execution_count": 141,
   "id": "german-milwaukee",
   "metadata": {},
   "outputs": [
    {
     "data": {
      "text/plain": [
       "i_am_mbti_regex__on__title          6\n",
       "i_am_mbti_regex__on__content      232\n",
       "my_mbti_regex__on__title            1\n",
       "my_mbti_regex__on__content          0\n",
       "mbti_here_regex__on__title          6\n",
       "mbti_here_regex__on__content       70\n",
       "fellow_mbti_regex__on__title        3\n",
       "fellow_mbti_regex__on__content     43\n",
       "i_mbti_regex__on__title             3\n",
       "i_mbti_regex__on__content           2\n",
       "looking_for_regex__on__title        5\n",
       "looking_for_regex__on__content      1\n",
       "dtype: int64"
      ]
     },
     "execution_count": 141,
     "metadata": {},
     "output_type": "execute_result"
    }
   ],
   "source": [
    "(~extract_mbti_from_message_df.isna()).sum(axis=0)"
   ]
  },
  {
   "cell_type": "code",
   "execution_count": 144,
   "id": "pleased-clothing",
   "metadata": {},
   "outputs": [
    {
     "data": {
      "text/html": [
       "<div>\n",
       "<style scoped>\n",
       "    .dataframe tbody tr th:only-of-type {\n",
       "        vertical-align: middle;\n",
       "    }\n",
       "\n",
       "    .dataframe tbody tr th {\n",
       "        vertical-align: top;\n",
       "    }\n",
       "\n",
       "    .dataframe thead th {\n",
       "        text-align: right;\n",
       "    }\n",
       "</style>\n",
       "<table border=\"1\" class=\"dataframe\">\n",
       "  <thead>\n",
       "    <tr style=\"text-align: right;\">\n",
       "      <th></th>\n",
       "      <th>i_am_mbti_regex__on__title</th>\n",
       "      <th>i_am_mbti_regex__on__content</th>\n",
       "      <th>my_mbti_regex__on__title</th>\n",
       "      <th>my_mbti_regex__on__content</th>\n",
       "      <th>mbti_here_regex__on__title</th>\n",
       "      <th>mbti_here_regex__on__content</th>\n",
       "      <th>fellow_mbti_regex__on__title</th>\n",
       "      <th>fellow_mbti_regex__on__content</th>\n",
       "      <th>i_mbti_regex__on__title</th>\n",
       "      <th>i_mbti_regex__on__content</th>\n",
       "      <th>looking_for_regex__on__title</th>\n",
       "      <th>looking_for_regex__on__content</th>\n",
       "    </tr>\n",
       "  </thead>\n",
       "  <tbody>\n",
       "    <tr>\n",
       "      <th>52</th>\n",
       "      <td>NaN</td>\n",
       "      <td>NaN</td>\n",
       "      <td>NaN</td>\n",
       "      <td>NaN</td>\n",
       "      <td>ENTP</td>\n",
       "      <td>ENTP</td>\n",
       "      <td>NaN</td>\n",
       "      <td>NaN</td>\n",
       "      <td>NaN</td>\n",
       "      <td>NaN</td>\n",
       "      <td>NaN</td>\n",
       "      <td>NaN</td>\n",
       "    </tr>\n",
       "    <tr>\n",
       "      <th>6395</th>\n",
       "      <td>NaN</td>\n",
       "      <td>INTP</td>\n",
       "      <td>NaN</td>\n",
       "      <td>NaN</td>\n",
       "      <td>NaN</td>\n",
       "      <td>NaN</td>\n",
       "      <td>NaN</td>\n",
       "      <td>INTP</td>\n",
       "      <td>NaN</td>\n",
       "      <td>NaN</td>\n",
       "      <td>NaN</td>\n",
       "      <td>NaN</td>\n",
       "    </tr>\n",
       "    <tr>\n",
       "      <th>6710</th>\n",
       "      <td>NaN</td>\n",
       "      <td>INFP</td>\n",
       "      <td>NaN</td>\n",
       "      <td>NaN</td>\n",
       "      <td>NaN</td>\n",
       "      <td>INFP</td>\n",
       "      <td>NaN</td>\n",
       "      <td>NaN</td>\n",
       "      <td>NaN</td>\n",
       "      <td>NaN</td>\n",
       "      <td>NaN</td>\n",
       "      <td>NaN</td>\n",
       "    </tr>\n",
       "    <tr>\n",
       "      <th>9056</th>\n",
       "      <td>NaN</td>\n",
       "      <td>ENFP</td>\n",
       "      <td>NaN</td>\n",
       "      <td>NaN</td>\n",
       "      <td>NaN</td>\n",
       "      <td>NaN</td>\n",
       "      <td>NaN</td>\n",
       "      <td>NaN</td>\n",
       "      <td>NaN</td>\n",
       "      <td>NaN</td>\n",
       "      <td>ENFP</td>\n",
       "      <td>NaN</td>\n",
       "    </tr>\n",
       "    <tr>\n",
       "      <th>9563</th>\n",
       "      <td>ENTJ</td>\n",
       "      <td>ENTJ</td>\n",
       "      <td>NaN</td>\n",
       "      <td>NaN</td>\n",
       "      <td>NaN</td>\n",
       "      <td>NaN</td>\n",
       "      <td>NaN</td>\n",
       "      <td>NaN</td>\n",
       "      <td>NaN</td>\n",
       "      <td>NaN</td>\n",
       "      <td>NaN</td>\n",
       "      <td>NaN</td>\n",
       "    </tr>\n",
       "    <tr>\n",
       "      <th>10512</th>\n",
       "      <td>NaN</td>\n",
       "      <td>ENFP</td>\n",
       "      <td>NaN</td>\n",
       "      <td>NaN</td>\n",
       "      <td>NaN</td>\n",
       "      <td>ENFP</td>\n",
       "      <td>NaN</td>\n",
       "      <td>NaN</td>\n",
       "      <td>NaN</td>\n",
       "      <td>NaN</td>\n",
       "      <td>NaN</td>\n",
       "      <td>NaN</td>\n",
       "    </tr>\n",
       "    <tr>\n",
       "      <th>10977</th>\n",
       "      <td>NaN</td>\n",
       "      <td>ENFJ</td>\n",
       "      <td>NaN</td>\n",
       "      <td>NaN</td>\n",
       "      <td>NaN</td>\n",
       "      <td>NaN</td>\n",
       "      <td>NaN</td>\n",
       "      <td>ENFJ</td>\n",
       "      <td>NaN</td>\n",
       "      <td>NaN</td>\n",
       "      <td>NaN</td>\n",
       "      <td>NaN</td>\n",
       "    </tr>\n",
       "    <tr>\n",
       "      <th>14123</th>\n",
       "      <td>NaN</td>\n",
       "      <td>ENFP</td>\n",
       "      <td>NaN</td>\n",
       "      <td>NaN</td>\n",
       "      <td>NaN</td>\n",
       "      <td>NaN</td>\n",
       "      <td>NaN</td>\n",
       "      <td>NaN</td>\n",
       "      <td>NaN</td>\n",
       "      <td>NaN</td>\n",
       "      <td>ENFP</td>\n",
       "      <td>NaN</td>\n",
       "    </tr>\n",
       "    <tr>\n",
       "      <th>14225</th>\n",
       "      <td>NaN</td>\n",
       "      <td>INFP</td>\n",
       "      <td>NaN</td>\n",
       "      <td>NaN</td>\n",
       "      <td>NaN</td>\n",
       "      <td>INFP</td>\n",
       "      <td>NaN</td>\n",
       "      <td>NaN</td>\n",
       "      <td>NaN</td>\n",
       "      <td>NaN</td>\n",
       "      <td>NaN</td>\n",
       "      <td>NaN</td>\n",
       "    </tr>\n",
       "    <tr>\n",
       "      <th>14531</th>\n",
       "      <td>NaN</td>\n",
       "      <td>ENFP</td>\n",
       "      <td>NaN</td>\n",
       "      <td>NaN</td>\n",
       "      <td>NaN</td>\n",
       "      <td>NaN</td>\n",
       "      <td>NaN</td>\n",
       "      <td>NaN</td>\n",
       "      <td>NaN</td>\n",
       "      <td>NaN</td>\n",
       "      <td>ENFP</td>\n",
       "      <td>NaN</td>\n",
       "    </tr>\n",
       "  </tbody>\n",
       "</table>\n",
       "</div>"
      ],
      "text/plain": [
       "      i_am_mbti_regex__on__title i_am_mbti_regex__on__content  \\\n",
       "52                           NaN                          NaN   \n",
       "6395                         NaN                         INTP   \n",
       "6710                         NaN                         INFP   \n",
       "9056                         NaN                         ENFP   \n",
       "9563                        ENTJ                         ENTJ   \n",
       "10512                        NaN                         ENFP   \n",
       "10977                        NaN                         ENFJ   \n",
       "14123                        NaN                         ENFP   \n",
       "14225                        NaN                         INFP   \n",
       "14531                        NaN                         ENFP   \n",
       "\n",
       "      my_mbti_regex__on__title my_mbti_regex__on__content  \\\n",
       "52                         NaN                        NaN   \n",
       "6395                       NaN                        NaN   \n",
       "6710                       NaN                        NaN   \n",
       "9056                       NaN                        NaN   \n",
       "9563                       NaN                        NaN   \n",
       "10512                      NaN                        NaN   \n",
       "10977                      NaN                        NaN   \n",
       "14123                      NaN                        NaN   \n",
       "14225                      NaN                        NaN   \n",
       "14531                      NaN                        NaN   \n",
       "\n",
       "      mbti_here_regex__on__title mbti_here_regex__on__content  \\\n",
       "52                          ENTP                         ENTP   \n",
       "6395                         NaN                          NaN   \n",
       "6710                         NaN                         INFP   \n",
       "9056                         NaN                          NaN   \n",
       "9563                         NaN                          NaN   \n",
       "10512                        NaN                         ENFP   \n",
       "10977                        NaN                          NaN   \n",
       "14123                        NaN                          NaN   \n",
       "14225                        NaN                         INFP   \n",
       "14531                        NaN                          NaN   \n",
       "\n",
       "      fellow_mbti_regex__on__title fellow_mbti_regex__on__content  \\\n",
       "52                             NaN                            NaN   \n",
       "6395                           NaN                           INTP   \n",
       "6710                           NaN                            NaN   \n",
       "9056                           NaN                            NaN   \n",
       "9563                           NaN                            NaN   \n",
       "10512                          NaN                            NaN   \n",
       "10977                          NaN                           ENFJ   \n",
       "14123                          NaN                            NaN   \n",
       "14225                          NaN                            NaN   \n",
       "14531                          NaN                            NaN   \n",
       "\n",
       "      i_mbti_regex__on__title i_mbti_regex__on__content  \\\n",
       "52                        NaN                       NaN   \n",
       "6395                      NaN                       NaN   \n",
       "6710                      NaN                       NaN   \n",
       "9056                      NaN                       NaN   \n",
       "9563                      NaN                       NaN   \n",
       "10512                     NaN                       NaN   \n",
       "10977                     NaN                       NaN   \n",
       "14123                     NaN                       NaN   \n",
       "14225                     NaN                       NaN   \n",
       "14531                     NaN                       NaN   \n",
       "\n",
       "      looking_for_regex__on__title looking_for_regex__on__content  \n",
       "52                             NaN                            NaN  \n",
       "6395                           NaN                            NaN  \n",
       "6710                           NaN                            NaN  \n",
       "9056                          ENFP                            NaN  \n",
       "9563                           NaN                            NaN  \n",
       "10512                          NaN                            NaN  \n",
       "10977                          NaN                            NaN  \n",
       "14123                         ENFP                            NaN  \n",
       "14225                          NaN                            NaN  \n",
       "14531                         ENFP                            NaN  "
      ]
     },
     "execution_count": 144,
     "metadata": {},
     "output_type": "execute_result"
    }
   ],
   "source": [
    "extract_mbti_from_message_df[(~extract_mbti_from_message_df.isna()).sum(axis=1) == 2]"
   ]
  },
  {
   "cell_type": "code",
   "execution_count": 153,
   "id": "horizontal-satellite",
   "metadata": {},
   "outputs": [],
   "source": [
    "import numpy as np\n",
    "\n",
    "\n",
    "def get_extracted_mbti_if_exists(row):\n",
    "    if row.last_valid_index() is None:\n",
    "        return np.nan\n",
    "    else:\n",
    "        return row[row.last_valid_index()]\n",
    "\n",
    "comments_df[\"extracted_mbti\"] = extract_mbti_from_message_df.apply(get_extracted_mbti_if_exists, axis=1)"
   ]
  },
  {
   "cell_type": "code",
   "execution_count": 154,
   "id": "electronic-milan",
   "metadata": {},
   "outputs": [
    {
     "data": {
      "text/html": [
       "<div>\n",
       "<style scoped>\n",
       "    .dataframe tbody tr th:only-of-type {\n",
       "        vertical-align: middle;\n",
       "    }\n",
       "\n",
       "    .dataframe tbody tr th {\n",
       "        vertical-align: top;\n",
       "    }\n",
       "\n",
       "    .dataframe thead th {\n",
       "        text-align: right;\n",
       "    }\n",
       "</style>\n",
       "<table border=\"1\" class=\"dataframe\">\n",
       "  <thead>\n",
       "    <tr style=\"text-align: right;\">\n",
       "      <th></th>\n",
       "      <th>id</th>\n",
       "      <th>user_id</th>\n",
       "      <th>parent_comment_id</th>\n",
       "      <th>title</th>\n",
       "      <th>content</th>\n",
       "      <th>created_datetime</th>\n",
       "      <th>upvotes</th>\n",
       "      <th>subreddit</th>\n",
       "      <th>extracted_mbti</th>\n",
       "    </tr>\n",
       "  </thead>\n",
       "  <tbody>\n",
       "    <tr>\n",
       "      <th>0</th>\n",
       "      <td>ltmgwm</td>\n",
       "      <td>6i0rnp1p</td>\n",
       "      <td></td>\n",
       "      <td>Always felt different and misunderstood by family</td>\n",
       "      <td>I am an INFJ female, with no INFJ’s in my fami...</td>\n",
       "      <td>2021-02-27 12:45:56</td>\n",
       "      <td>271</td>\n",
       "      <td>infj</td>\n",
       "      <td>INFJ</td>\n",
       "    </tr>\n",
       "    <tr>\n",
       "      <th>1</th>\n",
       "      <td>gozeenz</td>\n",
       "      <td>1s8dnq6p</td>\n",
       "      <td>ltmgwm</td>\n",
       "      <td></td>\n",
       "      <td>Yupppp. No one understands me in my family. I ...</td>\n",
       "      <td>2021-02-27 13:02:48</td>\n",
       "      <td>85</td>\n",
       "      <td>infj</td>\n",
       "      <td>NaN</td>\n",
       "    </tr>\n",
       "    <tr>\n",
       "      <th>2</th>\n",
       "      <td>gp0l91l</td>\n",
       "      <td>b708k</td>\n",
       "      <td>gozeenz</td>\n",
       "      <td></td>\n",
       "      <td>Same. Doing my own thing whether it's outside ...</td>\n",
       "      <td>2021-02-27 16:04:27</td>\n",
       "      <td>30</td>\n",
       "      <td>infj</td>\n",
       "      <td>NaN</td>\n",
       "    </tr>\n",
       "    <tr>\n",
       "      <th>3</th>\n",
       "      <td>gp0ffo6</td>\n",
       "      <td>mkfu3</td>\n",
       "      <td>ltmgwm</td>\n",
       "      <td></td>\n",
       "      <td>I moved across the country straight out of col...</td>\n",
       "      <td>2021-02-27 15:40:01</td>\n",
       "      <td>46</td>\n",
       "      <td>infj</td>\n",
       "      <td>NaN</td>\n",
       "    </tr>\n",
       "    <tr>\n",
       "      <th>4</th>\n",
       "      <td>gp0g9eh</td>\n",
       "      <td>vh9kmmx</td>\n",
       "      <td>gp0ffo6</td>\n",
       "      <td></td>\n",
       "      <td>Are you me?  I thought I was the only weirdo w...</td>\n",
       "      <td>2021-02-27 15:43:01</td>\n",
       "      <td>18</td>\n",
       "      <td>infj</td>\n",
       "      <td>NaN</td>\n",
       "    </tr>\n",
       "    <tr>\n",
       "      <th>...</th>\n",
       "      <td>...</td>\n",
       "      <td>...</td>\n",
       "      <td>...</td>\n",
       "      <td>...</td>\n",
       "      <td>...</td>\n",
       "      <td>...</td>\n",
       "      <td>...</td>\n",
       "      <td>...</td>\n",
       "      <td>...</td>\n",
       "    </tr>\n",
       "    <tr>\n",
       "      <th>15172</th>\n",
       "      <td>gp7jyjl</td>\n",
       "      <td>3c5ent8f</td>\n",
       "      <td>lunkpn</td>\n",
       "      <td></td>\n",
       "      <td>I do this as well. It is definitely not becaus...</td>\n",
       "      <td>2021-02-28 20:11:41</td>\n",
       "      <td>10</td>\n",
       "      <td>mbti</td>\n",
       "      <td>NaN</td>\n",
       "    </tr>\n",
       "    <tr>\n",
       "      <th>15173</th>\n",
       "      <td>gp7n1dp</td>\n",
       "      <td>681obxgg</td>\n",
       "      <td>lunkpn</td>\n",
       "      <td></td>\n",
       "      <td>I do this too. I think it's just an Fi thing t...</td>\n",
       "      <td>2021-02-28 20:27:52</td>\n",
       "      <td>6</td>\n",
       "      <td>mbti</td>\n",
       "      <td>NaN</td>\n",
       "    </tr>\n",
       "    <tr>\n",
       "      <th>15174</th>\n",
       "      <td>gp7tp8p</td>\n",
       "      <td>sh56t</td>\n",
       "      <td>lunkpn</td>\n",
       "      <td></td>\n",
       "      <td>Sometimes? Not sure how simply using yourself ...</td>\n",
       "      <td>2021-02-28 21:02:51</td>\n",
       "      <td>2</td>\n",
       "      <td>mbti</td>\n",
       "      <td>NaN</td>\n",
       "    </tr>\n",
       "    <tr>\n",
       "      <th>15175</th>\n",
       "      <td>gp8q0wi</td>\n",
       "      <td>1jceigvp</td>\n",
       "      <td>lunkpn</td>\n",
       "      <td></td>\n",
       "      <td>It can appear selfish since it might look like...</td>\n",
       "      <td>2021-03-01 00:24:43</td>\n",
       "      <td>1</td>\n",
       "      <td>mbti</td>\n",
       "      <td>NaN</td>\n",
       "    </tr>\n",
       "    <tr>\n",
       "      <th>15176</th>\n",
       "      <td>gpcgyvp</td>\n",
       "      <td>3osyt13q</td>\n",
       "      <td>gpc3r4q</td>\n",
       "      <td></td>\n",
       "      <td>Yeah, as someone with ADHD, gaming all day wit...</td>\n",
       "      <td>2021-03-01 22:45:02</td>\n",
       "      <td>1</td>\n",
       "      <td>mbti</td>\n",
       "      <td>NaN</td>\n",
       "    </tr>\n",
       "  </tbody>\n",
       "</table>\n",
       "<p>15177 rows × 9 columns</p>\n",
       "</div>"
      ],
      "text/plain": [
       "            id   user_id parent_comment_id  \\\n",
       "0       ltmgwm  6i0rnp1p                     \n",
       "1      gozeenz  1s8dnq6p            ltmgwm   \n",
       "2      gp0l91l     b708k           gozeenz   \n",
       "3      gp0ffo6     mkfu3            ltmgwm   \n",
       "4      gp0g9eh   vh9kmmx           gp0ffo6   \n",
       "...        ...       ...               ...   \n",
       "15172  gp7jyjl  3c5ent8f            lunkpn   \n",
       "15173  gp7n1dp  681obxgg            lunkpn   \n",
       "15174  gp7tp8p     sh56t            lunkpn   \n",
       "15175  gp8q0wi  1jceigvp            lunkpn   \n",
       "15176  gpcgyvp  3osyt13q           gpc3r4q   \n",
       "\n",
       "                                                   title  \\\n",
       "0      Always felt different and misunderstood by family   \n",
       "1                                                          \n",
       "2                                                          \n",
       "3                                                          \n",
       "4                                                          \n",
       "...                                                  ...   \n",
       "15172                                                      \n",
       "15173                                                      \n",
       "15174                                                      \n",
       "15175                                                      \n",
       "15176                                                      \n",
       "\n",
       "                                                 content     created_datetime  \\\n",
       "0      I am an INFJ female, with no INFJ’s in my fami...  2021-02-27 12:45:56   \n",
       "1      Yupppp. No one understands me in my family. I ...  2021-02-27 13:02:48   \n",
       "2      Same. Doing my own thing whether it's outside ...  2021-02-27 16:04:27   \n",
       "3      I moved across the country straight out of col...  2021-02-27 15:40:01   \n",
       "4      Are you me?  I thought I was the only weirdo w...  2021-02-27 15:43:01   \n",
       "...                                                  ...                  ...   \n",
       "15172  I do this as well. It is definitely not becaus...  2021-02-28 20:11:41   \n",
       "15173  I do this too. I think it's just an Fi thing t...  2021-02-28 20:27:52   \n",
       "15174  Sometimes? Not sure how simply using yourself ...  2021-02-28 21:02:51   \n",
       "15175  It can appear selfish since it might look like...  2021-03-01 00:24:43   \n",
       "15176  Yeah, as someone with ADHD, gaming all day wit...  2021-03-01 22:45:02   \n",
       "\n",
       "       upvotes subreddit extracted_mbti  \n",
       "0          271      infj           INFJ  \n",
       "1           85      infj            NaN  \n",
       "2           30      infj            NaN  \n",
       "3           46      infj            NaN  \n",
       "4           18      infj            NaN  \n",
       "...        ...       ...            ...  \n",
       "15172       10      mbti            NaN  \n",
       "15173        6      mbti            NaN  \n",
       "15174        2      mbti            NaN  \n",
       "15175        1      mbti            NaN  \n",
       "15176        1      mbti            NaN  \n",
       "\n",
       "[15177 rows x 9 columns]"
      ]
     },
     "execution_count": 154,
     "metadata": {},
     "output_type": "execute_result"
    }
   ],
   "source": [
    "comments_df"
   ]
  },
  {
   "cell_type": "code",
   "execution_count": 160,
   "id": "hundred-amount",
   "metadata": {},
   "outputs": [
    {
     "data": {
      "text/html": [
       "<div>\n",
       "<style scoped>\n",
       "    .dataframe tbody tr th:only-of-type {\n",
       "        vertical-align: middle;\n",
       "    }\n",
       "\n",
       "    .dataframe tbody tr th {\n",
       "        vertical-align: top;\n",
       "    }\n",
       "\n",
       "    .dataframe thead th {\n",
       "        text-align: right;\n",
       "    }\n",
       "</style>\n",
       "<table border=\"1\" class=\"dataframe\">\n",
       "  <thead>\n",
       "    <tr style=\"text-align: right;\">\n",
       "      <th></th>\n",
       "      <th>id</th>\n",
       "      <th>name</th>\n",
       "      <th>flair_text</th>\n",
       "      <th>mbti_type</th>\n",
       "      <th>unbolded_flair_text</th>\n",
       "    </tr>\n",
       "  </thead>\n",
       "  <tbody>\n",
       "    <tr>\n",
       "      <th>0</th>\n",
       "      <td>6i0rnp1p</td>\n",
       "      <td>igid221</td>\n",
       "      <td></td>\n",
       "      <td>NaN</td>\n",
       "      <td></td>\n",
       "    </tr>\n",
       "    <tr>\n",
       "      <th>1</th>\n",
       "      <td>1s8dnq6p</td>\n",
       "      <td>Sheilaahmad</td>\n",
       "      <td></td>\n",
       "      <td>NaN</td>\n",
       "      <td></td>\n",
       "    </tr>\n",
       "    <tr>\n",
       "      <th>2</th>\n",
       "      <td>b708k</td>\n",
       "      <td>lzkbloodmage</td>\n",
       "      <td>INFJ-T 4w5 HSP HSS Empath | 26M SG</td>\n",
       "      <td>INFJ</td>\n",
       "      <td>INFJ-T 4w5 HSP HSS Empath | 26M SG</td>\n",
       "    </tr>\n",
       "    <tr>\n",
       "      <th>3</th>\n",
       "      <td>mkfu3</td>\n",
       "      <td>ShannyPantsxo</td>\n",
       "      <td></td>\n",
       "      <td>NaN</td>\n",
       "      <td></td>\n",
       "    </tr>\n",
       "    <tr>\n",
       "      <th>4</th>\n",
       "      <td>vh9kmmx</td>\n",
       "      <td>lala2love</td>\n",
       "      <td></td>\n",
       "      <td>NaN</td>\n",
       "      <td></td>\n",
       "    </tr>\n",
       "    <tr>\n",
       "      <th>...</th>\n",
       "      <td>...</td>\n",
       "      <td>...</td>\n",
       "      <td>...</td>\n",
       "      <td>...</td>\n",
       "      <td>...</td>\n",
       "    </tr>\n",
       "    <tr>\n",
       "      <th>4806</th>\n",
       "      <td>2k93qy2z</td>\n",
       "      <td>krystalzhhf</td>\n",
       "      <td>INFP</td>\n",
       "      <td>INFP</td>\n",
       "      <td>INFP</td>\n",
       "    </tr>\n",
       "    <tr>\n",
       "      <th>4807</th>\n",
       "      <td>pktgyjt</td>\n",
       "      <td>Squamply</td>\n",
       "      <td></td>\n",
       "      <td>NaN</td>\n",
       "      <td></td>\n",
       "    </tr>\n",
       "    <tr>\n",
       "      <th>4808</th>\n",
       "      <td>76fgxdug</td>\n",
       "      <td>LoviEnthusiast</td>\n",
       "      <td></td>\n",
       "      <td>NaN</td>\n",
       "      <td></td>\n",
       "    </tr>\n",
       "    <tr>\n",
       "      <th>4809</th>\n",
       "      <td>sh56t</td>\n",
       "      <td>sotaponi</td>\n",
       "      <td></td>\n",
       "      <td>NaN</td>\n",
       "      <td></td>\n",
       "    </tr>\n",
       "    <tr>\n",
       "      <th>4810</th>\n",
       "      <td>1jceigvp</td>\n",
       "      <td>NeedMoreKowbell</td>\n",
       "      <td></td>\n",
       "      <td>NaN</td>\n",
       "      <td></td>\n",
       "    </tr>\n",
       "  </tbody>\n",
       "</table>\n",
       "<p>4811 rows × 5 columns</p>\n",
       "</div>"
      ],
      "text/plain": [
       "            id             name                          flair_text mbti_type  \\\n",
       "0     6i0rnp1p          igid221                                           NaN   \n",
       "1     1s8dnq6p      Sheilaahmad                                           NaN   \n",
       "2        b708k     lzkbloodmage  INFJ-T 4w5 HSP HSS Empath | 26M SG      INFJ   \n",
       "3        mkfu3    ShannyPantsxo                                           NaN   \n",
       "4      vh9kmmx        lala2love                                           NaN   \n",
       "...        ...              ...                                 ...       ...   \n",
       "4806  2k93qy2z      krystalzhhf                                INFP      INFP   \n",
       "4807   pktgyjt         Squamply                                           NaN   \n",
       "4808  76fgxdug   LoviEnthusiast                                           NaN   \n",
       "4809     sh56t         sotaponi                                           NaN   \n",
       "4810  1jceigvp  NeedMoreKowbell                                           NaN   \n",
       "\n",
       "                     unbolded_flair_text  \n",
       "0                                         \n",
       "1                                         \n",
       "2     INFJ-T 4w5 HSP HSS Empath | 26M SG  \n",
       "3                                         \n",
       "4                                         \n",
       "...                                  ...  \n",
       "4806                                INFP  \n",
       "4807                                      \n",
       "4808                                      \n",
       "4809                                      \n",
       "4810                                      \n",
       "\n",
       "[4811 rows x 5 columns]"
      ]
     },
     "execution_count": 160,
     "metadata": {},
     "output_type": "execute_result"
    }
   ],
   "source": [
    "users_df"
   ]
  },
  {
   "cell_type": "code",
   "execution_count": 163,
   "id": "working-thirty",
   "metadata": {},
   "outputs": [],
   "source": [
    "merged_comment_df = comments_df.merge(users_df[[\"id\", \"mbti_type\"]], left_on=\"user_id\", right_on=\"id\")"
   ]
  },
  {
   "cell_type": "code",
   "execution_count": 164,
   "id": "formal-sponsorship",
   "metadata": {},
   "outputs": [
    {
     "data": {
      "text/plain": [
       "227"
      ]
     },
     "execution_count": 164,
     "metadata": {},
     "output_type": "execute_result"
    }
   ],
   "source": [
    "((merged_comment_df[\"mbti_type\"].isna()) & (~merged_comment_df[\"extracted_mbti\"].isna())).sum()"
   ]
  },
  {
   "cell_type": "code",
   "execution_count": 165,
   "id": "continental-trauma",
   "metadata": {},
   "outputs": [
    {
     "data": {
      "text/plain": [
       "7740"
      ]
     },
     "execution_count": 165,
     "metadata": {},
     "output_type": "execute_result"
    }
   ],
   "source": [
    "((~merged_comment_df[\"mbti_type\"].isna()) & (merged_comment_df[\"extracted_mbti\"].isna())).sum()"
   ]
  },
  {
   "cell_type": "code",
   "execution_count": 166,
   "id": "vietnamese-humidity",
   "metadata": {},
   "outputs": [
    {
     "data": {
      "text/plain": [
       "user_id\n",
       "100fu2          [nan]\n",
       "100sih          [nan]\n",
       "100wx2          [nan]\n",
       "101tuq    [INTJ, nan]\n",
       "104bxl          [nan]\n",
       "             ...     \n",
       "zuefe           [nan]\n",
       "zvaew           [nan]\n",
       "zvb3x           [nan]\n",
       "zwq9h           [nan]\n",
       "zyxf8           [nan]\n",
       "Name: extracted_mbti, Length: 4811, dtype: object"
      ]
     },
     "execution_count": 166,
     "metadata": {},
     "output_type": "execute_result"
    }
   ],
   "source": [
    "comments_df.groupby(\"user_id\")[\"extracted_mbti\"].unique()"
   ]
  },
  {
   "cell_type": "code",
   "execution_count": 167,
   "id": "burning-formation",
   "metadata": {},
   "outputs": [
    {
     "data": {
      "text/plain": [
       "user_id\n",
       "100fu2     NaN\n",
       "100sih     NaN\n",
       "100wx2     NaN\n",
       "101tuq    INTJ\n",
       "104bxl     NaN\n",
       "          ... \n",
       "zuefe      NaN\n",
       "zvaew      NaN\n",
       "zvb3x      NaN\n",
       "zwq9h      NaN\n",
       "zyxf8      NaN\n",
       "Name: extracted_mbti, Length: 4811, dtype: object"
      ]
     },
     "execution_count": 167,
     "metadata": {},
     "output_type": "execute_result"
    }
   ],
   "source": [
    "comments_df.groupby(\"user_id\")[\"extracted_mbti\"].unique().str[0]"
   ]
  },
  {
   "cell_type": "code",
   "execution_count": 176,
   "id": "premium-aruba",
   "metadata": {},
   "outputs": [],
   "source": [
    "extracted_mbti_by_user_df = comments_df[~comments_df[\"extracted_mbti\"].isna()][[\"user_id\", \"extracted_mbti\"]].groupby(\"user_id\")[\"extracted_mbti\"].unique()"
   ]
  },
  {
   "cell_type": "code",
   "execution_count": 177,
   "id": "competitive-marketplace",
   "metadata": {},
   "outputs": [
    {
     "data": {
      "text/plain": [
       "user_id\n",
       "64ga0       [ENFJ, ENTP]\n",
       "6ddnv9ui    [ENFJ, ESTP]\n",
       "870mk3j8    [ENFJ, INFP]\n",
       "9p9p2axq    [INTP, ESTP]\n",
       "9piy9onx    [ISTP, ESTP]\n",
       "Name: extracted_mbti, dtype: object"
      ]
     },
     "execution_count": 177,
     "metadata": {},
     "output_type": "execute_result"
    }
   ],
   "source": [
    "extracted_mbti_by_user_df[extracted_mbti_by_user_df.str.len() > 1]"
   ]
  },
  {
   "cell_type": "code",
   "execution_count": 178,
   "id": "surrounded-invitation",
   "metadata": {},
   "outputs": [
    {
     "data": {
      "text/html": [
       "<div>\n",
       "<style scoped>\n",
       "    .dataframe tbody tr th:only-of-type {\n",
       "        vertical-align: middle;\n",
       "    }\n",
       "\n",
       "    .dataframe tbody tr th {\n",
       "        vertical-align: top;\n",
       "    }\n",
       "\n",
       "    .dataframe thead th {\n",
       "        text-align: right;\n",
       "    }\n",
       "</style>\n",
       "<table border=\"1\" class=\"dataframe\">\n",
       "  <thead>\n",
       "    <tr style=\"text-align: right;\">\n",
       "      <th></th>\n",
       "      <th>id</th>\n",
       "      <th>user_id</th>\n",
       "      <th>parent_comment_id</th>\n",
       "      <th>title</th>\n",
       "      <th>content</th>\n",
       "      <th>created_datetime</th>\n",
       "      <th>upvotes</th>\n",
       "      <th>subreddit</th>\n",
       "      <th>extracted_mbti</th>\n",
       "    </tr>\n",
       "  </thead>\n",
       "  <tbody>\n",
       "    <tr>\n",
       "      <th>10548</th>\n",
       "      <td>gp76591</td>\n",
       "      <td>64ga0</td>\n",
       "      <td>lu5zq9</td>\n",
       "      <td></td>\n",
       "      <td>ENTP pursuing an ENFJ here. I felt she is the ...</td>\n",
       "      <td>2021-02-28 19:00:03</td>\n",
       "      <td>1</td>\n",
       "      <td>enfj</td>\n",
       "      <td>ENFJ</td>\n",
       "    </tr>\n",
       "    <tr>\n",
       "      <th>10549</th>\n",
       "      <td>ltp0x2</td>\n",
       "      <td>64ga0</td>\n",
       "      <td></td>\n",
       "      <td>ENFJ game</td>\n",
       "      <td>Do you tend to unconsciously play a game of pu...</td>\n",
       "      <td>2021-02-27 15:17:16</td>\n",
       "      <td>58</td>\n",
       "      <td>enfj</td>\n",
       "      <td>ENTP</td>\n",
       "    </tr>\n",
       "    <tr>\n",
       "      <th>10551</th>\n",
       "      <td>gp0p2x2</td>\n",
       "      <td>64ga0</td>\n",
       "      <td>gp0oehu</td>\n",
       "      <td></td>\n",
       "      <td>She already responds quite well and it seems n...</td>\n",
       "      <td>2021-02-27 16:26:07</td>\n",
       "      <td>3</td>\n",
       "      <td>enfj</td>\n",
       "      <td>NaN</td>\n",
       "    </tr>\n",
       "    <tr>\n",
       "      <th>10554</th>\n",
       "      <td>gp12ttu</td>\n",
       "      <td>64ga0</td>\n",
       "      <td>gp0peg0</td>\n",
       "      <td></td>\n",
       "      <td>I never expected a monogamous relationship fro...</td>\n",
       "      <td>2021-02-27 17:16:03</td>\n",
       "      <td>2</td>\n",
       "      <td>enfj</td>\n",
       "      <td>NaN</td>\n",
       "    </tr>\n",
       "    <tr>\n",
       "      <th>10558</th>\n",
       "      <td>gp6n9vi</td>\n",
       "      <td>64ga0</td>\n",
       "      <td>gp5z54d</td>\n",
       "      <td></td>\n",
       "      <td>We started out super intense, talked for month...</td>\n",
       "      <td>2021-02-28 16:57:59</td>\n",
       "      <td>1</td>\n",
       "      <td>enfj</td>\n",
       "      <td>NaN</td>\n",
       "    </tr>\n",
       "    <tr>\n",
       "      <th>12496</th>\n",
       "      <td>gpa3q6s</td>\n",
       "      <td>64ga0</td>\n",
       "      <td>luwh79</td>\n",
       "      <td></td>\n",
       "      <td>I do have feelings but I dont stay too long in...</td>\n",
       "      <td>2021-03-01 09:19:53</td>\n",
       "      <td>2</td>\n",
       "      <td>entp</td>\n",
       "      <td>NaN</td>\n",
       "    </tr>\n",
       "    <tr>\n",
       "      <th>12786</th>\n",
       "      <td>gp7etjg</td>\n",
       "      <td>64ga0</td>\n",
       "      <td>lu1b7y</td>\n",
       "      <td></td>\n",
       "      <td>Pursuing a ENFJ girl here, but we are long dis...</td>\n",
       "      <td>2021-02-28 19:44:51</td>\n",
       "      <td>2</td>\n",
       "      <td>entp</td>\n",
       "      <td>NaN</td>\n",
       "    </tr>\n",
       "    <tr>\n",
       "      <th>12788</th>\n",
       "      <td>gp7nc1c</td>\n",
       "      <td>64ga0</td>\n",
       "      <td>gp7l50e</td>\n",
       "      <td></td>\n",
       "      <td>For now yes, but Im more distanced. Still very...</td>\n",
       "      <td>2021-02-28 20:29:25</td>\n",
       "      <td>2</td>\n",
       "      <td>entp</td>\n",
       "      <td>NaN</td>\n",
       "    </tr>\n",
       "    <tr>\n",
       "      <th>12790</th>\n",
       "      <td>gp7pcj4</td>\n",
       "      <td>64ga0</td>\n",
       "      <td>gp7o63w</td>\n",
       "      <td></td>\n",
       "      <td>I still have feelings for her but nowhere near...</td>\n",
       "      <td>2021-02-28 20:39:58</td>\n",
       "      <td>1</td>\n",
       "      <td>entp</td>\n",
       "      <td>NaN</td>\n",
       "    </tr>\n",
       "    <tr>\n",
       "      <th>12792</th>\n",
       "      <td>gp7r283</td>\n",
       "      <td>64ga0</td>\n",
       "      <td>gp7qksb</td>\n",
       "      <td></td>\n",
       "      <td>Damn thats amazing. Hopefully she will love th...</td>\n",
       "      <td>2021-02-28 20:49:01</td>\n",
       "      <td>2</td>\n",
       "      <td>entp</td>\n",
       "      <td>NaN</td>\n",
       "    </tr>\n",
       "  </tbody>\n",
       "</table>\n",
       "</div>"
      ],
      "text/plain": [
       "            id user_id parent_comment_id      title  \\\n",
       "10548  gp76591   64ga0            lu5zq9              \n",
       "10549   ltp0x2   64ga0                    ENFJ game   \n",
       "10551  gp0p2x2   64ga0           gp0oehu              \n",
       "10554  gp12ttu   64ga0           gp0peg0              \n",
       "10558  gp6n9vi   64ga0           gp5z54d              \n",
       "12496  gpa3q6s   64ga0            luwh79              \n",
       "12786  gp7etjg   64ga0            lu1b7y              \n",
       "12788  gp7nc1c   64ga0           gp7l50e              \n",
       "12790  gp7pcj4   64ga0           gp7o63w              \n",
       "12792  gp7r283   64ga0           gp7qksb              \n",
       "\n",
       "                                                 content     created_datetime  \\\n",
       "10548  ENTP pursuing an ENFJ here. I felt she is the ...  2021-02-28 19:00:03   \n",
       "10549  Do you tend to unconsciously play a game of pu...  2021-02-27 15:17:16   \n",
       "10551  She already responds quite well and it seems n...  2021-02-27 16:26:07   \n",
       "10554  I never expected a monogamous relationship fro...  2021-02-27 17:16:03   \n",
       "10558  We started out super intense, talked for month...  2021-02-28 16:57:59   \n",
       "12496  I do have feelings but I dont stay too long in...  2021-03-01 09:19:53   \n",
       "12786  Pursuing a ENFJ girl here, but we are long dis...  2021-02-28 19:44:51   \n",
       "12788  For now yes, but Im more distanced. Still very...  2021-02-28 20:29:25   \n",
       "12790  I still have feelings for her but nowhere near...  2021-02-28 20:39:58   \n",
       "12792  Damn thats amazing. Hopefully she will love th...  2021-02-28 20:49:01   \n",
       "\n",
       "       upvotes subreddit extracted_mbti  \n",
       "10548        1      enfj           ENFJ  \n",
       "10549       58      enfj           ENTP  \n",
       "10551        3      enfj            NaN  \n",
       "10554        2      enfj            NaN  \n",
       "10558        1      enfj            NaN  \n",
       "12496        2      entp            NaN  \n",
       "12786        2      entp            NaN  \n",
       "12788        2      entp            NaN  \n",
       "12790        1      entp            NaN  \n",
       "12792        2      entp            NaN  "
      ]
     },
     "execution_count": 178,
     "metadata": {},
     "output_type": "execute_result"
    }
   ],
   "source": [
    "comments_df[comments_df[\"user_id\"] == \"64ga0\"]"
   ]
  },
  {
   "cell_type": "code",
   "execution_count": 180,
   "id": "quality-oriental",
   "metadata": {},
   "outputs": [
    {
     "data": {
      "text/plain": [
       "'Do you tend to unconsciously play a game of push and pull with your romantic partners? Things like pulling away emotionally and being insecure about your feelings? If you have ever done that, do you like it more when the person reaches back and shows you they dont expect anything  or when they quit and act indifferent. I am asking because this enfj girl pulled away from me a bit and it felt bad but since I am an ENTP I got over it quick and I told her Im not attached and I don\\'t expect anything from her, just want to see her do well, and she said she is not used to such behavior and treatment... I think I did the right thing, even though some people may think I\\'m \"simping\" or whatever, I just  like to be honest with people I really like.'"
      ]
     },
     "execution_count": 180,
     "metadata": {},
     "output_type": "execute_result"
    }
   ],
   "source": [
    "comments_df.iloc[10549][\"content\"]"
   ]
  },
  {
   "cell_type": "code",
   "execution_count": 181,
   "id": "gentle-congo",
   "metadata": {},
   "outputs": [
    {
     "data": {
      "text/html": [
       "<div>\n",
       "<style scoped>\n",
       "    .dataframe tbody tr th:only-of-type {\n",
       "        vertical-align: middle;\n",
       "    }\n",
       "\n",
       "    .dataframe tbody tr th {\n",
       "        vertical-align: top;\n",
       "    }\n",
       "\n",
       "    .dataframe thead th {\n",
       "        text-align: right;\n",
       "    }\n",
       "</style>\n",
       "<table border=\"1\" class=\"dataframe\">\n",
       "  <thead>\n",
       "    <tr style=\"text-align: right;\">\n",
       "      <th></th>\n",
       "      <th>id</th>\n",
       "      <th>user_id</th>\n",
       "      <th>parent_comment_id</th>\n",
       "      <th>title</th>\n",
       "      <th>content</th>\n",
       "      <th>created_datetime</th>\n",
       "      <th>upvotes</th>\n",
       "      <th>subreddit</th>\n",
       "      <th>extracted_mbti</th>\n",
       "    </tr>\n",
       "  </thead>\n",
       "  <tbody>\n",
       "    <tr>\n",
       "      <th>10799</th>\n",
       "      <td>lq53jt</td>\n",
       "      <td>6ddnv9ui</td>\n",
       "      <td></td>\n",
       "      <td>Struggling to accept I am ENFJ</td>\n",
       "      <td>I (18M) keep reading about ENFJs and how femin...</td>\n",
       "      <td>2021-02-23 01:59:49</td>\n",
       "      <td>50</td>\n",
       "      <td>enfj</td>\n",
       "      <td>ENFJ</td>\n",
       "    </tr>\n",
       "    <tr>\n",
       "      <th>10804</th>\n",
       "      <td>gog40vs</td>\n",
       "      <td>6ddnv9ui</td>\n",
       "      <td>goeplq2</td>\n",
       "      <td></td>\n",
       "      <td>Thank you so much for this :) great to read.</td>\n",
       "      <td>2021-02-23 11:38:36</td>\n",
       "      <td>2</td>\n",
       "      <td>enfj</td>\n",
       "      <td>NaN</td>\n",
       "    </tr>\n",
       "    <tr>\n",
       "      <th>10806</th>\n",
       "      <td>gog47pi</td>\n",
       "      <td>6ddnv9ui</td>\n",
       "      <td>gofbl52</td>\n",
       "      <td></td>\n",
       "      <td>This was very informative . Thank you.</td>\n",
       "      <td>2021-02-23 11:41:32</td>\n",
       "      <td>1</td>\n",
       "      <td>enfj</td>\n",
       "      <td>NaN</td>\n",
       "    </tr>\n",
       "    <tr>\n",
       "      <th>10810</th>\n",
       "      <td>gog4bpq</td>\n",
       "      <td>6ddnv9ui</td>\n",
       "      <td>gofci2i</td>\n",
       "      <td></td>\n",
       "      <td>I don’t think I am ESTP. I literally absorb my...</td>\n",
       "      <td>2021-02-23 11:43:14</td>\n",
       "      <td>1</td>\n",
       "      <td>enfj</td>\n",
       "      <td>ESTP</td>\n",
       "    </tr>\n",
       "    <tr>\n",
       "      <th>10812</th>\n",
       "      <td>goh535n</td>\n",
       "      <td>6ddnv9ui</td>\n",
       "      <td>gog4k4f</td>\n",
       "      <td></td>\n",
       "      <td>Well like if I am having a convo with them and...</td>\n",
       "      <td>2021-02-23 17:34:08</td>\n",
       "      <td>1</td>\n",
       "      <td>enfj</td>\n",
       "      <td>NaN</td>\n",
       "    </tr>\n",
       "    <tr>\n",
       "      <th>10815</th>\n",
       "      <td>gog4gut</td>\n",
       "      <td>6ddnv9ui</td>\n",
       "      <td>gofwzwg</td>\n",
       "      <td></td>\n",
       "      <td>Yes , I do like to use my Ni a lot. I base pre...</td>\n",
       "      <td>2021-02-23 11:45:25</td>\n",
       "      <td>3</td>\n",
       "      <td>enfj</td>\n",
       "      <td>NaN</td>\n",
       "    </tr>\n",
       "    <tr>\n",
       "      <th>10818</th>\n",
       "      <td>goh4w2z</td>\n",
       "      <td>6ddnv9ui</td>\n",
       "      <td>gog682x</td>\n",
       "      <td></td>\n",
       "      <td>What industry is this in ?</td>\n",
       "      <td>2021-02-23 17:32:58</td>\n",
       "      <td>2</td>\n",
       "      <td>enfj</td>\n",
       "      <td>NaN</td>\n",
       "    </tr>\n",
       "    <tr>\n",
       "      <th>10821</th>\n",
       "      <td>goh5l9c</td>\n",
       "      <td>6ddnv9ui</td>\n",
       "      <td>gog27qh</td>\n",
       "      <td></td>\n",
       "      <td>Damn man.. you are so right. I only want to be...</td>\n",
       "      <td>2021-02-23 17:37:08</td>\n",
       "      <td>2</td>\n",
       "      <td>enfj</td>\n",
       "      <td>NaN</td>\n",
       "    </tr>\n",
       "    <tr>\n",
       "      <th>10826</th>\n",
       "      <td>goh64yx</td>\n",
       "      <td>6ddnv9ui</td>\n",
       "      <td>gog74ta</td>\n",
       "      <td></td>\n",
       "      <td>Thanks so much for this brother . I appreciate...</td>\n",
       "      <td>2021-02-23 17:40:27</td>\n",
       "      <td>2</td>\n",
       "      <td>enfj</td>\n",
       "      <td>NaN</td>\n",
       "    </tr>\n",
       "    <tr>\n",
       "      <th>10828</th>\n",
       "      <td>goj0msx</td>\n",
       "      <td>6ddnv9ui</td>\n",
       "      <td>gohiih7</td>\n",
       "      <td></td>\n",
       "      <td>It was great. Thank you very much :)</td>\n",
       "      <td>2021-02-24 01:35:00</td>\n",
       "      <td>2</td>\n",
       "      <td>enfj</td>\n",
       "      <td>NaN</td>\n",
       "    </tr>\n",
       "    <tr>\n",
       "      <th>10831</th>\n",
       "      <td>goh5ptp</td>\n",
       "      <td>6ddnv9ui</td>\n",
       "      <td>gog09m1</td>\n",
       "      <td></td>\n",
       "      <td>Such a wholesome post. Good luck in law school :)</td>\n",
       "      <td>2021-02-23 17:37:55</td>\n",
       "      <td>2</td>\n",
       "      <td>enfj</td>\n",
       "      <td>NaN</td>\n",
       "    </tr>\n",
       "    <tr>\n",
       "      <th>10837</th>\n",
       "      <td>goh5xx2</td>\n",
       "      <td>6ddnv9ui</td>\n",
       "      <td>gog8n15</td>\n",
       "      <td></td>\n",
       "      <td>The way it’s worded makes it seem set in stone...</td>\n",
       "      <td>2021-02-23 17:39:18</td>\n",
       "      <td>2</td>\n",
       "      <td>enfj</td>\n",
       "      <td>NaN</td>\n",
       "    </tr>\n",
       "    <tr>\n",
       "      <th>10841</th>\n",
       "      <td>goh4owz</td>\n",
       "      <td>6ddnv9ui</td>\n",
       "      <td>gogzw1g</td>\n",
       "      <td></td>\n",
       "      <td>Obama is a great man but I do not want to go i...</td>\n",
       "      <td>2021-02-23 17:31:45</td>\n",
       "      <td>1</td>\n",
       "      <td>enfj</td>\n",
       "      <td>NaN</td>\n",
       "    </tr>\n",
       "    <tr>\n",
       "      <th>10843</th>\n",
       "      <td>goj0fzq</td>\n",
       "      <td>6ddnv9ui</td>\n",
       "      <td>goh6qrj</td>\n",
       "      <td></td>\n",
       "      <td>Ok then. You work at the best stem company in ...</td>\n",
       "      <td>2021-02-24 01:33:24</td>\n",
       "      <td>1</td>\n",
       "      <td>enfj</td>\n",
       "      <td>NaN</td>\n",
       "    </tr>\n",
       "    <tr>\n",
       "      <th>10845</th>\n",
       "      <td>gokcw6l</td>\n",
       "      <td>6ddnv9ui</td>\n",
       "      <td>goj3l08</td>\n",
       "      <td></td>\n",
       "      <td>Ok. If you say so.</td>\n",
       "      <td>2021-02-24 10:09:06</td>\n",
       "      <td>1</td>\n",
       "      <td>enfj</td>\n",
       "      <td>NaN</td>\n",
       "    </tr>\n",
       "    <tr>\n",
       "      <th>10852</th>\n",
       "      <td>golfeh9</td>\n",
       "      <td>6ddnv9ui</td>\n",
       "      <td>gojqgch</td>\n",
       "      <td></td>\n",
       "      <td>I completely agree with you</td>\n",
       "      <td>2021-02-24 17:09:34</td>\n",
       "      <td>1</td>\n",
       "      <td>enfj</td>\n",
       "      <td>NaN</td>\n",
       "    </tr>\n",
       "  </tbody>\n",
       "</table>\n",
       "</div>"
      ],
      "text/plain": [
       "            id   user_id parent_comment_id                           title  \\\n",
       "10799   lq53jt  6ddnv9ui                    Struggling to accept I am ENFJ   \n",
       "10804  gog40vs  6ddnv9ui           goeplq2                                   \n",
       "10806  gog47pi  6ddnv9ui           gofbl52                                   \n",
       "10810  gog4bpq  6ddnv9ui           gofci2i                                   \n",
       "10812  goh535n  6ddnv9ui           gog4k4f                                   \n",
       "10815  gog4gut  6ddnv9ui           gofwzwg                                   \n",
       "10818  goh4w2z  6ddnv9ui           gog682x                                   \n",
       "10821  goh5l9c  6ddnv9ui           gog27qh                                   \n",
       "10826  goh64yx  6ddnv9ui           gog74ta                                   \n",
       "10828  goj0msx  6ddnv9ui           gohiih7                                   \n",
       "10831  goh5ptp  6ddnv9ui           gog09m1                                   \n",
       "10837  goh5xx2  6ddnv9ui           gog8n15                                   \n",
       "10841  goh4owz  6ddnv9ui           gogzw1g                                   \n",
       "10843  goj0fzq  6ddnv9ui           goh6qrj                                   \n",
       "10845  gokcw6l  6ddnv9ui           goj3l08                                   \n",
       "10852  golfeh9  6ddnv9ui           gojqgch                                   \n",
       "\n",
       "                                                 content     created_datetime  \\\n",
       "10799  I (18M) keep reading about ENFJs and how femin...  2021-02-23 01:59:49   \n",
       "10804       Thank you so much for this :) great to read.  2021-02-23 11:38:36   \n",
       "10806             This was very informative . Thank you.  2021-02-23 11:41:32   \n",
       "10810  I don’t think I am ESTP. I literally absorb my...  2021-02-23 11:43:14   \n",
       "10812  Well like if I am having a convo with them and...  2021-02-23 17:34:08   \n",
       "10815  Yes , I do like to use my Ni a lot. I base pre...  2021-02-23 11:45:25   \n",
       "10818                         What industry is this in ?  2021-02-23 17:32:58   \n",
       "10821  Damn man.. you are so right. I only want to be...  2021-02-23 17:37:08   \n",
       "10826  Thanks so much for this brother . I appreciate...  2021-02-23 17:40:27   \n",
       "10828               It was great. Thank you very much :)  2021-02-24 01:35:00   \n",
       "10831  Such a wholesome post. Good luck in law school :)  2021-02-23 17:37:55   \n",
       "10837  The way it’s worded makes it seem set in stone...  2021-02-23 17:39:18   \n",
       "10841  Obama is a great man but I do not want to go i...  2021-02-23 17:31:45   \n",
       "10843  Ok then. You work at the best stem company in ...  2021-02-24 01:33:24   \n",
       "10845                                 Ok. If you say so.  2021-02-24 10:09:06   \n",
       "10852                        I completely agree with you  2021-02-24 17:09:34   \n",
       "\n",
       "       upvotes subreddit extracted_mbti  \n",
       "10799       50      enfj           ENFJ  \n",
       "10804        2      enfj            NaN  \n",
       "10806        1      enfj            NaN  \n",
       "10810        1      enfj           ESTP  \n",
       "10812        1      enfj            NaN  \n",
       "10815        3      enfj            NaN  \n",
       "10818        2      enfj            NaN  \n",
       "10821        2      enfj            NaN  \n",
       "10826        2      enfj            NaN  \n",
       "10828        2      enfj            NaN  \n",
       "10831        2      enfj            NaN  \n",
       "10837        2      enfj            NaN  \n",
       "10841        1      enfj            NaN  \n",
       "10843        1      enfj            NaN  \n",
       "10845        1      enfj            NaN  \n",
       "10852        1      enfj            NaN  "
      ]
     },
     "execution_count": 181,
     "metadata": {},
     "output_type": "execute_result"
    }
   ],
   "source": [
    "comments_df[comments_df[\"user_id\"] == \"6ddnv9ui\"]"
   ]
  },
  {
   "cell_type": "code",
   "execution_count": 184,
   "id": "serial-strap",
   "metadata": {},
   "outputs": [
    {
     "data": {
      "text/html": [
       "<div>\n",
       "<style scoped>\n",
       "    .dataframe tbody tr th:only-of-type {\n",
       "        vertical-align: middle;\n",
       "    }\n",
       "\n",
       "    .dataframe tbody tr th {\n",
       "        vertical-align: top;\n",
       "    }\n",
       "\n",
       "    .dataframe thead th {\n",
       "        text-align: right;\n",
       "    }\n",
       "</style>\n",
       "<table border=\"1\" class=\"dataframe\">\n",
       "  <thead>\n",
       "    <tr style=\"text-align: right;\">\n",
       "      <th></th>\n",
       "      <th>user_id</th>\n",
       "      <th>extracted_mbti</th>\n",
       "    </tr>\n",
       "  </thead>\n",
       "  <tbody>\n",
       "    <tr>\n",
       "      <th>0</th>\n",
       "      <td>101tuq</td>\n",
       "      <td>INTJ</td>\n",
       "    </tr>\n",
       "    <tr>\n",
       "      <th>1</th>\n",
       "      <td>115zer</td>\n",
       "      <td>ENTP</td>\n",
       "    </tr>\n",
       "    <tr>\n",
       "      <th>2</th>\n",
       "      <td>11bj6s</td>\n",
       "      <td>INFP</td>\n",
       "    </tr>\n",
       "    <tr>\n",
       "      <th>3</th>\n",
       "      <td>11nzmg</td>\n",
       "      <td>INTJ</td>\n",
       "    </tr>\n",
       "    <tr>\n",
       "      <th>4</th>\n",
       "      <td>123994is</td>\n",
       "      <td>ESTJ</td>\n",
       "    </tr>\n",
       "    <tr>\n",
       "      <th>...</th>\n",
       "      <td>...</td>\n",
       "      <td>...</td>\n",
       "    </tr>\n",
       "    <tr>\n",
       "      <th>307</th>\n",
       "      <td>x6twfh2</td>\n",
       "      <td>ENTP</td>\n",
       "    </tr>\n",
       "    <tr>\n",
       "      <th>308</th>\n",
       "      <td>xrxhv</td>\n",
       "      <td>INFJ</td>\n",
       "    </tr>\n",
       "    <tr>\n",
       "      <th>309</th>\n",
       "      <td>yelqs</td>\n",
       "      <td>ENFJ</td>\n",
       "    </tr>\n",
       "    <tr>\n",
       "      <th>310</th>\n",
       "      <td>zf59s</td>\n",
       "      <td>ESTJ</td>\n",
       "    </tr>\n",
       "    <tr>\n",
       "      <th>311</th>\n",
       "      <td>zfqgy</td>\n",
       "      <td>INFJ</td>\n",
       "    </tr>\n",
       "  </tbody>\n",
       "</table>\n",
       "<p>312 rows × 2 columns</p>\n",
       "</div>"
      ],
      "text/plain": [
       "      user_id extracted_mbti\n",
       "0      101tuq           INTJ\n",
       "1      115zer           ENTP\n",
       "2      11bj6s           INFP\n",
       "3      11nzmg           INTJ\n",
       "4    123994is           ESTJ\n",
       "..        ...            ...\n",
       "307   x6twfh2           ENTP\n",
       "308     xrxhv           INFJ\n",
       "309     yelqs           ENFJ\n",
       "310     zf59s           ESTJ\n",
       "311     zfqgy           INFJ\n",
       "\n",
       "[312 rows x 2 columns]"
      ]
     },
     "execution_count": 184,
     "metadata": {},
     "output_type": "execute_result"
    }
   ],
   "source": [
    "# It is better to remove these users with ambiguous types\n",
    "extracted_mbti_by_user_df[extracted_mbti_by_user_df.str.len() == 1].str[0].reset_index()"
   ]
  },
  {
   "cell_type": "code",
   "execution_count": 192,
   "id": "identical-butter",
   "metadata": {},
   "outputs": [],
   "source": [
    "users_df = users_df.merge(extracted_mbti_by_user_df[extracted_mbti_by_user_df.str.len() == 1].str[0], left_on=\"id\", right_on=\"user_id\", how=\"left\")"
   ]
  },
  {
   "cell_type": "code",
   "execution_count": 193,
   "id": "sensitive-preview",
   "metadata": {},
   "outputs": [],
   "source": [
    "users_df = users_df.rename(columns={\"mbti_type\": \"mbti_type_from_flair_text\", \"extracted_mbti\": \"mbti_type_from_comments\"})"
   ]
  },
  {
   "cell_type": "code",
   "execution_count": 194,
   "id": "sized-merit",
   "metadata": {},
   "outputs": [
    {
     "data": {
      "text/html": [
       "<div>\n",
       "<style scoped>\n",
       "    .dataframe tbody tr th:only-of-type {\n",
       "        vertical-align: middle;\n",
       "    }\n",
       "\n",
       "    .dataframe tbody tr th {\n",
       "        vertical-align: top;\n",
       "    }\n",
       "\n",
       "    .dataframe thead th {\n",
       "        text-align: right;\n",
       "    }\n",
       "</style>\n",
       "<table border=\"1\" class=\"dataframe\">\n",
       "  <thead>\n",
       "    <tr style=\"text-align: right;\">\n",
       "      <th></th>\n",
       "      <th>id</th>\n",
       "      <th>name</th>\n",
       "      <th>flair_text</th>\n",
       "      <th>mbti_type_from_flair_text</th>\n",
       "      <th>unbolded_flair_text</th>\n",
       "      <th>mbti_type_from_comments</th>\n",
       "    </tr>\n",
       "  </thead>\n",
       "  <tbody>\n",
       "    <tr>\n",
       "      <th>0</th>\n",
       "      <td>6i0rnp1p</td>\n",
       "      <td>igid221</td>\n",
       "      <td></td>\n",
       "      <td>NaN</td>\n",
       "      <td></td>\n",
       "      <td>INFJ</td>\n",
       "    </tr>\n",
       "    <tr>\n",
       "      <th>1</th>\n",
       "      <td>1s8dnq6p</td>\n",
       "      <td>Sheilaahmad</td>\n",
       "      <td></td>\n",
       "      <td>NaN</td>\n",
       "      <td></td>\n",
       "      <td>NaN</td>\n",
       "    </tr>\n",
       "    <tr>\n",
       "      <th>2</th>\n",
       "      <td>b708k</td>\n",
       "      <td>lzkbloodmage</td>\n",
       "      <td>INFJ-T 4w5 HSP HSS Empath | 26M SG</td>\n",
       "      <td>INFJ</td>\n",
       "      <td>INFJ-T 4w5 HSP HSS Empath | 26M SG</td>\n",
       "      <td>NaN</td>\n",
       "    </tr>\n",
       "    <tr>\n",
       "      <th>3</th>\n",
       "      <td>mkfu3</td>\n",
       "      <td>ShannyPantsxo</td>\n",
       "      <td></td>\n",
       "      <td>NaN</td>\n",
       "      <td></td>\n",
       "      <td>NaN</td>\n",
       "    </tr>\n",
       "    <tr>\n",
       "      <th>4</th>\n",
       "      <td>vh9kmmx</td>\n",
       "      <td>lala2love</td>\n",
       "      <td></td>\n",
       "      <td>NaN</td>\n",
       "      <td></td>\n",
       "      <td>NaN</td>\n",
       "    </tr>\n",
       "    <tr>\n",
       "      <th>...</th>\n",
       "      <td>...</td>\n",
       "      <td>...</td>\n",
       "      <td>...</td>\n",
       "      <td>...</td>\n",
       "      <td>...</td>\n",
       "      <td>...</td>\n",
       "    </tr>\n",
       "    <tr>\n",
       "      <th>4806</th>\n",
       "      <td>2k93qy2z</td>\n",
       "      <td>krystalzhhf</td>\n",
       "      <td>INFP</td>\n",
       "      <td>INFP</td>\n",
       "      <td>INFP</td>\n",
       "      <td>NaN</td>\n",
       "    </tr>\n",
       "    <tr>\n",
       "      <th>4807</th>\n",
       "      <td>pktgyjt</td>\n",
       "      <td>Squamply</td>\n",
       "      <td></td>\n",
       "      <td>NaN</td>\n",
       "      <td></td>\n",
       "      <td>NaN</td>\n",
       "    </tr>\n",
       "    <tr>\n",
       "      <th>4808</th>\n",
       "      <td>76fgxdug</td>\n",
       "      <td>LoviEnthusiast</td>\n",
       "      <td></td>\n",
       "      <td>NaN</td>\n",
       "      <td></td>\n",
       "      <td>ENFP</td>\n",
       "    </tr>\n",
       "    <tr>\n",
       "      <th>4809</th>\n",
       "      <td>sh56t</td>\n",
       "      <td>sotaponi</td>\n",
       "      <td></td>\n",
       "      <td>NaN</td>\n",
       "      <td></td>\n",
       "      <td>NaN</td>\n",
       "    </tr>\n",
       "    <tr>\n",
       "      <th>4810</th>\n",
       "      <td>1jceigvp</td>\n",
       "      <td>NeedMoreKowbell</td>\n",
       "      <td></td>\n",
       "      <td>NaN</td>\n",
       "      <td></td>\n",
       "      <td>NaN</td>\n",
       "    </tr>\n",
       "  </tbody>\n",
       "</table>\n",
       "<p>4811 rows × 6 columns</p>\n",
       "</div>"
      ],
      "text/plain": [
       "            id             name                          flair_text  \\\n",
       "0     6i0rnp1p          igid221                                       \n",
       "1     1s8dnq6p      Sheilaahmad                                       \n",
       "2        b708k     lzkbloodmage  INFJ-T 4w5 HSP HSS Empath | 26M SG   \n",
       "3        mkfu3    ShannyPantsxo                                       \n",
       "4      vh9kmmx        lala2love                                       \n",
       "...        ...              ...                                 ...   \n",
       "4806  2k93qy2z      krystalzhhf                                INFP   \n",
       "4807   pktgyjt         Squamply                                       \n",
       "4808  76fgxdug   LoviEnthusiast                                       \n",
       "4809     sh56t         sotaponi                                       \n",
       "4810  1jceigvp  NeedMoreKowbell                                       \n",
       "\n",
       "     mbti_type_from_flair_text                 unbolded_flair_text  \\\n",
       "0                          NaN                                       \n",
       "1                          NaN                                       \n",
       "2                         INFJ  INFJ-T 4w5 HSP HSS Empath | 26M SG   \n",
       "3                          NaN                                       \n",
       "4                          NaN                                       \n",
       "...                        ...                                 ...   \n",
       "4806                      INFP                                INFP   \n",
       "4807                       NaN                                       \n",
       "4808                       NaN                                       \n",
       "4809                       NaN                                       \n",
       "4810                       NaN                                       \n",
       "\n",
       "     mbti_type_from_comments  \n",
       "0                       INFJ  \n",
       "1                        NaN  \n",
       "2                        NaN  \n",
       "3                        NaN  \n",
       "4                        NaN  \n",
       "...                      ...  \n",
       "4806                     NaN  \n",
       "4807                     NaN  \n",
       "4808                    ENFP  \n",
       "4809                     NaN  \n",
       "4810                     NaN  \n",
       "\n",
       "[4811 rows x 6 columns]"
      ]
     },
     "execution_count": 194,
     "metadata": {},
     "output_type": "execute_result"
    }
   ],
   "source": [
    "users_df"
   ]
  },
  {
   "cell_type": "code",
   "execution_count": 195,
   "id": "universal-transparency",
   "metadata": {},
   "outputs": [],
   "source": [
    "users_df[\"mbti_type\"] = users_df[\"mbti_type_from_flair_text\"]"
   ]
  },
  {
   "cell_type": "code",
   "execution_count": 196,
   "id": "adolescent-calculator",
   "metadata": {},
   "outputs": [],
   "source": [
    "no_mbti_type_from_flair_text = users_df[\"mbti_type_from_flair_text\"].isna()\n",
    "users_df.loc[no_mbti_type_from_flair_text, \"mbti_type\"] = users_df[no_mbti_type_from_flair_text][\"mbti_type_from_comments\"]"
   ]
  },
  {
   "cell_type": "code",
   "execution_count": 198,
   "id": "contained-arthritis",
   "metadata": {},
   "outputs": [
    {
     "name": "stdout",
     "output_type": "stream",
     "text": [
      "<class 'pandas.core.frame.DataFrame'>\n",
      "Int64Index: 4811 entries, 0 to 4810\n",
      "Data columns (total 7 columns):\n",
      " #   Column                     Non-Null Count  Dtype \n",
      "---  ------                     --------------  ----- \n",
      " 0   id                         4811 non-null   object\n",
      " 1   name                       4811 non-null   object\n",
      " 2   flair_text                 4811 non-null   object\n",
      " 3   mbti_type_from_flair_text  1978 non-null   object\n",
      " 4   unbolded_flair_text        4811 non-null   object\n",
      " 5   mbti_type_from_comments    312 non-null    object\n",
      " 6   mbti_type                  2173 non-null   object\n",
      "dtypes: object(7)\n",
      "memory usage: 300.7+ KB\n"
     ]
    }
   ],
   "source": [
    "users_df.info()"
   ]
  },
  {
   "cell_type": "code",
   "execution_count": 199,
   "id": "genetic-feelings",
   "metadata": {},
   "outputs": [
    {
     "data": {
      "application/vnd.plotly.v1+json": {
       "config": {
        "plotlyServerURL": "https://plot.ly"
       },
       "data": [
        {
         "alignmentgroup": "True",
         "hovertemplate": "variable=id<br>mbti_type=%{x}<br>value=%{y}<extra></extra>",
         "legendgroup": "id",
         "marker": {
          "color": "#636efa"
         },
         "name": "id",
         "offsetgroup": "id",
         "orientation": "v",
         "showlegend": true,
         "textposition": "auto",
         "type": "bar",
         "x": [
          "INTJ",
          "INFJ",
          "INTP",
          "ISTP",
          "ENFP",
          "ENTJ",
          "ENTP",
          "ISTJ",
          "INFP",
          "ISFP",
          "ENFJ",
          "ISFJ",
          "ESTP",
          "ESTJ",
          "ESFP",
          "ESFJ",
          "XNTP",
          "INTX",
          "ENXP",
          "IXTJ",
          "IXTP",
          "INFX"
         ],
         "xaxis": "x",
         "y": [
          394,
          240,
          208,
          174,
          171,
          142,
          141,
          115,
          112,
          111,
          105,
          98,
          53,
          36,
          35,
          31,
          2,
          1,
          1,
          1,
          1,
          1
         ],
         "yaxis": "y"
        }
       ],
       "layout": {
        "barmode": "relative",
        "legend": {
         "title": {
          "text": "variable"
         },
         "tracegroupgap": 0
        },
        "margin": {
         "t": 60
        },
        "template": {
         "data": {
          "bar": [
           {
            "error_x": {
             "color": "#2a3f5f"
            },
            "error_y": {
             "color": "#2a3f5f"
            },
            "marker": {
             "line": {
              "color": "#E5ECF6",
              "width": 0.5
             }
            },
            "type": "bar"
           }
          ],
          "barpolar": [
           {
            "marker": {
             "line": {
              "color": "#E5ECF6",
              "width": 0.5
             }
            },
            "type": "barpolar"
           }
          ],
          "carpet": [
           {
            "aaxis": {
             "endlinecolor": "#2a3f5f",
             "gridcolor": "white",
             "linecolor": "white",
             "minorgridcolor": "white",
             "startlinecolor": "#2a3f5f"
            },
            "baxis": {
             "endlinecolor": "#2a3f5f",
             "gridcolor": "white",
             "linecolor": "white",
             "minorgridcolor": "white",
             "startlinecolor": "#2a3f5f"
            },
            "type": "carpet"
           }
          ],
          "choropleth": [
           {
            "colorbar": {
             "outlinewidth": 0,
             "ticks": ""
            },
            "type": "choropleth"
           }
          ],
          "contour": [
           {
            "colorbar": {
             "outlinewidth": 0,
             "ticks": ""
            },
            "colorscale": [
             [
              0,
              "#0d0887"
             ],
             [
              0.1111111111111111,
              "#46039f"
             ],
             [
              0.2222222222222222,
              "#7201a8"
             ],
             [
              0.3333333333333333,
              "#9c179e"
             ],
             [
              0.4444444444444444,
              "#bd3786"
             ],
             [
              0.5555555555555556,
              "#d8576b"
             ],
             [
              0.6666666666666666,
              "#ed7953"
             ],
             [
              0.7777777777777778,
              "#fb9f3a"
             ],
             [
              0.8888888888888888,
              "#fdca26"
             ],
             [
              1,
              "#f0f921"
             ]
            ],
            "type": "contour"
           }
          ],
          "contourcarpet": [
           {
            "colorbar": {
             "outlinewidth": 0,
             "ticks": ""
            },
            "type": "contourcarpet"
           }
          ],
          "heatmap": [
           {
            "colorbar": {
             "outlinewidth": 0,
             "ticks": ""
            },
            "colorscale": [
             [
              0,
              "#0d0887"
             ],
             [
              0.1111111111111111,
              "#46039f"
             ],
             [
              0.2222222222222222,
              "#7201a8"
             ],
             [
              0.3333333333333333,
              "#9c179e"
             ],
             [
              0.4444444444444444,
              "#bd3786"
             ],
             [
              0.5555555555555556,
              "#d8576b"
             ],
             [
              0.6666666666666666,
              "#ed7953"
             ],
             [
              0.7777777777777778,
              "#fb9f3a"
             ],
             [
              0.8888888888888888,
              "#fdca26"
             ],
             [
              1,
              "#f0f921"
             ]
            ],
            "type": "heatmap"
           }
          ],
          "heatmapgl": [
           {
            "colorbar": {
             "outlinewidth": 0,
             "ticks": ""
            },
            "colorscale": [
             [
              0,
              "#0d0887"
             ],
             [
              0.1111111111111111,
              "#46039f"
             ],
             [
              0.2222222222222222,
              "#7201a8"
             ],
             [
              0.3333333333333333,
              "#9c179e"
             ],
             [
              0.4444444444444444,
              "#bd3786"
             ],
             [
              0.5555555555555556,
              "#d8576b"
             ],
             [
              0.6666666666666666,
              "#ed7953"
             ],
             [
              0.7777777777777778,
              "#fb9f3a"
             ],
             [
              0.8888888888888888,
              "#fdca26"
             ],
             [
              1,
              "#f0f921"
             ]
            ],
            "type": "heatmapgl"
           }
          ],
          "histogram": [
           {
            "marker": {
             "colorbar": {
              "outlinewidth": 0,
              "ticks": ""
             }
            },
            "type": "histogram"
           }
          ],
          "histogram2d": [
           {
            "colorbar": {
             "outlinewidth": 0,
             "ticks": ""
            },
            "colorscale": [
             [
              0,
              "#0d0887"
             ],
             [
              0.1111111111111111,
              "#46039f"
             ],
             [
              0.2222222222222222,
              "#7201a8"
             ],
             [
              0.3333333333333333,
              "#9c179e"
             ],
             [
              0.4444444444444444,
              "#bd3786"
             ],
             [
              0.5555555555555556,
              "#d8576b"
             ],
             [
              0.6666666666666666,
              "#ed7953"
             ],
             [
              0.7777777777777778,
              "#fb9f3a"
             ],
             [
              0.8888888888888888,
              "#fdca26"
             ],
             [
              1,
              "#f0f921"
             ]
            ],
            "type": "histogram2d"
           }
          ],
          "histogram2dcontour": [
           {
            "colorbar": {
             "outlinewidth": 0,
             "ticks": ""
            },
            "colorscale": [
             [
              0,
              "#0d0887"
             ],
             [
              0.1111111111111111,
              "#46039f"
             ],
             [
              0.2222222222222222,
              "#7201a8"
             ],
             [
              0.3333333333333333,
              "#9c179e"
             ],
             [
              0.4444444444444444,
              "#bd3786"
             ],
             [
              0.5555555555555556,
              "#d8576b"
             ],
             [
              0.6666666666666666,
              "#ed7953"
             ],
             [
              0.7777777777777778,
              "#fb9f3a"
             ],
             [
              0.8888888888888888,
              "#fdca26"
             ],
             [
              1,
              "#f0f921"
             ]
            ],
            "type": "histogram2dcontour"
           }
          ],
          "mesh3d": [
           {
            "colorbar": {
             "outlinewidth": 0,
             "ticks": ""
            },
            "type": "mesh3d"
           }
          ],
          "parcoords": [
           {
            "line": {
             "colorbar": {
              "outlinewidth": 0,
              "ticks": ""
             }
            },
            "type": "parcoords"
           }
          ],
          "pie": [
           {
            "automargin": true,
            "type": "pie"
           }
          ],
          "scatter": [
           {
            "marker": {
             "colorbar": {
              "outlinewidth": 0,
              "ticks": ""
             }
            },
            "type": "scatter"
           }
          ],
          "scatter3d": [
           {
            "line": {
             "colorbar": {
              "outlinewidth": 0,
              "ticks": ""
             }
            },
            "marker": {
             "colorbar": {
              "outlinewidth": 0,
              "ticks": ""
             }
            },
            "type": "scatter3d"
           }
          ],
          "scattercarpet": [
           {
            "marker": {
             "colorbar": {
              "outlinewidth": 0,
              "ticks": ""
             }
            },
            "type": "scattercarpet"
           }
          ],
          "scattergeo": [
           {
            "marker": {
             "colorbar": {
              "outlinewidth": 0,
              "ticks": ""
             }
            },
            "type": "scattergeo"
           }
          ],
          "scattergl": [
           {
            "marker": {
             "colorbar": {
              "outlinewidth": 0,
              "ticks": ""
             }
            },
            "type": "scattergl"
           }
          ],
          "scattermapbox": [
           {
            "marker": {
             "colorbar": {
              "outlinewidth": 0,
              "ticks": ""
             }
            },
            "type": "scattermapbox"
           }
          ],
          "scatterpolar": [
           {
            "marker": {
             "colorbar": {
              "outlinewidth": 0,
              "ticks": ""
             }
            },
            "type": "scatterpolar"
           }
          ],
          "scatterpolargl": [
           {
            "marker": {
             "colorbar": {
              "outlinewidth": 0,
              "ticks": ""
             }
            },
            "type": "scatterpolargl"
           }
          ],
          "scatterternary": [
           {
            "marker": {
             "colorbar": {
              "outlinewidth": 0,
              "ticks": ""
             }
            },
            "type": "scatterternary"
           }
          ],
          "surface": [
           {
            "colorbar": {
             "outlinewidth": 0,
             "ticks": ""
            },
            "colorscale": [
             [
              0,
              "#0d0887"
             ],
             [
              0.1111111111111111,
              "#46039f"
             ],
             [
              0.2222222222222222,
              "#7201a8"
             ],
             [
              0.3333333333333333,
              "#9c179e"
             ],
             [
              0.4444444444444444,
              "#bd3786"
             ],
             [
              0.5555555555555556,
              "#d8576b"
             ],
             [
              0.6666666666666666,
              "#ed7953"
             ],
             [
              0.7777777777777778,
              "#fb9f3a"
             ],
             [
              0.8888888888888888,
              "#fdca26"
             ],
             [
              1,
              "#f0f921"
             ]
            ],
            "type": "surface"
           }
          ],
          "table": [
           {
            "cells": {
             "fill": {
              "color": "#EBF0F8"
             },
             "line": {
              "color": "white"
             }
            },
            "header": {
             "fill": {
              "color": "#C8D4E3"
             },
             "line": {
              "color": "white"
             }
            },
            "type": "table"
           }
          ]
         },
         "layout": {
          "annotationdefaults": {
           "arrowcolor": "#2a3f5f",
           "arrowhead": 0,
           "arrowwidth": 1
          },
          "autotypenumbers": "strict",
          "coloraxis": {
           "colorbar": {
            "outlinewidth": 0,
            "ticks": ""
           }
          },
          "colorscale": {
           "diverging": [
            [
             0,
             "#8e0152"
            ],
            [
             0.1,
             "#c51b7d"
            ],
            [
             0.2,
             "#de77ae"
            ],
            [
             0.3,
             "#f1b6da"
            ],
            [
             0.4,
             "#fde0ef"
            ],
            [
             0.5,
             "#f7f7f7"
            ],
            [
             0.6,
             "#e6f5d0"
            ],
            [
             0.7,
             "#b8e186"
            ],
            [
             0.8,
             "#7fbc41"
            ],
            [
             0.9,
             "#4d9221"
            ],
            [
             1,
             "#276419"
            ]
           ],
           "sequential": [
            [
             0,
             "#0d0887"
            ],
            [
             0.1111111111111111,
             "#46039f"
            ],
            [
             0.2222222222222222,
             "#7201a8"
            ],
            [
             0.3333333333333333,
             "#9c179e"
            ],
            [
             0.4444444444444444,
             "#bd3786"
            ],
            [
             0.5555555555555556,
             "#d8576b"
            ],
            [
             0.6666666666666666,
             "#ed7953"
            ],
            [
             0.7777777777777778,
             "#fb9f3a"
            ],
            [
             0.8888888888888888,
             "#fdca26"
            ],
            [
             1,
             "#f0f921"
            ]
           ],
           "sequentialminus": [
            [
             0,
             "#0d0887"
            ],
            [
             0.1111111111111111,
             "#46039f"
            ],
            [
             0.2222222222222222,
             "#7201a8"
            ],
            [
             0.3333333333333333,
             "#9c179e"
            ],
            [
             0.4444444444444444,
             "#bd3786"
            ],
            [
             0.5555555555555556,
             "#d8576b"
            ],
            [
             0.6666666666666666,
             "#ed7953"
            ],
            [
             0.7777777777777778,
             "#fb9f3a"
            ],
            [
             0.8888888888888888,
             "#fdca26"
            ],
            [
             1,
             "#f0f921"
            ]
           ]
          },
          "colorway": [
           "#636efa",
           "#EF553B",
           "#00cc96",
           "#ab63fa",
           "#FFA15A",
           "#19d3f3",
           "#FF6692",
           "#B6E880",
           "#FF97FF",
           "#FECB52"
          ],
          "font": {
           "color": "#2a3f5f"
          },
          "geo": {
           "bgcolor": "white",
           "lakecolor": "white",
           "landcolor": "#E5ECF6",
           "showlakes": true,
           "showland": true,
           "subunitcolor": "white"
          },
          "hoverlabel": {
           "align": "left"
          },
          "hovermode": "closest",
          "mapbox": {
           "style": "light"
          },
          "paper_bgcolor": "white",
          "plot_bgcolor": "#E5ECF6",
          "polar": {
           "angularaxis": {
            "gridcolor": "white",
            "linecolor": "white",
            "ticks": ""
           },
           "bgcolor": "#E5ECF6",
           "radialaxis": {
            "gridcolor": "white",
            "linecolor": "white",
            "ticks": ""
           }
          },
          "scene": {
           "xaxis": {
            "backgroundcolor": "#E5ECF6",
            "gridcolor": "white",
            "gridwidth": 2,
            "linecolor": "white",
            "showbackground": true,
            "ticks": "",
            "zerolinecolor": "white"
           },
           "yaxis": {
            "backgroundcolor": "#E5ECF6",
            "gridcolor": "white",
            "gridwidth": 2,
            "linecolor": "white",
            "showbackground": true,
            "ticks": "",
            "zerolinecolor": "white"
           },
           "zaxis": {
            "backgroundcolor": "#E5ECF6",
            "gridcolor": "white",
            "gridwidth": 2,
            "linecolor": "white",
            "showbackground": true,
            "ticks": "",
            "zerolinecolor": "white"
           }
          },
          "shapedefaults": {
           "line": {
            "color": "#2a3f5f"
           }
          },
          "ternary": {
           "aaxis": {
            "gridcolor": "white",
            "linecolor": "white",
            "ticks": ""
           },
           "baxis": {
            "gridcolor": "white",
            "linecolor": "white",
            "ticks": ""
           },
           "bgcolor": "#E5ECF6",
           "caxis": {
            "gridcolor": "white",
            "linecolor": "white",
            "ticks": ""
           }
          },
          "title": {
           "x": 0.05
          },
          "xaxis": {
           "automargin": true,
           "gridcolor": "white",
           "linecolor": "white",
           "ticks": "",
           "title": {
            "standoff": 15
           },
           "zerolinecolor": "white",
           "zerolinewidth": 2
          },
          "yaxis": {
           "automargin": true,
           "gridcolor": "white",
           "linecolor": "white",
           "ticks": "",
           "title": {
            "standoff": 15
           },
           "zerolinecolor": "white",
           "zerolinewidth": 2
          }
         }
        },
        "xaxis": {
         "anchor": "y",
         "domain": [
          0,
          1
         ],
         "title": {
          "text": "mbti_type"
         }
        },
        "yaxis": {
         "anchor": "x",
         "domain": [
          0,
          1
         ],
         "title": {
          "text": "value"
         }
        }
       }
      },
      "text/html": [
       "<div>                            <div id=\"7644532d-f762-47e9-aede-0fa0ae2e4f77\" class=\"plotly-graph-div\" style=\"height:525px; width:100%;\"></div>            <script type=\"text/javascript\">                require([\"plotly\"], function(Plotly) {                    window.PLOTLYENV=window.PLOTLYENV || {};                                    if (document.getElementById(\"7644532d-f762-47e9-aede-0fa0ae2e4f77\")) {                    Plotly.newPlot(                        \"7644532d-f762-47e9-aede-0fa0ae2e4f77\",                        [{\"alignmentgroup\": \"True\", \"hovertemplate\": \"variable=id<br>mbti_type=%{x}<br>value=%{y}<extra></extra>\", \"legendgroup\": \"id\", \"marker\": {\"color\": \"#636efa\"}, \"name\": \"id\", \"offsetgroup\": \"id\", \"orientation\": \"v\", \"showlegend\": true, \"textposition\": \"auto\", \"type\": \"bar\", \"x\": [\"INTJ\", \"INFJ\", \"INTP\", \"ISTP\", \"ENFP\", \"ENTJ\", \"ENTP\", \"ISTJ\", \"INFP\", \"ISFP\", \"ENFJ\", \"ISFJ\", \"ESTP\", \"ESTJ\", \"ESFP\", \"ESFJ\", \"XNTP\", \"INTX\", \"ENXP\", \"IXTJ\", \"IXTP\", \"INFX\"], \"xaxis\": \"x\", \"y\": [394, 240, 208, 174, 171, 142, 141, 115, 112, 111, 105, 98, 53, 36, 35, 31, 2, 1, 1, 1, 1, 1], \"yaxis\": \"y\"}],                        {\"barmode\": \"relative\", \"legend\": {\"title\": {\"text\": \"variable\"}, \"tracegroupgap\": 0}, \"margin\": {\"t\": 60}, \"template\": {\"data\": {\"bar\": [{\"error_x\": {\"color\": \"#2a3f5f\"}, \"error_y\": {\"color\": \"#2a3f5f\"}, \"marker\": {\"line\": {\"color\": \"#E5ECF6\", \"width\": 0.5}}, \"type\": \"bar\"}], \"barpolar\": [{\"marker\": {\"line\": {\"color\": \"#E5ECF6\", \"width\": 0.5}}, \"type\": \"barpolar\"}], \"carpet\": [{\"aaxis\": {\"endlinecolor\": \"#2a3f5f\", \"gridcolor\": \"white\", \"linecolor\": \"white\", \"minorgridcolor\": \"white\", \"startlinecolor\": \"#2a3f5f\"}, \"baxis\": {\"endlinecolor\": \"#2a3f5f\", \"gridcolor\": \"white\", \"linecolor\": \"white\", \"minorgridcolor\": \"white\", \"startlinecolor\": \"#2a3f5f\"}, \"type\": \"carpet\"}], \"choropleth\": [{\"colorbar\": {\"outlinewidth\": 0, \"ticks\": \"\"}, \"type\": \"choropleth\"}], \"contour\": [{\"colorbar\": {\"outlinewidth\": 0, \"ticks\": \"\"}, \"colorscale\": [[0.0, \"#0d0887\"], [0.1111111111111111, \"#46039f\"], [0.2222222222222222, \"#7201a8\"], [0.3333333333333333, \"#9c179e\"], [0.4444444444444444, \"#bd3786\"], [0.5555555555555556, \"#d8576b\"], [0.6666666666666666, \"#ed7953\"], [0.7777777777777778, \"#fb9f3a\"], [0.8888888888888888, \"#fdca26\"], [1.0, \"#f0f921\"]], \"type\": \"contour\"}], \"contourcarpet\": [{\"colorbar\": {\"outlinewidth\": 0, \"ticks\": \"\"}, \"type\": \"contourcarpet\"}], \"heatmap\": [{\"colorbar\": {\"outlinewidth\": 0, \"ticks\": \"\"}, \"colorscale\": [[0.0, \"#0d0887\"], [0.1111111111111111, \"#46039f\"], [0.2222222222222222, \"#7201a8\"], [0.3333333333333333, \"#9c179e\"], [0.4444444444444444, \"#bd3786\"], [0.5555555555555556, \"#d8576b\"], [0.6666666666666666, \"#ed7953\"], [0.7777777777777778, \"#fb9f3a\"], [0.8888888888888888, \"#fdca26\"], [1.0, \"#f0f921\"]], \"type\": \"heatmap\"}], \"heatmapgl\": [{\"colorbar\": {\"outlinewidth\": 0, \"ticks\": \"\"}, \"colorscale\": [[0.0, \"#0d0887\"], [0.1111111111111111, \"#46039f\"], [0.2222222222222222, \"#7201a8\"], [0.3333333333333333, \"#9c179e\"], [0.4444444444444444, \"#bd3786\"], [0.5555555555555556, \"#d8576b\"], [0.6666666666666666, \"#ed7953\"], [0.7777777777777778, \"#fb9f3a\"], [0.8888888888888888, \"#fdca26\"], [1.0, \"#f0f921\"]], \"type\": \"heatmapgl\"}], \"histogram\": [{\"marker\": {\"colorbar\": {\"outlinewidth\": 0, \"ticks\": \"\"}}, \"type\": \"histogram\"}], \"histogram2d\": [{\"colorbar\": {\"outlinewidth\": 0, \"ticks\": \"\"}, \"colorscale\": [[0.0, \"#0d0887\"], [0.1111111111111111, \"#46039f\"], [0.2222222222222222, \"#7201a8\"], [0.3333333333333333, \"#9c179e\"], [0.4444444444444444, \"#bd3786\"], [0.5555555555555556, \"#d8576b\"], [0.6666666666666666, \"#ed7953\"], [0.7777777777777778, \"#fb9f3a\"], [0.8888888888888888, \"#fdca26\"], [1.0, \"#f0f921\"]], \"type\": \"histogram2d\"}], \"histogram2dcontour\": [{\"colorbar\": {\"outlinewidth\": 0, \"ticks\": \"\"}, \"colorscale\": [[0.0, \"#0d0887\"], [0.1111111111111111, \"#46039f\"], [0.2222222222222222, \"#7201a8\"], [0.3333333333333333, \"#9c179e\"], [0.4444444444444444, \"#bd3786\"], [0.5555555555555556, \"#d8576b\"], [0.6666666666666666, \"#ed7953\"], [0.7777777777777778, \"#fb9f3a\"], [0.8888888888888888, \"#fdca26\"], [1.0, \"#f0f921\"]], \"type\": \"histogram2dcontour\"}], \"mesh3d\": [{\"colorbar\": {\"outlinewidth\": 0, \"ticks\": \"\"}, \"type\": \"mesh3d\"}], \"parcoords\": [{\"line\": {\"colorbar\": {\"outlinewidth\": 0, \"ticks\": \"\"}}, \"type\": \"parcoords\"}], \"pie\": [{\"automargin\": true, \"type\": \"pie\"}], \"scatter\": [{\"marker\": {\"colorbar\": {\"outlinewidth\": 0, \"ticks\": \"\"}}, \"type\": \"scatter\"}], \"scatter3d\": [{\"line\": {\"colorbar\": {\"outlinewidth\": 0, \"ticks\": \"\"}}, \"marker\": {\"colorbar\": {\"outlinewidth\": 0, \"ticks\": \"\"}}, \"type\": \"scatter3d\"}], \"scattercarpet\": [{\"marker\": {\"colorbar\": {\"outlinewidth\": 0, \"ticks\": \"\"}}, \"type\": \"scattercarpet\"}], \"scattergeo\": [{\"marker\": {\"colorbar\": {\"outlinewidth\": 0, \"ticks\": \"\"}}, \"type\": \"scattergeo\"}], \"scattergl\": [{\"marker\": {\"colorbar\": {\"outlinewidth\": 0, \"ticks\": \"\"}}, \"type\": \"scattergl\"}], \"scattermapbox\": [{\"marker\": {\"colorbar\": {\"outlinewidth\": 0, \"ticks\": \"\"}}, \"type\": \"scattermapbox\"}], \"scatterpolar\": [{\"marker\": {\"colorbar\": {\"outlinewidth\": 0, \"ticks\": \"\"}}, \"type\": \"scatterpolar\"}], \"scatterpolargl\": [{\"marker\": {\"colorbar\": {\"outlinewidth\": 0, \"ticks\": \"\"}}, \"type\": \"scatterpolargl\"}], \"scatterternary\": [{\"marker\": {\"colorbar\": {\"outlinewidth\": 0, \"ticks\": \"\"}}, \"type\": \"scatterternary\"}], \"surface\": [{\"colorbar\": {\"outlinewidth\": 0, \"ticks\": \"\"}, \"colorscale\": [[0.0, \"#0d0887\"], [0.1111111111111111, \"#46039f\"], [0.2222222222222222, \"#7201a8\"], [0.3333333333333333, \"#9c179e\"], [0.4444444444444444, \"#bd3786\"], [0.5555555555555556, \"#d8576b\"], [0.6666666666666666, \"#ed7953\"], [0.7777777777777778, \"#fb9f3a\"], [0.8888888888888888, \"#fdca26\"], [1.0, \"#f0f921\"]], \"type\": \"surface\"}], \"table\": [{\"cells\": {\"fill\": {\"color\": \"#EBF0F8\"}, \"line\": {\"color\": \"white\"}}, \"header\": {\"fill\": {\"color\": \"#C8D4E3\"}, \"line\": {\"color\": \"white\"}}, \"type\": \"table\"}]}, \"layout\": {\"annotationdefaults\": {\"arrowcolor\": \"#2a3f5f\", \"arrowhead\": 0, \"arrowwidth\": 1}, \"autotypenumbers\": \"strict\", \"coloraxis\": {\"colorbar\": {\"outlinewidth\": 0, \"ticks\": \"\"}}, \"colorscale\": {\"diverging\": [[0, \"#8e0152\"], [0.1, \"#c51b7d\"], [0.2, \"#de77ae\"], [0.3, \"#f1b6da\"], [0.4, \"#fde0ef\"], [0.5, \"#f7f7f7\"], [0.6, \"#e6f5d0\"], [0.7, \"#b8e186\"], [0.8, \"#7fbc41\"], [0.9, \"#4d9221\"], [1, \"#276419\"]], \"sequential\": [[0.0, \"#0d0887\"], [0.1111111111111111, \"#46039f\"], [0.2222222222222222, \"#7201a8\"], [0.3333333333333333, \"#9c179e\"], [0.4444444444444444, \"#bd3786\"], [0.5555555555555556, \"#d8576b\"], [0.6666666666666666, \"#ed7953\"], [0.7777777777777778, \"#fb9f3a\"], [0.8888888888888888, \"#fdca26\"], [1.0, \"#f0f921\"]], \"sequentialminus\": [[0.0, \"#0d0887\"], [0.1111111111111111, \"#46039f\"], [0.2222222222222222, \"#7201a8\"], [0.3333333333333333, \"#9c179e\"], [0.4444444444444444, \"#bd3786\"], [0.5555555555555556, \"#d8576b\"], [0.6666666666666666, \"#ed7953\"], [0.7777777777777778, \"#fb9f3a\"], [0.8888888888888888, \"#fdca26\"], [1.0, \"#f0f921\"]]}, \"colorway\": [\"#636efa\", \"#EF553B\", \"#00cc96\", \"#ab63fa\", \"#FFA15A\", \"#19d3f3\", \"#FF6692\", \"#B6E880\", \"#FF97FF\", \"#FECB52\"], \"font\": {\"color\": \"#2a3f5f\"}, \"geo\": {\"bgcolor\": \"white\", \"lakecolor\": \"white\", \"landcolor\": \"#E5ECF6\", \"showlakes\": true, \"showland\": true, \"subunitcolor\": \"white\"}, \"hoverlabel\": {\"align\": \"left\"}, \"hovermode\": \"closest\", \"mapbox\": {\"style\": \"light\"}, \"paper_bgcolor\": \"white\", \"plot_bgcolor\": \"#E5ECF6\", \"polar\": {\"angularaxis\": {\"gridcolor\": \"white\", \"linecolor\": \"white\", \"ticks\": \"\"}, \"bgcolor\": \"#E5ECF6\", \"radialaxis\": {\"gridcolor\": \"white\", \"linecolor\": \"white\", \"ticks\": \"\"}}, \"scene\": {\"xaxis\": {\"backgroundcolor\": \"#E5ECF6\", \"gridcolor\": \"white\", \"gridwidth\": 2, \"linecolor\": \"white\", \"showbackground\": true, \"ticks\": \"\", \"zerolinecolor\": \"white\"}, \"yaxis\": {\"backgroundcolor\": \"#E5ECF6\", \"gridcolor\": \"white\", \"gridwidth\": 2, \"linecolor\": \"white\", \"showbackground\": true, \"ticks\": \"\", \"zerolinecolor\": \"white\"}, \"zaxis\": {\"backgroundcolor\": \"#E5ECF6\", \"gridcolor\": \"white\", \"gridwidth\": 2, \"linecolor\": \"white\", \"showbackground\": true, \"ticks\": \"\", \"zerolinecolor\": \"white\"}}, \"shapedefaults\": {\"line\": {\"color\": \"#2a3f5f\"}}, \"ternary\": {\"aaxis\": {\"gridcolor\": \"white\", \"linecolor\": \"white\", \"ticks\": \"\"}, \"baxis\": {\"gridcolor\": \"white\", \"linecolor\": \"white\", \"ticks\": \"\"}, \"bgcolor\": \"#E5ECF6\", \"caxis\": {\"gridcolor\": \"white\", \"linecolor\": \"white\", \"ticks\": \"\"}}, \"title\": {\"x\": 0.05}, \"xaxis\": {\"automargin\": true, \"gridcolor\": \"white\", \"linecolor\": \"white\", \"ticks\": \"\", \"title\": {\"standoff\": 15}, \"zerolinecolor\": \"white\", \"zerolinewidth\": 2}, \"yaxis\": {\"automargin\": true, \"gridcolor\": \"white\", \"linecolor\": \"white\", \"ticks\": \"\", \"title\": {\"standoff\": 15}, \"zerolinecolor\": \"white\", \"zerolinewidth\": 2}}}, \"xaxis\": {\"anchor\": \"y\", \"domain\": [0.0, 1.0], \"title\": {\"text\": \"mbti_type\"}}, \"yaxis\": {\"anchor\": \"x\", \"domain\": [0.0, 1.0], \"title\": {\"text\": \"value\"}}},                        {\"responsive\": true}                    ).then(function(){\n",
       "                            \n",
       "var gd = document.getElementById('7644532d-f762-47e9-aede-0fa0ae2e4f77');\n",
       "var x = new MutationObserver(function (mutations, observer) {{\n",
       "        var display = window.getComputedStyle(gd).display;\n",
       "        if (!display || display === 'none') {{\n",
       "            console.log([gd, 'removed!']);\n",
       "            Plotly.purge(gd);\n",
       "            observer.disconnect();\n",
       "        }}\n",
       "}});\n",
       "\n",
       "// Listen for the removal of the full notebook cells\n",
       "var notebookContainer = gd.closest('#notebook-container');\n",
       "if (notebookContainer) {{\n",
       "    x.observe(notebookContainer, {childList: true});\n",
       "}}\n",
       "\n",
       "// Listen for the clearing of the current output cell\n",
       "var outputEl = gd.closest('.output');\n",
       "if (outputEl) {{\n",
       "    x.observe(outputEl, {childList: true});\n",
       "}}\n",
       "\n",
       "                        })                };                });            </script>        </div>"
      ]
     },
     "metadata": {},
     "output_type": "display_data"
    }
   ],
   "source": [
    "px.bar(users_df.groupby(\"mbti_type\")[\"id\"].count().sort_values(ascending=False))"
   ]
  },
  {
   "cell_type": "code",
   "execution_count": null,
   "id": "fluid-light",
   "metadata": {},
   "outputs": [],
   "source": []
  }
 ],
 "metadata": {
  "kernelspec": {
   "display_name": "Python 3",
   "language": "python",
   "name": "python3"
  },
  "language_info": {
   "codemirror_mode": {
    "name": "ipython",
    "version": 3
   },
   "file_extension": ".py",
   "mimetype": "text/x-python",
   "name": "python",
   "nbconvert_exporter": "python",
   "pygments_lexer": "ipython3",
   "version": "3.9.1"
  }
 },
 "nbformat": 4,
 "nbformat_minor": 5
}
